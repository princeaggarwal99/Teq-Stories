{
 "cells": [
  {
   "cell_type": "markdown",
   "metadata": {},
   "source": [
    "# statistics - Identify some insights of death  in different state each year"
   ]
  },
  {
   "cell_type": "code",
   "execution_count": 81,
   "metadata": {},
   "outputs": [],
   "source": [
    "import pandas as pd\n",
    "import io, requests\n",
    "\n",
    "df=pd.read_csv(\"NCHS_-_Leading_Causes_of_Death__United_States.csv\")"
   ]
  },
  {
   "cell_type": "code",
   "execution_count": 82,
   "metadata": {},
   "outputs": [
    {
     "data": {
      "text/html": [
       "<div>\n",
       "<style scoped>\n",
       "    .dataframe tbody tr th:only-of-type {\n",
       "        vertical-align: middle;\n",
       "    }\n",
       "\n",
       "    .dataframe tbody tr th {\n",
       "        vertical-align: top;\n",
       "    }\n",
       "\n",
       "    .dataframe thead th {\n",
       "        text-align: right;\n",
       "    }\n",
       "</style>\n",
       "<table border=\"1\" class=\"dataframe\">\n",
       "  <thead>\n",
       "    <tr style=\"text-align: right;\">\n",
       "      <th></th>\n",
       "      <th>Year</th>\n",
       "      <th>113 Cause Name</th>\n",
       "      <th>Cause Name</th>\n",
       "      <th>State</th>\n",
       "      <th>Deaths</th>\n",
       "      <th>Age-adjusted Death Rate</th>\n",
       "    </tr>\n",
       "  </thead>\n",
       "  <tbody>\n",
       "    <tr>\n",
       "      <td>0</td>\n",
       "      <td>2017</td>\n",
       "      <td>Accidents (unintentional injuries) (V01-X59,Y8...</td>\n",
       "      <td>Unintentional injuries</td>\n",
       "      <td>United States</td>\n",
       "      <td>169936</td>\n",
       "      <td>49.4</td>\n",
       "    </tr>\n",
       "    <tr>\n",
       "      <td>1</td>\n",
       "      <td>2017</td>\n",
       "      <td>Accidents (unintentional injuries) (V01-X59,Y8...</td>\n",
       "      <td>Unintentional injuries</td>\n",
       "      <td>Alabama</td>\n",
       "      <td>2703</td>\n",
       "      <td>53.8</td>\n",
       "    </tr>\n",
       "    <tr>\n",
       "      <td>2</td>\n",
       "      <td>2017</td>\n",
       "      <td>Accidents (unintentional injuries) (V01-X59,Y8...</td>\n",
       "      <td>Unintentional injuries</td>\n",
       "      <td>Alaska</td>\n",
       "      <td>436</td>\n",
       "      <td>63.7</td>\n",
       "    </tr>\n",
       "    <tr>\n",
       "      <td>3</td>\n",
       "      <td>2017</td>\n",
       "      <td>Accidents (unintentional injuries) (V01-X59,Y8...</td>\n",
       "      <td>Unintentional injuries</td>\n",
       "      <td>Arizona</td>\n",
       "      <td>4184</td>\n",
       "      <td>56.2</td>\n",
       "    </tr>\n",
       "    <tr>\n",
       "      <td>4</td>\n",
       "      <td>2017</td>\n",
       "      <td>Accidents (unintentional injuries) (V01-X59,Y8...</td>\n",
       "      <td>Unintentional injuries</td>\n",
       "      <td>Arkansas</td>\n",
       "      <td>1625</td>\n",
       "      <td>51.8</td>\n",
       "    </tr>\n",
       "    <tr>\n",
       "      <td>5</td>\n",
       "      <td>2017</td>\n",
       "      <td>Accidents (unintentional injuries) (V01-X59,Y8...</td>\n",
       "      <td>Unintentional injuries</td>\n",
       "      <td>California</td>\n",
       "      <td>13840</td>\n",
       "      <td>33.2</td>\n",
       "    </tr>\n",
       "  </tbody>\n",
       "</table>\n",
       "</div>"
      ],
      "text/plain": [
       "   Year                                     113 Cause Name  \\\n",
       "0  2017  Accidents (unintentional injuries) (V01-X59,Y8...   \n",
       "1  2017  Accidents (unintentional injuries) (V01-X59,Y8...   \n",
       "2  2017  Accidents (unintentional injuries) (V01-X59,Y8...   \n",
       "3  2017  Accidents (unintentional injuries) (V01-X59,Y8...   \n",
       "4  2017  Accidents (unintentional injuries) (V01-X59,Y8...   \n",
       "5  2017  Accidents (unintentional injuries) (V01-X59,Y8...   \n",
       "\n",
       "               Cause Name          State  Deaths  Age-adjusted Death Rate  \n",
       "0  Unintentional injuries  United States  169936                     49.4  \n",
       "1  Unintentional injuries        Alabama    2703                     53.8  \n",
       "2  Unintentional injuries         Alaska     436                     63.7  \n",
       "3  Unintentional injuries        Arizona    4184                     56.2  \n",
       "4  Unintentional injuries       Arkansas    1625                     51.8  \n",
       "5  Unintentional injuries     California   13840                     33.2  "
      ]
     },
     "execution_count": 82,
     "metadata": {},
     "output_type": "execute_result"
    }
   ],
   "source": [
    "df.head(6)"
   ]
  },
  {
   "cell_type": "code",
   "execution_count": 83,
   "metadata": {},
   "outputs": [
    {
     "data": {
      "text/html": [
       "<div>\n",
       "<style scoped>\n",
       "    .dataframe tbody tr th:only-of-type {\n",
       "        vertical-align: middle;\n",
       "    }\n",
       "\n",
       "    .dataframe tbody tr th {\n",
       "        vertical-align: top;\n",
       "    }\n",
       "\n",
       "    .dataframe thead th {\n",
       "        text-align: right;\n",
       "    }\n",
       "</style>\n",
       "<table border=\"1\" class=\"dataframe\">\n",
       "  <thead>\n",
       "    <tr style=\"text-align: right;\">\n",
       "      <th></th>\n",
       "      <th>Year</th>\n",
       "      <th>113 Cause Name</th>\n",
       "      <th>Cause Name</th>\n",
       "      <th>State</th>\n",
       "      <th>Deaths</th>\n",
       "      <th>Age-adjusted Death Rate</th>\n",
       "    </tr>\n",
       "  </thead>\n",
       "  <tbody>\n",
       "    <tr>\n",
       "      <td>10863</td>\n",
       "      <td>1999</td>\n",
       "      <td>Nephritis, nephrotic syndrome and nephrosis (N...</td>\n",
       "      <td>Kidney disease</td>\n",
       "      <td>Virginia</td>\n",
       "      <td>1035</td>\n",
       "      <td>16.9</td>\n",
       "    </tr>\n",
       "    <tr>\n",
       "      <td>10864</td>\n",
       "      <td>1999</td>\n",
       "      <td>Nephritis, nephrotic syndrome and nephrosis (N...</td>\n",
       "      <td>Kidney disease</td>\n",
       "      <td>Washington</td>\n",
       "      <td>278</td>\n",
       "      <td>5.2</td>\n",
       "    </tr>\n",
       "    <tr>\n",
       "      <td>10865</td>\n",
       "      <td>1999</td>\n",
       "      <td>Nephritis, nephrotic syndrome and nephrosis (N...</td>\n",
       "      <td>Kidney disease</td>\n",
       "      <td>West Virginia</td>\n",
       "      <td>345</td>\n",
       "      <td>16.4</td>\n",
       "    </tr>\n",
       "    <tr>\n",
       "      <td>10866</td>\n",
       "      <td>1999</td>\n",
       "      <td>Nephritis, nephrotic syndrome and nephrosis (N...</td>\n",
       "      <td>Kidney disease</td>\n",
       "      <td>Wisconsin</td>\n",
       "      <td>677</td>\n",
       "      <td>11.9</td>\n",
       "    </tr>\n",
       "    <tr>\n",
       "      <td>10867</td>\n",
       "      <td>1999</td>\n",
       "      <td>Nephritis, nephrotic syndrome and nephrosis (N...</td>\n",
       "      <td>Kidney disease</td>\n",
       "      <td>Wyoming</td>\n",
       "      <td>30</td>\n",
       "      <td>6.8</td>\n",
       "    </tr>\n",
       "  </tbody>\n",
       "</table>\n",
       "</div>"
      ],
      "text/plain": [
       "       Year                                     113 Cause Name  \\\n",
       "10863  1999  Nephritis, nephrotic syndrome and nephrosis (N...   \n",
       "10864  1999  Nephritis, nephrotic syndrome and nephrosis (N...   \n",
       "10865  1999  Nephritis, nephrotic syndrome and nephrosis (N...   \n",
       "10866  1999  Nephritis, nephrotic syndrome and nephrosis (N...   \n",
       "10867  1999  Nephritis, nephrotic syndrome and nephrosis (N...   \n",
       "\n",
       "           Cause Name          State  Deaths  Age-adjusted Death Rate  \n",
       "10863  Kidney disease       Virginia    1035                     16.9  \n",
       "10864  Kidney disease     Washington     278                      5.2  \n",
       "10865  Kidney disease  West Virginia     345                     16.4  \n",
       "10866  Kidney disease      Wisconsin     677                     11.9  \n",
       "10867  Kidney disease        Wyoming      30                      6.8  "
      ]
     },
     "execution_count": 83,
     "metadata": {},
     "output_type": "execute_result"
    }
   ],
   "source": [
    "df.tail()"
   ]
  },
  {
   "cell_type": "code",
   "execution_count": 84,
   "metadata": {},
   "outputs": [
    {
     "name": "stdout",
     "output_type": "stream",
     "text": [
      "<class 'pandas.core.frame.DataFrame'>\n",
      "RangeIndex: 10868 entries, 0 to 10867\n",
      "Data columns (total 6 columns):\n",
      "Year                       10868 non-null int64\n",
      "113 Cause Name             10868 non-null object\n",
      "Cause Name                 10868 non-null object\n",
      "State                      10868 non-null object\n",
      "Deaths                     10868 non-null int64\n",
      "Age-adjusted Death Rate    10868 non-null float64\n",
      "dtypes: float64(1), int64(2), object(3)\n",
      "memory usage: 509.6+ KB\n"
     ]
    }
   ],
   "source": [
    "df.info()"
   ]
  },
  {
   "cell_type": "code",
   "execution_count": 85,
   "metadata": {},
   "outputs": [
    {
     "data": {
      "text/html": [
       "<div>\n",
       "<style scoped>\n",
       "    .dataframe tbody tr th:only-of-type {\n",
       "        vertical-align: middle;\n",
       "    }\n",
       "\n",
       "    .dataframe tbody tr th {\n",
       "        vertical-align: top;\n",
       "    }\n",
       "\n",
       "    .dataframe thead th {\n",
       "        text-align: right;\n",
       "    }\n",
       "</style>\n",
       "<table border=\"1\" class=\"dataframe\">\n",
       "  <thead>\n",
       "    <tr style=\"text-align: right;\">\n",
       "      <th></th>\n",
       "      <th>Year</th>\n",
       "      <th>Deaths</th>\n",
       "      <th>Age-adjusted Death Rate</th>\n",
       "    </tr>\n",
       "  </thead>\n",
       "  <tbody>\n",
       "    <tr>\n",
       "      <td>count</td>\n",
       "      <td>10868.000000</td>\n",
       "      <td>1.086800e+04</td>\n",
       "      <td>10868.000000</td>\n",
       "    </tr>\n",
       "    <tr>\n",
       "      <td>mean</td>\n",
       "      <td>2008.000000</td>\n",
       "      <td>1.545991e+04</td>\n",
       "      <td>127.563894</td>\n",
       "    </tr>\n",
       "    <tr>\n",
       "      <td>std</td>\n",
       "      <td>5.477478</td>\n",
       "      <td>1.128760e+05</td>\n",
       "      <td>223.639771</td>\n",
       "    </tr>\n",
       "    <tr>\n",
       "      <td>min</td>\n",
       "      <td>1999.000000</td>\n",
       "      <td>2.100000e+01</td>\n",
       "      <td>2.600000</td>\n",
       "    </tr>\n",
       "    <tr>\n",
       "      <td>25%</td>\n",
       "      <td>2003.000000</td>\n",
       "      <td>6.120000e+02</td>\n",
       "      <td>19.200000</td>\n",
       "    </tr>\n",
       "    <tr>\n",
       "      <td>50%</td>\n",
       "      <td>2008.000000</td>\n",
       "      <td>1.718500e+03</td>\n",
       "      <td>35.900000</td>\n",
       "    </tr>\n",
       "    <tr>\n",
       "      <td>75%</td>\n",
       "      <td>2013.000000</td>\n",
       "      <td>5.756500e+03</td>\n",
       "      <td>151.725000</td>\n",
       "    </tr>\n",
       "    <tr>\n",
       "      <td>max</td>\n",
       "      <td>2017.000000</td>\n",
       "      <td>2.813503e+06</td>\n",
       "      <td>1087.300000</td>\n",
       "    </tr>\n",
       "  </tbody>\n",
       "</table>\n",
       "</div>"
      ],
      "text/plain": [
       "               Year        Deaths  Age-adjusted Death Rate\n",
       "count  10868.000000  1.086800e+04             10868.000000\n",
       "mean    2008.000000  1.545991e+04               127.563894\n",
       "std        5.477478  1.128760e+05               223.639771\n",
       "min     1999.000000  2.100000e+01                 2.600000\n",
       "25%     2003.000000  6.120000e+02                19.200000\n",
       "50%     2008.000000  1.718500e+03                35.900000\n",
       "75%     2013.000000  5.756500e+03               151.725000\n",
       "max     2017.000000  2.813503e+06              1087.300000"
      ]
     },
     "execution_count": 85,
     "metadata": {},
     "output_type": "execute_result"
    }
   ],
   "source": [
    "df.describe()"
   ]
  },
  {
   "cell_type": "code",
   "execution_count": 86,
   "metadata": {},
   "outputs": [
    {
     "data": {
      "text/plain": [
       "Year                       0\n",
       "113 Cause Name             0\n",
       "Cause Name                 0\n",
       "State                      0\n",
       "Deaths                     0\n",
       "Age-adjusted Death Rate    0\n",
       "dtype: int64"
      ]
     },
     "execution_count": 86,
     "metadata": {},
     "output_type": "execute_result"
    }
   ],
   "source": [
    "df.isnull().sum()"
   ]
  },
  {
   "cell_type": "code",
   "execution_count": 87,
   "metadata": {},
   "outputs": [
    {
     "data": {
      "text/html": [
       "<div>\n",
       "<style scoped>\n",
       "    .dataframe tbody tr th:only-of-type {\n",
       "        vertical-align: middle;\n",
       "    }\n",
       "\n",
       "    .dataframe tbody tr th {\n",
       "        vertical-align: top;\n",
       "    }\n",
       "\n",
       "    .dataframe thead th {\n",
       "        text-align: right;\n",
       "    }\n",
       "</style>\n",
       "<table border=\"1\" class=\"dataframe\">\n",
       "  <thead>\n",
       "    <tr style=\"text-align: right;\">\n",
       "      <th></th>\n",
       "      <th>Year</th>\n",
       "      <th>Deaths</th>\n",
       "      <th>Age-adjusted Death Rate</th>\n",
       "    </tr>\n",
       "  </thead>\n",
       "  <tbody>\n",
       "    <tr>\n",
       "      <td>Year</td>\n",
       "      <td>1.000000</td>\n",
       "      <td>0.004417</td>\n",
       "      <td>-0.038853</td>\n",
       "    </tr>\n",
       "    <tr>\n",
       "      <td>Deaths</td>\n",
       "      <td>0.004417</td>\n",
       "      <td>1.000000</td>\n",
       "      <td>0.231048</td>\n",
       "    </tr>\n",
       "    <tr>\n",
       "      <td>Age-adjusted Death Rate</td>\n",
       "      <td>-0.038853</td>\n",
       "      <td>0.231048</td>\n",
       "      <td>1.000000</td>\n",
       "    </tr>\n",
       "  </tbody>\n",
       "</table>\n",
       "</div>"
      ],
      "text/plain": [
       "                             Year    Deaths  Age-adjusted Death Rate\n",
       "Year                     1.000000  0.004417                -0.038853\n",
       "Deaths                   0.004417  1.000000                 0.231048\n",
       "Age-adjusted Death Rate -0.038853  0.231048                 1.000000"
      ]
     },
     "execution_count": 87,
     "metadata": {},
     "output_type": "execute_result"
    }
   ],
   "source": [
    "df.corr()"
   ]
  },
  {
   "cell_type": "code",
   "execution_count": 88,
   "metadata": {},
   "outputs": [],
   "source": [
    "df=df.drop(['113 Cause Name',\"Age-adjusted Death Rate\"],axis=1)\n"
   ]
  },
  {
   "cell_type": "code",
   "execution_count": 89,
   "metadata": {},
   "outputs": [
    {
     "data": {
      "text/html": [
       "<div>\n",
       "<style scoped>\n",
       "    .dataframe tbody tr th:only-of-type {\n",
       "        vertical-align: middle;\n",
       "    }\n",
       "\n",
       "    .dataframe tbody tr th {\n",
       "        vertical-align: top;\n",
       "    }\n",
       "\n",
       "    .dataframe thead th {\n",
       "        text-align: right;\n",
       "    }\n",
       "</style>\n",
       "<table border=\"1\" class=\"dataframe\">\n",
       "  <thead>\n",
       "    <tr style=\"text-align: right;\">\n",
       "      <th></th>\n",
       "      <th>Year</th>\n",
       "      <th>Cause Name</th>\n",
       "      <th>State</th>\n",
       "      <th>Deaths</th>\n",
       "    </tr>\n",
       "  </thead>\n",
       "  <tbody>\n",
       "    <tr>\n",
       "      <td>0</td>\n",
       "      <td>2017</td>\n",
       "      <td>Unintentional injuries</td>\n",
       "      <td>United States</td>\n",
       "      <td>169936</td>\n",
       "    </tr>\n",
       "    <tr>\n",
       "      <td>1</td>\n",
       "      <td>2017</td>\n",
       "      <td>Unintentional injuries</td>\n",
       "      <td>Alabama</td>\n",
       "      <td>2703</td>\n",
       "    </tr>\n",
       "    <tr>\n",
       "      <td>2</td>\n",
       "      <td>2017</td>\n",
       "      <td>Unintentional injuries</td>\n",
       "      <td>Alaska</td>\n",
       "      <td>436</td>\n",
       "    </tr>\n",
       "    <tr>\n",
       "      <td>3</td>\n",
       "      <td>2017</td>\n",
       "      <td>Unintentional injuries</td>\n",
       "      <td>Arizona</td>\n",
       "      <td>4184</td>\n",
       "    </tr>\n",
       "    <tr>\n",
       "      <td>4</td>\n",
       "      <td>2017</td>\n",
       "      <td>Unintentional injuries</td>\n",
       "      <td>Arkansas</td>\n",
       "      <td>1625</td>\n",
       "    </tr>\n",
       "    <tr>\n",
       "      <td>...</td>\n",
       "      <td>...</td>\n",
       "      <td>...</td>\n",
       "      <td>...</td>\n",
       "      <td>...</td>\n",
       "    </tr>\n",
       "    <tr>\n",
       "      <td>10863</td>\n",
       "      <td>1999</td>\n",
       "      <td>Kidney disease</td>\n",
       "      <td>Virginia</td>\n",
       "      <td>1035</td>\n",
       "    </tr>\n",
       "    <tr>\n",
       "      <td>10864</td>\n",
       "      <td>1999</td>\n",
       "      <td>Kidney disease</td>\n",
       "      <td>Washington</td>\n",
       "      <td>278</td>\n",
       "    </tr>\n",
       "    <tr>\n",
       "      <td>10865</td>\n",
       "      <td>1999</td>\n",
       "      <td>Kidney disease</td>\n",
       "      <td>West Virginia</td>\n",
       "      <td>345</td>\n",
       "    </tr>\n",
       "    <tr>\n",
       "      <td>10866</td>\n",
       "      <td>1999</td>\n",
       "      <td>Kidney disease</td>\n",
       "      <td>Wisconsin</td>\n",
       "      <td>677</td>\n",
       "    </tr>\n",
       "    <tr>\n",
       "      <td>10867</td>\n",
       "      <td>1999</td>\n",
       "      <td>Kidney disease</td>\n",
       "      <td>Wyoming</td>\n",
       "      <td>30</td>\n",
       "    </tr>\n",
       "  </tbody>\n",
       "</table>\n",
       "<p>10868 rows × 4 columns</p>\n",
       "</div>"
      ],
      "text/plain": [
       "       Year              Cause Name          State  Deaths\n",
       "0      2017  Unintentional injuries  United States  169936\n",
       "1      2017  Unintentional injuries        Alabama    2703\n",
       "2      2017  Unintentional injuries         Alaska     436\n",
       "3      2017  Unintentional injuries        Arizona    4184\n",
       "4      2017  Unintentional injuries       Arkansas    1625\n",
       "...     ...                     ...            ...     ...\n",
       "10863  1999          Kidney disease       Virginia    1035\n",
       "10864  1999          Kidney disease     Washington     278\n",
       "10865  1999          Kidney disease  West Virginia     345\n",
       "10866  1999          Kidney disease      Wisconsin     677\n",
       "10867  1999          Kidney disease        Wyoming      30\n",
       "\n",
       "[10868 rows x 4 columns]"
      ]
     },
     "execution_count": 89,
     "metadata": {},
     "output_type": "execute_result"
    }
   ],
   "source": [
    "df"
   ]
  },
  {
   "cell_type": "code",
   "execution_count": 90,
   "metadata": {},
   "outputs": [
    {
     "data": {
      "image/png": "[encoded data removed]",
      "text/plain": [
       "<Figure size 432x288 with 1 Axes>"
      ]
     },
     "metadata": {
      "needs_background": "light"
     },
     "output_type": "display_data"
    }
   ],
   "source": [
    "sns.barplot(y=df['Cause Name'],x=df['Deaths'])\n",
    "plt.show()"
   ]
  },
  {
   "cell_type": "code",
   "execution_count": 102,
   "metadata": {},
   "outputs": [],
   "source": [
    "#major causes for deaths are : Cancer , Heart disease \n",
    "# death rate count per is increased constantly"
   ]
  },
  {
   "cell_type": "code",
   "execution_count": 91,
   "metadata": {},
   "outputs": [
    {
     "data": {
      "text/plain": [
       "array([2017, 2007, 2016, 2015, 2014, 2013, 2012, 2011, 2010, 2009, 2008,\n",
       "       2006, 2005, 2004, 2003, 2002, 2001, 2000, 1999], dtype=int64)"
      ]
     },
     "execution_count": 91,
     "metadata": {},
     "output_type": "execute_result"
    }
   ],
   "source": [
    "df['Year'].unique()"
   ]
  },
  {
   "cell_type": "code",
   "execution_count": 100,
   "metadata": {},
   "outputs": [
    {
     "data": {
      "text/plain": [
       "Year         2017\n",
       "State     Wyoming\n",
       "Deaths    2813503\n",
       "dtype: object"
      ]
     },
     "execution_count": 100,
     "metadata": {},
     "output_type": "execute_result"
    }
   ],
   "source": [
    "#most deaths caused by all causes are below including the state and year and no of deaths: \n",
    "data=df.groupby(\"Cause Name\").max()\n",
    "data.max()"
   ]
  },
  {
   "cell_type": "code",
   "execution_count": 101,
   "metadata": {},
   "outputs": [
    {
     "data": {
      "text/plain": [
       "Year         1999\n",
       "State     Alabama\n",
       "Deaths         21\n",
       "dtype: object"
      ]
     },
     "execution_count": 101,
     "metadata": {},
     "output_type": "execute_result"
    }
   ],
   "source": [
    "data=df.groupby(\"Cause Name\").min()\n",
    "data.min()"
   ]
  },
  {
   "cell_type": "code",
   "execution_count": 94,
   "metadata": {},
   "outputs": [],
   "source": [
    "# most deaths in 2017 in Wyoming and least in 1999 in  Alabama\n",
    "\n"
   ]
  },
  {
   "cell_type": "code",
   "execution_count": 105,
   "metadata": {},
   "outputs": [
    {
     "data": {
      "text/html": [
       "<div>\n",
       "<style scoped>\n",
       "    .dataframe tbody tr th:only-of-type {\n",
       "        vertical-align: middle;\n",
       "    }\n",
       "\n",
       "    .dataframe tbody tr th {\n",
       "        vertical-align: top;\n",
       "    }\n",
       "\n",
       "    .dataframe thead th {\n",
       "        text-align: right;\n",
       "    }\n",
       "</style>\n",
       "<table border=\"1\" class=\"dataframe\">\n",
       "  <thead>\n",
       "    <tr style=\"text-align: right;\">\n",
       "      <th></th>\n",
       "      <th>Cause Name</th>\n",
       "      <th>State</th>\n",
       "      <th>Deaths</th>\n",
       "    </tr>\n",
       "    <tr>\n",
       "      <th>Year</th>\n",
       "      <th></th>\n",
       "      <th></th>\n",
       "      <th></th>\n",
       "    </tr>\n",
       "  </thead>\n",
       "  <tbody>\n",
       "    <tr>\n",
       "      <td>1999</td>\n",
       "      <td>Unintentional injuries</td>\n",
       "      <td>Wyoming</td>\n",
       "      <td>2391399</td>\n",
       "    </tr>\n",
       "    <tr>\n",
       "      <td>2000</td>\n",
       "      <td>Unintentional injuries</td>\n",
       "      <td>Wyoming</td>\n",
       "      <td>2403351</td>\n",
       "    </tr>\n",
       "    <tr>\n",
       "      <td>2001</td>\n",
       "      <td>Unintentional injuries</td>\n",
       "      <td>Wyoming</td>\n",
       "      <td>2416425</td>\n",
       "    </tr>\n",
       "    <tr>\n",
       "      <td>2002</td>\n",
       "      <td>Unintentional injuries</td>\n",
       "      <td>Wyoming</td>\n",
       "      <td>2443387</td>\n",
       "    </tr>\n",
       "    <tr>\n",
       "      <td>2003</td>\n",
       "      <td>Unintentional injuries</td>\n",
       "      <td>Wyoming</td>\n",
       "      <td>2448288</td>\n",
       "    </tr>\n",
       "    <tr>\n",
       "      <td>2004</td>\n",
       "      <td>Unintentional injuries</td>\n",
       "      <td>Wyoming</td>\n",
       "      <td>2397615</td>\n",
       "    </tr>\n",
       "    <tr>\n",
       "      <td>2005</td>\n",
       "      <td>Unintentional injuries</td>\n",
       "      <td>Wyoming</td>\n",
       "      <td>2448017</td>\n",
       "    </tr>\n",
       "    <tr>\n",
       "      <td>2006</td>\n",
       "      <td>Unintentional injuries</td>\n",
       "      <td>Wyoming</td>\n",
       "      <td>2426264</td>\n",
       "    </tr>\n",
       "    <tr>\n",
       "      <td>2007</td>\n",
       "      <td>Unintentional injuries</td>\n",
       "      <td>Wyoming</td>\n",
       "      <td>2423712</td>\n",
       "    </tr>\n",
       "    <tr>\n",
       "      <td>2008</td>\n",
       "      <td>Unintentional injuries</td>\n",
       "      <td>Wyoming</td>\n",
       "      <td>2471984</td>\n",
       "    </tr>\n",
       "    <tr>\n",
       "      <td>2009</td>\n",
       "      <td>Unintentional injuries</td>\n",
       "      <td>Wyoming</td>\n",
       "      <td>2437163</td>\n",
       "    </tr>\n",
       "    <tr>\n",
       "      <td>2010</td>\n",
       "      <td>Unintentional injuries</td>\n",
       "      <td>Wyoming</td>\n",
       "      <td>2468435</td>\n",
       "    </tr>\n",
       "    <tr>\n",
       "      <td>2011</td>\n",
       "      <td>Unintentional injuries</td>\n",
       "      <td>Wyoming</td>\n",
       "      <td>2515458</td>\n",
       "    </tr>\n",
       "    <tr>\n",
       "      <td>2012</td>\n",
       "      <td>Unintentional injuries</td>\n",
       "      <td>Wyoming</td>\n",
       "      <td>2543279</td>\n",
       "    </tr>\n",
       "    <tr>\n",
       "      <td>2013</td>\n",
       "      <td>Unintentional injuries</td>\n",
       "      <td>Wyoming</td>\n",
       "      <td>2596993</td>\n",
       "    </tr>\n",
       "    <tr>\n",
       "      <td>2014</td>\n",
       "      <td>Unintentional injuries</td>\n",
       "      <td>Wyoming</td>\n",
       "      <td>2626418</td>\n",
       "    </tr>\n",
       "    <tr>\n",
       "      <td>2015</td>\n",
       "      <td>Unintentional injuries</td>\n",
       "      <td>Wyoming</td>\n",
       "      <td>2712630</td>\n",
       "    </tr>\n",
       "    <tr>\n",
       "      <td>2016</td>\n",
       "      <td>Unintentional injuries</td>\n",
       "      <td>Wyoming</td>\n",
       "      <td>2744248</td>\n",
       "    </tr>\n",
       "    <tr>\n",
       "      <td>2017</td>\n",
       "      <td>Unintentional injuries</td>\n",
       "      <td>Wyoming</td>\n",
       "      <td>2813503</td>\n",
       "    </tr>\n",
       "  </tbody>\n",
       "</table>\n",
       "</div>"
      ],
      "text/plain": [
       "                  Cause Name    State   Deaths\n",
       "Year                                          \n",
       "1999  Unintentional injuries  Wyoming  2391399\n",
       "2000  Unintentional injuries  Wyoming  2403351\n",
       "2001  Unintentional injuries  Wyoming  2416425\n",
       "2002  Unintentional injuries  Wyoming  2443387\n",
       "2003  Unintentional injuries  Wyoming  2448288\n",
       "2004  Unintentional injuries  Wyoming  2397615\n",
       "2005  Unintentional injuries  Wyoming  2448017\n",
       "2006  Unintentional injuries  Wyoming  2426264\n",
       "2007  Unintentional injuries  Wyoming  2423712\n",
       "2008  Unintentional injuries  Wyoming  2471984\n",
       "2009  Unintentional injuries  Wyoming  2437163\n",
       "2010  Unintentional injuries  Wyoming  2468435\n",
       "2011  Unintentional injuries  Wyoming  2515458\n",
       "2012  Unintentional injuries  Wyoming  2543279\n",
       "2013  Unintentional injuries  Wyoming  2596993\n",
       "2014  Unintentional injuries  Wyoming  2626418\n",
       "2015  Unintentional injuries  Wyoming  2712630\n",
       "2016  Unintentional injuries  Wyoming  2744248\n",
       "2017  Unintentional injuries  Wyoming  2813503"
      ]
     },
     "execution_count": 105,
     "metadata": {},
     "output_type": "execute_result"
    }
   ],
   "source": [
    "data=df.groupby(\"Year\").max()\n",
    "data"
   ]
  },
  {
   "cell_type": "code",
   "execution_count": 106,
   "metadata": {},
   "outputs": [
    {
     "data": {
      "text/plain": [
       "Cause Name    All causes\n",
       "State            Alabama\n",
       "Deaths                21\n",
       "dtype: object"
      ]
     },
     "execution_count": 106,
     "metadata": {},
     "output_type": "execute_result"
    }
   ],
   "source": [
    "data=df.groupby(\"Year\").min()\n",
    "data.min()"
   ]
  },
  {
   "cell_type": "code",
   "execution_count": 107,
   "metadata": {},
   "outputs": [],
   "source": [
    "# most deaths in 2017 in Wyoming  are 2813503 and least in 1999 in  Alabama are 21\n",
    "\n"
   ]
  },
  {
   "cell_type": "code",
   "execution_count": 116,
   "metadata": {},
   "outputs": [
    {
     "data": {
      "text/plain": [
       "State\n",
       "Alabama                  1603535\n",
       "Alaska                    117890\n",
       "Arizona                  1572443\n",
       "Arkansas                  987455\n",
       "California               8169513\n",
       "Colorado                 1039435\n",
       "Connecticut               981027\n",
       "Delaware                  255015\n",
       "District of Columbia      168907\n",
       "Florida                  5868231\n",
       "Georgia                  2326265\n",
       "Hawaii                    320652\n",
       "Idaho                     375595\n",
       "Illinois                 3489953\n",
       "Indiana                  1934641\n",
       "Iowa                      954486\n",
       "Kansas                    831840\n",
       "Kentucky                 1423885\n",
       "Louisiana                1409567\n",
       "Maine                     433412\n",
       "Maryland                 1469677\n",
       "Massachusetts            1812189\n",
       "Michigan                 3011369\n",
       "Minnesota                1288025\n",
       "Mississippi               992097\n",
       "Missouri                 1905549\n",
       "Montana                   294784\n",
       "Nebraska                  513032\n",
       "Nevada                    652604\n",
       "New Hampshire             353884\n",
       "New Jersey               2397044\n",
       "New Mexico                521279\n",
       "New York                 5161056\n",
       "North Carolina           2608123\n",
       "North Dakota              202091\n",
       "Ohio                     3716207\n",
       "Oklahoma                 1243157\n",
       "Oregon                   1064013\n",
       "Pennsylvania             4304492\n",
       "Rhode Island              327640\n",
       "South Carolina           1364864\n",
       "South Dakota              244178\n",
       "Tennessee                2012251\n",
       "Texas                    5535028\n",
       "United States           84009152\n",
       "Utah                      472567\n",
       "Vermont                   179348\n",
       "Virginia                 1989346\n",
       "Washington               1635078\n",
       "West Virginia             721988\n",
       "Wisconsin                1607291\n",
       "Wyoming                   145154\n",
       "Name: Deaths, dtype: int64"
      ]
     },
     "execution_count": 116,
     "metadata": {},
     "output_type": "execute_result"
    }
   ],
   "source": [
    "# total deaths in every state\n",
    "data=df[\"Deaths\"].groupby(df[\"State\"]).sum()\n",
    "data"
   ]
  },
  {
   "cell_type": "code",
   "execution_count": 117,
   "metadata": {},
   "outputs": [
    {
     "data": {
      "text/plain": [
       "Year\n",
       "1999    8594450\n",
       "2000    8611090\n",
       "2001    8631566\n",
       "2002    8724520\n",
       "2003    8720806\n",
       "2004    8523496\n",
       "2005    8675996\n",
       "2006    8561880\n",
       "2007    8540026\n",
       "2008    8689930\n",
       "2009    8551328\n",
       "2010    8641568\n",
       "2011    8769558\n",
       "2012    8839734\n",
       "2013    9014608\n",
       "2014    9129652\n",
       "2015    9451294\n",
       "2016    9556734\n",
       "2017    9790068\n",
       "Name: Deaths, dtype: int64"
      ]
     },
     "execution_count": 117,
     "metadata": {},
     "output_type": "execute_result"
    }
   ],
   "source": [
    "# total deaths in every year\n",
    "data=df[\"Deaths\"].groupby(df[\"Year\"]).sum()\n",
    "data"
   ]
  },
  {
   "cell_type": "code",
   "execution_count": 118,
   "metadata": {},
   "outputs": [
    {
     "data": {
      "text/plain": [
       "Cause Name\n",
       "All causes                 95457138\n",
       "Alzheimer's disease         2989632\n",
       "CLRD                        5189854\n",
       "Cancer                     21687288\n",
       "Diabetes                    2799886\n",
       "Heart disease              24445280\n",
       "Influenza and pneumonia     2189282\n",
       "Kidney disease              1717226\n",
       "Stroke                      5453046\n",
       "Suicide                     1394032\n",
       "Unintentional injuries      4695640\n",
       "Name: Deaths, dtype: int64"
      ]
     },
     "execution_count": 118,
     "metadata": {},
     "output_type": "execute_result"
    }
   ],
   "source": [
    "# total deaths by every cause\n",
    "data=df[\"Deaths\"].groupby(df[\"Cause Name\"]).sum()\n",
    "data"
   ]
  },
  {
   "cell_type": "code",
   "execution_count": null,
   "metadata": {},
   "outputs": [],
   "source": []
  },
  {
   "cell_type": "code",
   "execution_count": null,
   "metadata": {},
   "outputs": [],
   "source": []
  },
  {
   "cell_type": "code",
   "execution_count": null,
   "metadata": {},
   "outputs": [],
   "source": []
  },
  {
   "cell_type": "code",
   "execution_count": null,
   "metadata": {},
   "outputs": [],
   "source": []
  }
 ],
 "metadata": {
  "kernelspec": {
   "display_name": "Python 3",
   "language": "python",
   "name": "python3"
  },
  "language_info": {
   "codemirror_mode": {
    "name": "ipython",
    "version": 3
   },
   "file_extension": ".py",
   "mimetype": "text/x-python",
   "name": "python",
   "nbconvert_exporter": "python",
   "pygments_lexer": "ipython3",
   "version": "3.7.4"
  }
 },
 "nbformat": 4,
 "nbformat_minor": 2
}
