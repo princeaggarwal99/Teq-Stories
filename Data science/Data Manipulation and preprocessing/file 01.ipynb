{
 "cells": [
  {
   "cell_type": "markdown",
   "metadata": {},
   "source": [
    "# Data Manipulation and preprocessing -numpy and pandas"
   ]
  },
  {
   "cell_type": "code",
   "execution_count": 2,
   "metadata": {},
   "outputs": [],
   "source": [
    "# importing libraries\n",
    "import pandas as pd \n",
    "import numpy as np\n",
    "import warnings\n",
    "warnings.filterwarnings('ignore')\n"
   ]
  },
  {
   "cell_type": "code",
   "execution_count": 6,
   "metadata": {},
   "outputs": [
    {
     "data": {
      "text/plain": [
       "array([1, 2, 3, 4, 5, 6, 7, 8, 9])"
      ]
     },
     "execution_count": 6,
     "metadata": {},
     "output_type": "execute_result"
    }
   ],
   "source": [
    "# NumPy array with elements from 1 to 9\n",
    "x = np.array([1, 2, 3, 4, 5, 6, 7, 8, 9])\n",
    "x"
   ]
  },
  {
   "cell_type": "code",
   "execution_count": 8,
   "metadata": {},
   "outputs": [
    {
     "data": {
      "text/plain": [
       "array([2, 4, 7])"
      ]
     },
     "execution_count": 8,
     "metadata": {},
     "output_type": "execute_result"
    }
   ],
   "source": [
    "new_arr = x[np.array([1, 3, -3])]\n",
    "new_arr\n"
   ]
  },
  {
   "cell_type": "code",
   "execution_count": 19,
   "metadata": {},
   "outputs": [],
   "source": [
    "#NumPy Matrix Multiplication with np.matmul() Example\n",
    "a=np.array([[1,2],[2,3]])\n",
    "b=np.array([[2,6],[7,8]])\n"
   ]
  },
  {
   "cell_type": "code",
   "execution_count": 20,
   "metadata": {},
   "outputs": [
    {
     "data": {
      "text/plain": [
       "array([[16, 22],\n",
       "       [25, 36]])"
      ]
     },
     "execution_count": 20,
     "metadata": {},
     "output_type": "execute_result"
    }
   ],
   "source": [
    "a.dot(b)"
   ]
  },
  {
   "cell_type": "code",
   "execution_count": 22,
   "metadata": {},
   "outputs": [
    {
     "data": {
      "text/plain": [
       "array([[16, 22],\n",
       "       [25, 36]])"
      ]
     },
     "execution_count": 22,
     "metadata": {},
     "output_type": "execute_result"
    }
   ],
   "source": [
    "# np.matmul()\n",
    "z= np.matmul(a,b)\n",
    "z"
   ]
  },
  {
   "cell_type": "code",
   "execution_count": 39,
   "metadata": {},
   "outputs": [
    {
     "name": "stdout",
     "output_type": "stream",
     "text": [
      "vstack : \n",
      " [[0.31619708 0.97013714]\n",
      " [0.72704988 0.32724685]\n",
      " [0.49360511 0.84177881]\n",
      " [0.07846428 0.78217114]]\n",
      "\n",
      "\n",
      "\n",
      "\n",
      "hstack : \n",
      " [[0.31619708 0.97013714 0.49360511 0.84177881]\n",
      " [0.72704988 0.32724685 0.07846428 0.78217114]]\n"
     ]
    }
   ],
   "source": [
    "#numpy.hstack() and numpy.vstack() in Python\n",
    "a=np.random.rand(2,2)\n",
    "b=np.random.rand(2,2)\n",
    "\n",
    "z=np.vstack((a,b))\n",
    "print(\"vstack : \\n\",z)\n",
    "print(\"\\n\")\n",
    "print(\"\\n\")\n",
    "p=np.hstack((a,b))\n",
    "print(\"hstack : \\n\",p)"
   ]
  },
  {
   "cell_type": "code",
   "execution_count": null,
   "metadata": {},
   "outputs": [],
   "source": [
    "#Generate various series using numpy like uniform poison"
   ]
  },
  {
   "cell_type": "code",
   "execution_count": 49,
   "metadata": {},
   "outputs": [
    {
     "data": {
      "text/plain": [
       "(array([11.,  8., 11., 16., 19., 25.,  6.,  3.,  0.,  1.]),\n",
       " array([ 0. ,  1.2,  2.4,  3.6,  4.8,  6. ,  7.2,  8.4,  9.6, 10.8, 12. ]),\n",
       " <a list of 10 Patch objects>)"
      ]
     },
     "execution_count": 49,
     "metadata": {},
     "output_type": "execute_result"
    },
    {
     "data": {
      "image/png": "[encoded data removed]",
      "text/plain": [
       "<Figure size 432x288 with 1 Axes>"
      ]
     },
     "metadata": {
      "needs_background": "light"
     },
     "output_type": "display_data"
    }
   ],
   "source": [
    "s = np.random.poisson(5, 100)\n",
    "import matplotlib.pyplot as plt\n",
    "plt.hist(s)"
   ]
  },
  {
   "cell_type": "code",
   "execution_count": 55,
   "metadata": {},
   "outputs": [
    {
     "data": {
      "text/plain": [
       "718"
      ]
     },
     "execution_count": 55,
     "metadata": {},
     "output_type": "execute_result"
    }
   ],
   "source": [
    "s=np.random.binomial(1000,0.7)\n",
    "s"
   ]
  },
  {
   "cell_type": "code",
   "execution_count": 57,
   "metadata": {},
   "outputs": [
    {
     "data": {
      "text/plain": [
       "array([-1.11675318e-03,  3.32783324e-02,  1.74313434e-01,  1.96674552e-02,\n",
       "        5.60916935e-02,  2.58514979e-02,  1.03135042e-01,  9.86841443e-02,\n",
       "       -1.87101392e-02, -8.30059133e-02, -1.69836007e-02, -1.32326863e-01,\n",
       "        3.76981921e-02, -6.56227630e-02,  1.24724989e-01, -9.42065263e-02,\n",
       "       -3.44570856e-03,  1.50705021e-01, -9.26012973e-03, -6.00849165e-02,\n",
       "       -2.42081067e-02, -1.88834739e-01,  4.96120200e-02, -1.85701157e-01,\n",
       "       -2.55256082e-01,  2.55947018e-03,  3.47227129e-03, -1.84006295e-02,\n",
       "        1.56695833e-01,  2.85097881e-02, -9.67309972e-02,  1.51062120e-01,\n",
       "        3.69425559e-02, -2.60761285e-02,  1.17823190e-01,  7.70266192e-02,\n",
       "        2.87276182e-01, -1.48969792e-01,  8.55132888e-03,  7.36992804e-02,\n",
       "        1.94657372e-01, -4.82181572e-02, -5.07343991e-03, -3.61441578e-02,\n",
       "       -1.18412835e-01, -1.38656493e-01, -1.68136246e-01, -2.61258012e-02,\n",
       "       -1.50951334e-01, -3.57449417e-02,  4.33251633e-02,  9.57438945e-02,\n",
       "        2.27568073e-01,  2.02382555e-01,  6.68862654e-02,  5.71374560e-02,\n",
       "        1.08215027e-01,  7.07356646e-03, -1.46185722e-01,  1.06118848e-01,\n",
       "        9.33850106e-02, -1.31873824e-01, -1.04913880e-01, -1.21724221e-01,\n",
       "       -6.39407145e-02, -7.80391776e-02, -3.16410653e-02, -8.01361499e-02,\n",
       "        5.21695039e-02, -6.01552466e-02,  2.06808524e-02,  8.58359262e-03,\n",
       "        9.50613749e-02,  7.21984334e-04, -1.53894080e-01, -2.37832261e-02,\n",
       "        7.42328079e-02,  2.47987841e-02, -2.44416899e-02, -1.03450708e-01,\n",
       "        2.49909899e-02,  7.21502336e-02, -5.97945143e-04, -1.58330399e-01,\n",
       "        4.83315233e-02,  2.07661410e-01, -2.50631490e-02, -2.18017812e-02,\n",
       "        1.25036225e-01,  1.13286318e-01,  1.71885217e-01, -3.85993620e-02,\n",
       "        5.72158830e-02, -7.57051053e-02, -3.48875434e-03, -4.09864708e-02,\n",
       "        1.99734394e-01,  6.07673808e-02,  6.63308962e-02, -1.91457977e-01,\n",
       "        5.71067512e-02,  1.43218929e-01, -1.11531234e-01,  1.58986888e-01,\n",
       "        4.00620045e-03,  8.67763557e-02,  5.31752987e-02, -6.08192399e-02,\n",
       "        1.10649290e-01, -6.94626818e-02, -4.73013644e-02, -6.08898710e-02,\n",
       "        1.19538073e-01, -6.28917263e-02, -7.94472769e-03,  8.15955772e-02,\n",
       "       -7.10505935e-02, -7.72132096e-02, -4.71626344e-02, -3.19741353e-02,\n",
       "        3.36322722e-02,  8.62994179e-03, -8.09666445e-02, -6.08249501e-02,\n",
       "        2.18502983e-01,  2.82584999e-02, -1.62504100e-01,  3.20213222e-03,\n",
       "        1.15935440e-01, -7.20574069e-02,  6.56910898e-02,  3.47761901e-03,\n",
       "       -1.82451095e-02,  1.29595445e-01,  1.32878907e-01, -1.70998984e-01,\n",
       "       -2.67829866e-02,  9.60606276e-02, -1.02550059e-01, -6.16111690e-02,\n",
       "       -8.25826287e-02, -5.22758167e-02,  9.16409276e-02, -1.38747506e-02,\n",
       "        2.04949243e-02, -1.17781092e-01, -2.04498173e-02,  4.62104031e-02,\n",
       "        1.07293945e-01,  6.88227108e-02, -1.89798009e-01, -1.01428160e-01,\n",
       "       -1.22456466e-01, -9.70664081e-02, -9.13020147e-02, -2.38335019e-02,\n",
       "        1.50516741e-01, -1.66670844e-02, -1.54220244e-01,  2.35915759e-01,\n",
       "       -4.13365417e-02, -1.26704208e-01,  1.58385807e-01, -7.51437040e-02,\n",
       "       -2.98470740e-01, -5.42837702e-02,  7.07268857e-02,  7.24358693e-02,\n",
       "        1.62054137e-01, -2.00022392e-01,  8.75731933e-02,  2.34341809e-02,\n",
       "        3.48736996e-01,  1.06990233e-01,  7.40722927e-02, -8.25522952e-02,\n",
       "       -6.18096279e-02,  1.47111530e-01,  4.06874084e-02,  6.57867462e-02,\n",
       "       -3.42284714e-02,  9.53336736e-02, -1.30706112e-01,  2.47601677e-02,\n",
       "        9.97017501e-02, -7.96810135e-02, -8.61924715e-02,  1.05897781e-01,\n",
       "       -1.60073111e-02, -1.25668585e-01, -3.75393441e-02,  1.81183416e-01,\n",
       "       -3.66106864e-02, -1.48175725e-01,  3.54166348e-02, -3.14898798e-02,\n",
       "       -4.95019310e-02,  6.60091432e-02, -1.49254831e-01, -1.17204479e-01,\n",
       "        7.09892127e-02,  1.62623645e-02, -1.70492112e-01,  1.01066666e-01,\n",
       "        5.12108091e-02,  4.57623017e-02,  1.89901782e-02, -4.11344153e-02,\n",
       "        1.21731310e-01,  1.90916352e-01,  3.54594800e-02,  3.32532415e-02,\n",
       "        5.68955412e-02, -4.02905564e-02,  1.31658798e-01, -1.36991307e-01,\n",
       "        2.85660652e-02,  4.44714225e-02,  5.48548152e-02,  7.27371268e-02,\n",
       "       -4.08727415e-02, -3.63864432e-02,  6.66821199e-02, -1.00621519e-01,\n",
       "        8.88054850e-03,  4.42464104e-02,  6.09456354e-02, -1.81898182e-01,\n",
       "        2.69994519e-02, -8.19223198e-02,  2.08449206e-01,  1.19291833e-01,\n",
       "        1.68138953e-01, -3.98513572e-02,  1.13826211e-01,  5.76475622e-02,\n",
       "       -1.82462794e-01,  8.15200645e-02, -3.12392401e-02,  6.40177925e-02,\n",
       "        6.25345074e-02,  7.84394729e-02, -8.64642971e-02,  5.66950712e-02,\n",
       "        4.81513304e-02,  4.73736538e-02, -1.00312790e-01, -1.39798912e-01,\n",
       "        9.97440248e-02, -1.61927367e-01, -7.47345680e-02,  1.45910745e-01,\n",
       "       -4.93866168e-02,  5.28884612e-02,  5.18528639e-02, -1.47005700e-01,\n",
       "       -5.52207550e-02, -1.16617595e-01,  9.51878210e-04,  2.53571711e-02,\n",
       "        1.89384806e-01, -4.37550958e-02, -2.34296358e-02, -5.45044033e-02,\n",
       "       -4.89754313e-02, -6.00277476e-02,  9.24746050e-02,  8.54992550e-02,\n",
       "        7.90695982e-03,  1.40957528e-01,  7.76535774e-02, -9.92995962e-02,\n",
       "        1.80177450e-01,  4.85375013e-02, -1.15685134e-02, -6.63231665e-02,\n",
       "        2.04268285e-01, -2.13049555e-02,  7.83585950e-02, -9.24378639e-02,\n",
       "       -5.00422664e-02, -1.16800959e-01, -3.22493306e-02,  1.05249614e-01,\n",
       "        1.03654893e-03,  1.58345667e-02,  3.20402881e-02,  1.00566775e-01,\n",
       "        1.79534271e-02, -5.33214963e-02, -6.96152089e-03, -1.03022951e-01,\n",
       "       -1.11783954e-01,  2.67728825e-02, -1.06934691e-01,  1.48403206e-01,\n",
       "       -4.91045567e-02, -2.19258284e-02,  8.10278707e-02,  9.78730385e-02,\n",
       "        7.40921349e-02, -9.35674695e-02,  6.74130891e-02, -1.08938209e-02,\n",
       "        8.72680677e-03,  4.06361779e-02,  1.24704947e-01,  4.52985108e-02,\n",
       "        1.67290526e-01, -1.65891945e-01, -4.86426974e-03, -1.74970080e-01,\n",
       "        7.63342057e-02,  4.75571666e-02,  6.38295336e-02, -1.35247638e-01,\n",
       "       -8.46221948e-02, -6.07410216e-02,  2.32657278e-02, -4.57283793e-02,\n",
       "       -1.55288253e-01,  1.70588509e-02, -3.03321367e-03,  4.91271673e-02,\n",
       "        1.34967343e-01,  1.74254746e-01, -1.90787406e-01,  1.04773682e-01,\n",
       "        5.84077659e-02,  9.37108969e-02,  1.60262800e-01,  6.88868905e-02,\n",
       "       -1.16323210e-01,  8.87975789e-02, -1.99702821e-01,  1.56095830e-01,\n",
       "       -7.96340022e-02, -1.69264625e-02,  3.40895265e-01,  5.35872171e-02,\n",
       "       -1.30706010e-01,  2.03784315e-01,  4.46269124e-02,  4.23325077e-02,\n",
       "        1.94776169e-01,  9.91475473e-02, -8.09327795e-02,  5.01258172e-02,\n",
       "        4.48819038e-02,  9.82648752e-02, -1.28352171e-01, -2.96554472e-02,\n",
       "       -1.71103250e-01, -2.49542379e-02, -1.47326599e-01, -1.83846114e-02,\n",
       "       -9.41764824e-02, -8.51237211e-02,  1.73781235e-01, -1.00808245e-01,\n",
       "        1.30731215e-01, -4.58134319e-02, -8.55941117e-03, -9.59084684e-02,\n",
       "       -4.54630552e-04,  2.48536015e-02, -2.75122426e-02, -1.28324508e-01,\n",
       "        1.24461694e-01,  1.62470818e-01, -4.67107952e-02, -3.11615142e-02,\n",
       "       -1.51878386e-01, -6.74147609e-02,  8.10027324e-04, -8.69973890e-02,\n",
       "       -5.33873546e-02, -6.66759262e-03,  2.12645757e-02,  1.06487795e-01,\n",
       "       -1.03918621e-01, -2.80709310e-01, -6.39143899e-02,  1.89403621e-02,\n",
       "       -1.30887354e-01, -6.48213455e-02, -1.12763147e-02, -8.45609600e-02,\n",
       "        3.48794520e-02,  3.68298147e-03, -9.35947858e-03,  1.96023083e-02,\n",
       "        2.55367990e-02,  9.50211980e-02,  1.98697192e-01, -3.19319718e-02,\n",
       "       -1.24855058e-01,  6.66372414e-02,  2.17362001e-02, -3.14744727e-02,\n",
       "        8.75926789e-02,  2.37885461e-01,  1.25079038e-01,  1.07736735e-01,\n",
       "       -1.07585543e-01,  8.44489931e-02,  1.69108052e-03, -3.30377748e-02,\n",
       "       -4.81467564e-02, -3.15237046e-01, -1.39880182e-01, -8.61755721e-02,\n",
       "       -1.49278835e-02,  1.19330019e-01,  8.44511059e-02, -9.82606716e-02,\n",
       "        7.64792640e-02, -5.18063650e-02, -1.23360815e-01, -6.16872431e-02,\n",
       "        3.77864401e-02,  8.96771190e-02, -8.62866650e-03,  7.14235811e-03,\n",
       "       -1.45884014e-01, -1.01705046e-01, -2.31868551e-01,  2.58620410e-02,\n",
       "       -2.72355705e-02, -8.06507769e-02, -8.12639372e-02,  1.71063919e-02,\n",
       "        1.31234910e-01, -7.27861252e-02, -2.35520039e-01,  7.44308991e-02,\n",
       "        6.52740160e-03,  7.00657372e-02,  1.96299859e-02, -4.03116947e-02,\n",
       "       -1.25859043e-01, -1.28069486e-01, -9.74445656e-03,  1.90542550e-01,\n",
       "       -3.34032721e-02,  1.30980225e-01, -7.01706868e-02,  4.42473136e-02,\n",
       "        3.56297850e-02,  2.62090244e-02, -7.84980467e-02,  2.31474776e-02,\n",
       "        1.34056280e-02,  2.02529987e-02, -1.88741612e-02,  3.09029255e-02,\n",
       "        9.50319556e-02, -1.66830473e-01, -1.71701165e-02,  1.32747829e-01,\n",
       "        3.25065057e-02,  1.25629844e-02,  7.50067807e-02, -1.08490281e-02,\n",
       "       -3.19115702e-02,  3.55927368e-02, -2.60113957e-02,  4.69015924e-02,\n",
       "       -8.81441320e-02, -2.54330813e-01,  4.00131819e-02,  6.60385160e-02,\n",
       "       -3.71587097e-02, -1.97584590e-01, -6.34489818e-02, -1.76335337e-02,\n",
       "       -2.01962202e-01, -1.29338878e-01,  1.17804205e-01, -1.09343288e-01,\n",
       "        9.44594335e-02,  1.47291487e-01, -2.65337900e-02, -7.23795170e-02,\n",
       "        6.69031872e-02, -6.73506513e-02,  1.73183802e-01, -1.45836255e-01,\n",
       "       -4.13297245e-03, -8.19238338e-02,  6.27459256e-02,  3.89878758e-02,\n",
       "        2.91296963e-02,  5.10963599e-04, -1.38926297e-01, -8.16203344e-02,\n",
       "       -3.28737670e-02,  2.51517816e-02, -9.79115161e-02, -2.30926256e-02,\n",
       "        2.70735760e-02, -8.91860038e-03, -1.12568900e-01,  3.14910381e-02,\n",
       "       -2.55958463e-02, -1.04280060e-01,  9.08613246e-02, -1.84289487e-02,\n",
       "       -3.95171904e-02, -3.92867370e-02,  1.29086751e-01, -8.00419884e-02,\n",
       "       -1.01344716e-01, -6.81856943e-02,  1.56767355e-02, -2.45279441e-02,\n",
       "        9.66702081e-02,  6.39829259e-02, -1.25345175e-01,  3.09851348e-02,\n",
       "        2.12914899e-02,  2.22021032e-02,  1.00993604e-02,  1.89733161e-01,\n",
       "       -1.28685380e-02,  1.78534625e-02, -6.97916521e-02,  2.62273845e-02,\n",
       "       -8.23985937e-02, -8.97783739e-02, -1.77316542e-01,  5.30648067e-02,\n",
       "       -8.06389074e-02,  1.09476623e-01, -5.95848345e-04,  6.60603616e-02,\n",
       "       -7.23152410e-02,  1.99449206e-02,  1.03658262e-01,  1.67935614e-02,\n",
       "        2.26218382e-02, -2.50414127e-02, -7.39015390e-03,  6.58886773e-02,\n",
       "        1.66601401e-01, -2.08142325e-01,  1.21915225e-01, -4.26035824e-02,\n",
       "        1.10974165e-01, -9.16609660e-02, -8.78793820e-02, -8.21145874e-02,\n",
       "        3.38947833e-02, -6.04913674e-02, -5.87271322e-02, -2.00934491e-01,\n",
       "       -1.75597177e-01,  1.46224517e-02, -1.23235785e-01, -7.56619230e-02,\n",
       "       -1.77908308e-02,  3.95484424e-02,  1.76811934e-01, -4.68234801e-03,\n",
       "        3.69207956e-02,  1.58745289e-01,  1.11795341e-01,  1.73714812e-01,\n",
       "        1.03792412e-01,  9.41378877e-02,  1.33877554e-01,  5.23842360e-02,\n",
       "        1.92692904e-01, -3.17406698e-02,  3.69437396e-02,  4.07549814e-02,\n",
       "       -7.77730810e-02,  8.92020045e-02, -2.04658284e-01, -1.57725457e-01,\n",
       "       -2.60674041e-01, -5.75730158e-02, -1.94290980e-01,  9.27061687e-03,\n",
       "       -6.46272007e-02,  1.53334786e-01,  1.18782355e-01,  8.01088783e-02,\n",
       "        8.92632543e-02,  5.67806229e-02,  8.78417120e-02,  6.95803910e-02,\n",
       "       -5.45392021e-02,  8.92085372e-02,  6.56346038e-02, -2.30070697e-02,\n",
       "        7.62920398e-02,  1.77322044e-02,  5.08957194e-03, -3.58372082e-02,\n",
       "        9.99402425e-02, -6.02238932e-02, -1.20857764e-01,  8.61864141e-02,\n",
       "        1.67466202e-03, -1.84685596e-02,  2.48612838e-02, -7.89593134e-03,\n",
       "       -3.42025812e-03,  8.33822967e-02, -1.11139930e-01, -2.24597244e-02,\n",
       "       -8.62082757e-02,  3.84324024e-02, -1.41533905e-01,  6.39556417e-02,\n",
       "       -5.58846300e-02, -9.73887602e-02, -1.05927595e-01,  4.19916633e-02,\n",
       "       -3.35703570e-02,  1.32171030e-01, -1.07348720e-02,  1.77587750e-02,\n",
       "        6.72690670e-03,  6.38612538e-02, -6.84077432e-02,  4.34004394e-03,\n",
       "       -1.48120013e-03,  1.76742394e-03,  8.77587655e-02,  5.69414317e-02,\n",
       "        2.45210411e-02,  5.74590701e-02, -8.22630285e-02, -3.05652665e-02,\n",
       "       -1.23003375e-01,  5.59450977e-03,  1.31569351e-01,  1.21620603e-01,\n",
       "        3.63805889e-02, -8.11196606e-02, -8.80802088e-02, -1.19657451e-01,\n",
       "       -1.63517233e-01, -8.84640280e-02,  6.28363015e-02,  6.18906921e-02,\n",
       "        1.26779963e-03,  5.88690970e-02,  9.93841779e-03, -9.28341800e-02,\n",
       "        2.16439267e-03, -1.03043624e-01, -2.09889789e-02,  6.35211493e-02,\n",
       "       -5.01355212e-02, -9.56072349e-02, -1.84582818e-01,  7.05229491e-02,\n",
       "       -6.92677595e-02,  1.69887563e-02, -7.92450037e-02,  5.34882127e-02,\n",
       "        1.57468245e-01, -1.08102933e-01, -1.25805009e-02, -8.71338024e-02,\n",
       "       -5.07590148e-02,  2.47731343e-02, -2.17500288e-02,  1.67224419e-01,\n",
       "       -6.81883636e-03,  3.00970644e-02, -9.77849009e-02,  1.18431152e-01,\n",
       "       -9.62639149e-02,  8.08069954e-02, -2.39130097e-02, -1.27182791e-01,\n",
       "        5.01165454e-02, -2.09942450e-02,  2.81498781e-02, -1.19802987e-01,\n",
       "       -6.15227355e-02,  5.64673040e-02, -9.36571215e-03,  8.62337143e-02,\n",
       "        1.34463151e-01,  7.51154446e-02, -6.84892333e-03,  7.45540935e-02,\n",
       "       -1.88245974e-01,  9.13944823e-02, -3.31580063e-02, -2.07308047e-02,\n",
       "       -6.69368447e-02, -1.87062557e-02,  4.41845914e-03,  1.43067173e-02,\n",
       "        7.87752994e-02, -2.26516349e-01, -1.38058299e-01,  2.36199306e-02,\n",
       "       -5.68697545e-02,  5.80975772e-02, -1.69915196e-01, -9.68168076e-02,\n",
       "       -2.65660303e-02,  1.12292353e-01,  8.96502500e-02, -2.73902466e-04,\n",
       "       -1.69769204e-01, -4.55342244e-02,  2.15209075e-01, -2.25920750e-02,\n",
       "       -5.38778739e-02,  6.93926947e-03,  1.30449762e-02,  9.86157053e-02,\n",
       "        1.54504289e-01,  2.10795561e-02,  2.40924605e-02, -5.94543002e-02,\n",
       "       -7.82781851e-02,  8.63691362e-02,  5.06136016e-02, -4.55898550e-02,\n",
       "       -8.04180987e-03,  1.89710213e-01,  2.35843736e-01,  3.05573572e-03,\n",
       "       -4.48149746e-02,  6.60513552e-02, -2.09250590e-01,  1.90053919e-01,\n",
       "        1.84475967e-01,  5.49567543e-02,  5.06369793e-02,  1.20893766e-01,\n",
       "       -8.12063635e-02,  6.43915175e-02,  7.19052078e-02, -6.02560153e-03,\n",
       "       -1.21389066e-01, -1.17265729e-01,  3.99396989e-02, -1.66800671e-01,\n",
       "       -4.31593117e-03, -1.20094800e-01, -9.16474646e-02,  6.35412294e-02,\n",
       "       -1.12276968e-01, -7.61355483e-02,  6.84236916e-02, -1.24516894e-01,\n",
       "        1.61574058e-01, -1.37127648e-01, -1.93888303e-01,  3.62983861e-03,\n",
       "       -6.05948560e-03, -6.14503733e-02, -3.22918846e-02,  2.03777905e-02,\n",
       "       -8.37545963e-02, -2.11527142e-01,  7.80643379e-02, -1.54096155e-01,\n",
       "       -5.10814324e-02, -2.17669811e-01,  7.54371391e-02, -3.20419750e-02,\n",
       "       -3.99359342e-01,  6.66189265e-02, -6.11293156e-02, -5.49312207e-02,\n",
       "       -2.35398300e-01,  2.87578848e-02,  1.14412388e-01, -1.99035496e-02,\n",
       "        1.13663501e-01, -2.83486602e-02,  1.90786430e-01, -4.04106620e-02,\n",
       "        4.28336407e-02, -8.02798444e-02, -5.95895665e-02, -3.11812144e-02,\n",
       "       -8.78149639e-03, -5.39797286e-02,  6.12850512e-02, -4.85160645e-02,\n",
       "        9.33216436e-02, -9.61176404e-02,  4.30954620e-02, -1.20316366e-01,\n",
       "       -4.76422343e-02, -7.35444615e-02,  2.90602802e-02, -5.67614265e-02,\n",
       "       -1.27695019e-02,  6.13332654e-02,  1.28067520e-01,  8.23413745e-02,\n",
       "       -1.15020737e-01,  1.83609816e-02,  2.64452477e-01,  1.67569909e-02,\n",
       "        2.25655999e-02,  2.37033843e-01,  8.05458530e-02, -1.32074116e-01,\n",
       "        2.23396374e-03, -2.24996936e-02,  8.27966407e-02, -2.00883152e-02,\n",
       "       -1.24866637e-01, -5.05222147e-03,  9.76923389e-02,  1.90949155e-02,\n",
       "        3.82734788e-02, -6.74959702e-02,  7.08073267e-02,  5.71528508e-02,\n",
       "       -6.11934379e-02, -1.81148049e-01, -8.84082770e-02, -9.06958537e-02,\n",
       "        9.15087761e-02,  1.75709320e-02, -2.14315060e-02, -1.36651230e-01,\n",
       "       -4.12547784e-02, -8.32131548e-02,  7.93899599e-02, -1.16882548e-01,\n",
       "       -1.43760119e-01,  9.91196672e-02, -2.61893302e-02, -6.62292341e-02,\n",
       "       -4.65747585e-03, -1.56798155e-01, -1.66783290e-01, -1.17187201e-01,\n",
       "        7.58319261e-02,  1.64866258e-01,  4.13306041e-02,  9.67201747e-02,\n",
       "       -3.57096591e-02,  1.95232904e-01,  8.42244614e-02, -6.81150209e-02,\n",
       "        2.15865029e-03, -1.83553552e-01,  7.72413761e-02,  1.15016988e-01,\n",
       "       -1.25862358e-01,  2.37934173e-02,  9.07581171e-02, -2.31516701e-02,\n",
       "       -3.96784110e-02,  4.31637256e-02, -6.65642585e-02,  1.80980230e-01,\n",
       "        6.06730378e-02,  2.51332042e-02,  2.25112469e-01, -1.08678489e-01,\n",
       "       -3.22431003e-02, -6.58578817e-02, -1.87110058e-03, -1.35185593e-01,\n",
       "       -9.60136686e-02,  6.83699980e-02,  1.65743313e-01,  9.04723831e-03,\n",
       "       -2.33431118e-01, -1.20816537e-01,  1.71558517e-01, -7.87589452e-02,\n",
       "       -1.61380934e-01, -5.79506187e-02, -7.95578261e-02, -9.46762049e-02,\n",
       "       -9.92520064e-02,  4.77621577e-02,  1.62388243e-02, -1.28851726e-01,\n",
       "        8.84162127e-02,  1.14826996e-01,  1.10045038e-03, -2.97970971e-02,\n",
       "       -1.21643395e-01, -1.05476821e-01, -5.16831367e-02, -1.41120438e-01,\n",
       "       -8.29261101e-02, -9.09079541e-02, -1.52648224e-01,  6.88102471e-02,\n",
       "       -2.42710682e-01,  6.89672750e-02,  1.17837861e-01, -1.44761998e-02,\n",
       "       -7.81200527e-02,  1.79636602e-02, -1.99995619e-01,  1.58743592e-01,\n",
       "        1.20821309e-01,  2.82142253e-02,  2.27146589e-01,  3.82652915e-02,\n",
       "        1.15273549e-01,  9.64009468e-02, -1.98689719e-01, -1.09120413e-01,\n",
       "       -8.66692056e-02,  8.26417182e-02, -3.31431211e-02,  3.46582284e-02,\n",
       "       -9.12993145e-02,  2.70366989e-02,  2.21015844e-01,  1.95349604e-01,\n",
       "        6.07064943e-02, -1.07802341e-01, -1.34720872e-01, -3.19633006e-02,\n",
       "        9.94227920e-04, -2.41888036e-02,  4.88049415e-02, -3.73834980e-02,\n",
       "       -3.26312434e-02, -1.29728460e-01, -4.61330055e-03, -1.21709445e-01,\n",
       "       -6.36672444e-02, -1.13741883e-02, -2.10342780e-01, -6.07794802e-02,\n",
       "        1.85399463e-02,  1.78662328e-01,  1.43035799e-01, -7.58703599e-02,\n",
       "       -1.24581999e-01,  1.24492800e-01, -1.76057779e-02,  1.12309248e-01,\n",
       "        1.10429566e-01, -1.49061810e-02, -2.22795900e-02, -4.86489989e-03,\n",
       "        3.11008364e-02, -7.39275105e-02, -1.45603017e-01,  1.54885378e-01,\n",
       "        1.32980775e-01,  6.07184749e-03,  1.58779674e-01, -1.44094497e-01,\n",
       "       -1.79390947e-02,  9.67067937e-02, -1.49943336e-01,  1.23935244e-01,\n",
       "       -1.77982954e-02,  4.82791078e-02, -1.43370151e-01,  8.91852757e-02,\n",
       "       -1.08384031e-01, -4.78142557e-02, -1.46473358e-01, -7.37146990e-02,\n",
       "       -1.87335814e-01, -2.67363081e-02, -5.91855417e-02,  1.05336788e-01,\n",
       "        1.57570857e-01, -7.68825856e-02, -3.54355096e-02, -3.75506035e-04,\n",
       "       -6.30176869e-02,  7.82894159e-02, -6.94090743e-02, -1.20277416e-01,\n",
       "       -1.88967675e-02, -1.10128952e-01,  8.41446641e-02, -3.25415385e-02,\n",
       "        6.49580020e-02,  2.02254000e-02,  8.10174623e-02,  4.98650186e-02,\n",
       "        2.46703152e-01,  3.62948561e-02,  4.55658786e-02,  3.99059944e-02,\n",
       "       -1.29826523e-01,  7.87366398e-02,  5.93312958e-02, -2.22103194e-02])"
      ]
     },
     "execution_count": 57,
     "metadata": {},
     "output_type": "execute_result"
    }
   ],
   "source": [
    "s = np.random.normal(0,0.1, 1000)\n",
    "s"
   ]
  },
  {
   "cell_type": "code",
   "execution_count": 58,
   "metadata": {},
   "outputs": [],
   "source": [
    "#Perform Matrix operation using Numpy\n",
    "a=np.array([[1,2],[3,4]])\n",
    "b=np.array([[2,6],[6,3]])\n"
   ]
  },
  {
   "cell_type": "code",
   "execution_count": 60,
   "metadata": {},
   "outputs": [
    {
     "data": {
      "text/plain": [
       "array([[3, 8],\n",
       "       [9, 7]])"
      ]
     },
     "execution_count": 60,
     "metadata": {},
     "output_type": "execute_result"
    }
   ],
   "source": [
    "z=np.add(a,b)\n",
    "z"
   ]
  },
  {
   "cell_type": "code",
   "execution_count": 61,
   "metadata": {},
   "outputs": [
    {
     "data": {
      "text/plain": [
       "array([[-1, -4],\n",
       "       [-3,  1]])"
      ]
     },
     "execution_count": 61,
     "metadata": {},
     "output_type": "execute_result"
    }
   ],
   "source": [
    "z=np.subtract(a,b)\n",
    "z"
   ]
  },
  {
   "cell_type": "code",
   "execution_count": 62,
   "metadata": {},
   "outputs": [
    {
     "data": {
      "text/plain": [
       "array([[14, 12],\n",
       "       [30, 30]])"
      ]
     },
     "execution_count": 62,
     "metadata": {},
     "output_type": "execute_result"
    }
   ],
   "source": [
    "z=np.dot(a,b)\n",
    "z"
   ]
  },
  {
   "cell_type": "code",
   "execution_count": 63,
   "metadata": {},
   "outputs": [
    {
     "data": {
      "text/plain": [
       "array([[14, 12],\n",
       "       [30, 30]])"
      ]
     },
     "execution_count": 63,
     "metadata": {},
     "output_type": "execute_result"
    }
   ],
   "source": [
    "z=np.matmul(a,b)\n",
    "z"
   ]
  },
  {
   "cell_type": "code",
   "execution_count": 65,
   "metadata": {},
   "outputs": [
    {
     "data": {
      "text/plain": [
       "array([[ 2, 12],\n",
       "       [18, 12]])"
      ]
     },
     "execution_count": 65,
     "metadata": {},
     "output_type": "execute_result"
    }
   ],
   "source": [
    "z=np.multiply(a,b)\n",
    "z"
   ]
  },
  {
   "cell_type": "code",
   "execution_count": 66,
   "metadata": {},
   "outputs": [
    {
     "data": {
      "text/plain": [
       "array([[0.5       , 0.33333333],\n",
       "       [0.5       , 1.33333333]])"
      ]
     },
     "execution_count": 66,
     "metadata": {},
     "output_type": "execute_result"
    }
   ],
   "source": [
    "z=np.divide(a,b)\n",
    "z"
   ]
  },
  {
   "cell_type": "code",
   "execution_count": 76,
   "metadata": {},
   "outputs": [],
   "source": [
    "#pandas"
   ]
  },
  {
   "cell_type": "code",
   "execution_count": 79,
   "metadata": {},
   "outputs": [],
   "source": [
    "data = {'Name':['Tom', 'nick', 'krish', 'jack'],\n",
    "        'Age':[20, 21, 19, 18]}"
   ]
  },
  {
   "cell_type": "code",
   "execution_count": 81,
   "metadata": {},
   "outputs": [
    {
     "data": {
      "text/html": [
       "<div>\n",
       "<style scoped>\n",
       "    .dataframe tbody tr th:only-of-type {\n",
       "        vertical-align: middle;\n",
       "    }\n",
       "\n",
       "    .dataframe tbody tr th {\n",
       "        vertical-align: top;\n",
       "    }\n",
       "\n",
       "    .dataframe thead th {\n",
       "        text-align: right;\n",
       "    }\n",
       "</style>\n",
       "<table border=\"1\" class=\"dataframe\">\n",
       "  <thead>\n",
       "    <tr style=\"text-align: right;\">\n",
       "      <th></th>\n",
       "      <th>Name</th>\n",
       "      <th>Age</th>\n",
       "    </tr>\n",
       "  </thead>\n",
       "  <tbody>\n",
       "    <tr>\n",
       "      <td>0</td>\n",
       "      <td>Tom</td>\n",
       "      <td>20</td>\n",
       "    </tr>\n",
       "    <tr>\n",
       "      <td>1</td>\n",
       "      <td>nick</td>\n",
       "      <td>21</td>\n",
       "    </tr>\n",
       "    <tr>\n",
       "      <td>2</td>\n",
       "      <td>krish</td>\n",
       "      <td>19</td>\n",
       "    </tr>\n",
       "    <tr>\n",
       "      <td>3</td>\n",
       "      <td>jack</td>\n",
       "      <td>18</td>\n",
       "    </tr>\n",
       "  </tbody>\n",
       "</table>\n",
       "</div>"
      ],
      "text/plain": [
       "    Name  Age\n",
       "0    Tom   20\n",
       "1   nick   21\n",
       "2  krish   19\n",
       "3   jack   18"
      ]
     },
     "execution_count": 81,
     "metadata": {},
     "output_type": "execute_result"
    }
   ],
   "source": [
    "df=pd.DataFrame(data)\n",
    "df"
   ]
  },
  {
   "cell_type": "code",
   "execution_count": 86,
   "metadata": {},
   "outputs": [
    {
     "data": {
      "text/html": [
       "<div>\n",
       "<style scoped>\n",
       "    .dataframe tbody tr th:only-of-type {\n",
       "        vertical-align: middle;\n",
       "    }\n",
       "\n",
       "    .dataframe tbody tr th {\n",
       "        vertical-align: top;\n",
       "    }\n",
       "\n",
       "    .dataframe thead th {\n",
       "        text-align: right;\n",
       "    }\n",
       "</style>\n",
       "<table border=\"1\" class=\"dataframe\">\n",
       "  <thead>\n",
       "    <tr style=\"text-align: right;\">\n",
       "      <th></th>\n",
       "      <th>Name</th>\n",
       "      <th>Age</th>\n",
       "    </tr>\n",
       "  </thead>\n",
       "  <tbody>\n",
       "    <tr>\n",
       "      <td>rank1</td>\n",
       "      <td>Tom</td>\n",
       "      <td>20</td>\n",
       "    </tr>\n",
       "    <tr>\n",
       "      <td>rank2</td>\n",
       "      <td>nick</td>\n",
       "      <td>21</td>\n",
       "    </tr>\n",
       "    <tr>\n",
       "      <td>rank3</td>\n",
       "      <td>krish</td>\n",
       "      <td>19</td>\n",
       "    </tr>\n",
       "    <tr>\n",
       "      <td>rank4</td>\n",
       "      <td>jack</td>\n",
       "      <td>18</td>\n",
       "    </tr>\n",
       "  </tbody>\n",
       "</table>\n",
       "</div>"
      ],
      "text/plain": [
       "        Name  Age\n",
       "rank1    Tom   20\n",
       "rank2   nick   21\n",
       "rank3  krish   19\n",
       "rank4   jack   18"
      ]
     },
     "execution_count": 86,
     "metadata": {},
     "output_type": "execute_result"
    }
   ],
   "source": [
    "df=pd.DataFrame(data,index=['rank1', 'rank2','rank3','rank4'])\n",
    "df"
   ]
  }
 ],
 "metadata": {
  "kernelspec": {
   "display_name": "Python 3",
   "language": "python",
   "name": "python3"
  },
  "language_info": {
   "codemirror_mode": {
    "name": "ipython",
    "version": 3
   },
   "file_extension": ".py",
   "mimetype": "text/x-python",
   "name": "python",
   "nbconvert_exporter": "python",
   "pygments_lexer": "ipython3",
   "version": "3.7.4"
  }
 },
 "nbformat": 4,
 "nbformat_minor": 2
}
