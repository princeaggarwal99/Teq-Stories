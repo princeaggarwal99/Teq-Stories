{
 "cells": [
  {
   "cell_type": "code",
   "execution_count": 32,
   "metadata": {},
   "outputs": [],
   "source": [
    "import numpy as np\n",
    "import pandas as pd\n",
    "import seaborn as sns \n",
    "import numpy as np\n",
    "from keras.models import Sequential\n",
    "from keras.layers import Dense\n",
    "import matplotlib.pyplot as plt\n",
    "import scipy\n",
    "from sklearn.metrics import mean_squared_error, mean_absolute_error\n",
    "%matplotlib inline\n",
    "df=pd.read_csv(\"covid_19_data.csv\")"
   ]
  },
  {
   "cell_type": "code",
   "execution_count": 33,
   "metadata": {},
   "outputs": [
    {
     "data": {
      "text/html": [
       "<div>\n",
       "<style scoped>\n",
       "    .dataframe tbody tr th:only-of-type {\n",
       "        vertical-align: middle;\n",
       "    }\n",
       "\n",
       "    .dataframe tbody tr th {\n",
       "        vertical-align: top;\n",
       "    }\n",
       "\n",
       "    .dataframe thead th {\n",
       "        text-align: right;\n",
       "    }\n",
       "</style>\n",
       "<table border=\"1\" class=\"dataframe\">\n",
       "  <thead>\n",
       "    <tr style=\"text-align: right;\">\n",
       "      <th></th>\n",
       "      <th>SNo</th>\n",
       "      <th>ObservationDate</th>\n",
       "      <th>Province/State</th>\n",
       "      <th>Country/Region</th>\n",
       "      <th>Last Update</th>\n",
       "      <th>Confirmed</th>\n",
       "      <th>Deaths</th>\n",
       "      <th>Recovered</th>\n",
       "    </tr>\n",
       "  </thead>\n",
       "  <tbody>\n",
       "    <tr>\n",
       "      <td>0</td>\n",
       "      <td>1</td>\n",
       "      <td>01/22/2020</td>\n",
       "      <td>Anhui</td>\n",
       "      <td>Mainland China</td>\n",
       "      <td>1/22/2020 17:00</td>\n",
       "      <td>1.0</td>\n",
       "      <td>0.0</td>\n",
       "      <td>0.0</td>\n",
       "    </tr>\n",
       "    <tr>\n",
       "      <td>1</td>\n",
       "      <td>2</td>\n",
       "      <td>01/22/2020</td>\n",
       "      <td>Beijing</td>\n",
       "      <td>Mainland China</td>\n",
       "      <td>1/22/2020 17:00</td>\n",
       "      <td>14.0</td>\n",
       "      <td>0.0</td>\n",
       "      <td>0.0</td>\n",
       "    </tr>\n",
       "    <tr>\n",
       "      <td>2</td>\n",
       "      <td>3</td>\n",
       "      <td>01/22/2020</td>\n",
       "      <td>Chongqing</td>\n",
       "      <td>Mainland China</td>\n",
       "      <td>1/22/2020 17:00</td>\n",
       "      <td>6.0</td>\n",
       "      <td>0.0</td>\n",
       "      <td>0.0</td>\n",
       "    </tr>\n",
       "    <tr>\n",
       "      <td>3</td>\n",
       "      <td>4</td>\n",
       "      <td>01/22/2020</td>\n",
       "      <td>Fujian</td>\n",
       "      <td>Mainland China</td>\n",
       "      <td>1/22/2020 17:00</td>\n",
       "      <td>1.0</td>\n",
       "      <td>0.0</td>\n",
       "      <td>0.0</td>\n",
       "    </tr>\n",
       "    <tr>\n",
       "      <td>4</td>\n",
       "      <td>5</td>\n",
       "      <td>01/22/2020</td>\n",
       "      <td>Gansu</td>\n",
       "      <td>Mainland China</td>\n",
       "      <td>1/22/2020 17:00</td>\n",
       "      <td>0.0</td>\n",
       "      <td>0.0</td>\n",
       "      <td>0.0</td>\n",
       "    </tr>\n",
       "  </tbody>\n",
       "</table>\n",
       "</div>"
      ],
      "text/plain": [
       "   SNo ObservationDate Province/State  Country/Region      Last Update  \\\n",
       "0    1      01/22/2020          Anhui  Mainland China  1/22/2020 17:00   \n",
       "1    2      01/22/2020        Beijing  Mainland China  1/22/2020 17:00   \n",
       "2    3      01/22/2020      Chongqing  Mainland China  1/22/2020 17:00   \n",
       "3    4      01/22/2020         Fujian  Mainland China  1/22/2020 17:00   \n",
       "4    5      01/22/2020          Gansu  Mainland China  1/22/2020 17:00   \n",
       "\n",
       "   Confirmed  Deaths  Recovered  \n",
       "0        1.0     0.0        0.0  \n",
       "1       14.0     0.0        0.0  \n",
       "2        6.0     0.0        0.0  \n",
       "3        1.0     0.0        0.0  \n",
       "4        0.0     0.0        0.0  "
      ]
     },
     "execution_count": 33,
     "metadata": {},
     "output_type": "execute_result"
    }
   ],
   "source": [
    "df.head()\n"
   ]
  },
  {
   "cell_type": "code",
   "execution_count": 34,
   "metadata": {},
   "outputs": [
    {
     "data": {
      "text/html": [
       "<div>\n",
       "<style scoped>\n",
       "    .dataframe tbody tr th:only-of-type {\n",
       "        vertical-align: middle;\n",
       "    }\n",
       "\n",
       "    .dataframe tbody tr th {\n",
       "        vertical-align: top;\n",
       "    }\n",
       "\n",
       "    .dataframe thead th {\n",
       "        text-align: right;\n",
       "    }\n",
       "</style>\n",
       "<table border=\"1\" class=\"dataframe\">\n",
       "  <thead>\n",
       "    <tr style=\"text-align: right;\">\n",
       "      <th></th>\n",
       "      <th>SNo</th>\n",
       "      <th>ObservationDate</th>\n",
       "      <th>Province/State</th>\n",
       "      <th>Country/Region</th>\n",
       "      <th>Last Update</th>\n",
       "      <th>Confirmed</th>\n",
       "      <th>Deaths</th>\n",
       "      <th>Recovered</th>\n",
       "    </tr>\n",
       "  </thead>\n",
       "  <tbody>\n",
       "    <tr>\n",
       "      <td>109377</td>\n",
       "      <td>109378</td>\n",
       "      <td>09/13/2020</td>\n",
       "      <td>Zaporizhia Oblast</td>\n",
       "      <td>Ukraine</td>\n",
       "      <td>2020-09-14 04:26:09</td>\n",
       "      <td>2347.0</td>\n",
       "      <td>33.0</td>\n",
       "      <td>1055.0</td>\n",
       "    </tr>\n",
       "    <tr>\n",
       "      <td>109378</td>\n",
       "      <td>109379</td>\n",
       "      <td>09/13/2020</td>\n",
       "      <td>Zeeland</td>\n",
       "      <td>Netherlands</td>\n",
       "      <td>2020-09-14 04:26:09</td>\n",
       "      <td>1135.0</td>\n",
       "      <td>72.0</td>\n",
       "      <td>0.0</td>\n",
       "    </tr>\n",
       "    <tr>\n",
       "      <td>109379</td>\n",
       "      <td>109380</td>\n",
       "      <td>09/13/2020</td>\n",
       "      <td>Zhejiang</td>\n",
       "      <td>Mainland China</td>\n",
       "      <td>2020-09-14 04:26:09</td>\n",
       "      <td>1280.0</td>\n",
       "      <td>1.0</td>\n",
       "      <td>1268.0</td>\n",
       "    </tr>\n",
       "    <tr>\n",
       "      <td>109380</td>\n",
       "      <td>109381</td>\n",
       "      <td>09/13/2020</td>\n",
       "      <td>Zhytomyr Oblast</td>\n",
       "      <td>Ukraine</td>\n",
       "      <td>2020-09-14 04:26:09</td>\n",
       "      <td>4292.0</td>\n",
       "      <td>82.0</td>\n",
       "      <td>2352.0</td>\n",
       "    </tr>\n",
       "    <tr>\n",
       "      <td>109381</td>\n",
       "      <td>109382</td>\n",
       "      <td>09/13/2020</td>\n",
       "      <td>Zuid-Holland</td>\n",
       "      <td>Netherlands</td>\n",
       "      <td>2020-09-14 04:26:09</td>\n",
       "      <td>23330.0</td>\n",
       "      <td>1354.0</td>\n",
       "      <td>0.0</td>\n",
       "    </tr>\n",
       "  </tbody>\n",
       "</table>\n",
       "</div>"
      ],
      "text/plain": [
       "           SNo ObservationDate     Province/State  Country/Region  \\\n",
       "109377  109378      09/13/2020  Zaporizhia Oblast         Ukraine   \n",
       "109378  109379      09/13/2020            Zeeland     Netherlands   \n",
       "109379  109380      09/13/2020           Zhejiang  Mainland China   \n",
       "109380  109381      09/13/2020    Zhytomyr Oblast         Ukraine   \n",
       "109381  109382      09/13/2020       Zuid-Holland     Netherlands   \n",
       "\n",
       "                Last Update  Confirmed  Deaths  Recovered  \n",
       "109377  2020-09-14 04:26:09     2347.0    33.0     1055.0  \n",
       "109378  2020-09-14 04:26:09     1135.0    72.0        0.0  \n",
       "109379  2020-09-14 04:26:09     1280.0     1.0     1268.0  \n",
       "109380  2020-09-14 04:26:09     4292.0    82.0     2352.0  \n",
       "109381  2020-09-14 04:26:09    23330.0  1354.0        0.0  "
      ]
     },
     "execution_count": 34,
     "metadata": {},
     "output_type": "execute_result"
    }
   ],
   "source": [
    "df.tail()"
   ]
  },
  {
   "cell_type": "code",
   "execution_count": 35,
   "metadata": {},
   "outputs": [
    {
     "name": "stdout",
     "output_type": "stream",
     "text": [
      "<class 'pandas.core.frame.DataFrame'>\n",
      "RangeIndex: 109382 entries, 0 to 109381\n",
      "Data columns (total 8 columns):\n",
      "SNo                109382 non-null int64\n",
      "ObservationDate    109382 non-null object\n",
      "Province/State     75709 non-null object\n",
      "Country/Region     109382 non-null object\n",
      "Last Update        109382 non-null object\n",
      "Confirmed          109382 non-null float64\n",
      "Deaths             109382 non-null float64\n",
      "Recovered          109382 non-null float64\n",
      "dtypes: float64(3), int64(1), object(4)\n",
      "memory usage: 6.7+ MB\n"
     ]
    }
   ],
   "source": [
    "df.info()"
   ]
  },
  {
   "cell_type": "code",
   "execution_count": 36,
   "metadata": {},
   "outputs": [
    {
     "name": "stdout",
     "output_type": "stream",
     "text": [
      "SNo                    0\n",
      "ObservationDate        0\n",
      "Province/State     33673\n",
      "Country/Region         0\n",
      "Last Update            0\n",
      "Confirmed              0\n",
      "Deaths                 0\n",
      "Recovered              0\n",
      "dtype: int64\n"
     ]
    },
    {
     "data": {
      "text/plain": [
       "<matplotlib.axes._subplots.AxesSubplot at 0x1e0cb7a7d88>"
      ]
     },
     "execution_count": 36,
     "metadata": {},
     "output_type": "execute_result"
    },
    {
     "data": {
      "image/png": "[encoded data removed]",
      "text/plain": [
       "<Figure size 432x288 with 2 Axes>"
      ]
     },
     "metadata": {
      "needs_background": "light"
     },
     "output_type": "display_data"
    }
   ],
   "source": [
    "print(df.isnull().sum())\n",
    "sns.heatmap(df.isnull())"
   ]
  },
  {
   "cell_type": "code",
   "execution_count": 37,
   "metadata": {},
   "outputs": [
    {
     "name": "stdout",
     "output_type": "stream",
     "text": [
      "                SNo  Confirmed    Deaths  Recovered\n",
      "SNo        1.000000   0.195046  0.102946   0.132471\n",
      "Confirmed  0.195046   1.000000  0.733350   0.415016\n",
      "Deaths     0.102946   0.733350  1.000000   0.247780\n",
      "Recovered  0.132471   0.415016  0.247780   1.000000\n"
     ]
    },
    {
     "data": {
      "text/plain": [
       "<matplotlib.axes._subplots.AxesSubplot at 0x1e0cbe7b188>"
      ]
     },
     "execution_count": 37,
     "metadata": {},
     "output_type": "execute_result"
    },
    {
     "data": {
      "image/png": "[encoded data removed]",
      "text/plain": [
       "<Figure size 432x288 with 2 Axes>"
      ]
     },
     "metadata": {
      "needs_background": "light"
     },
     "output_type": "display_data"
    }
   ],
   "source": [
    "print(df.corr())\n",
    "sns.heatmap(df.corr())"
   ]
  },
  {
   "cell_type": "code",
   "execution_count": 38,
   "metadata": {},
   "outputs": [
    {
     "data": {
      "text/html": [
       "<div>\n",
       "<style scoped>\n",
       "    .dataframe tbody tr th:only-of-type {\n",
       "        vertical-align: middle;\n",
       "    }\n",
       "\n",
       "    .dataframe tbody tr th {\n",
       "        vertical-align: top;\n",
       "    }\n",
       "\n",
       "    .dataframe thead th {\n",
       "        text-align: right;\n",
       "    }\n",
       "</style>\n",
       "<table border=\"1\" class=\"dataframe\">\n",
       "  <thead>\n",
       "    <tr style=\"text-align: right;\">\n",
       "      <th></th>\n",
       "      <th>SNo</th>\n",
       "      <th>Confirmed</th>\n",
       "      <th>Deaths</th>\n",
       "      <th>Recovered</th>\n",
       "    </tr>\n",
       "  </thead>\n",
       "  <tbody>\n",
       "    <tr>\n",
       "      <td>count</td>\n",
       "      <td>109382.000000</td>\n",
       "      <td>1.093820e+05</td>\n",
       "      <td>109382.000000</td>\n",
       "      <td>1.093820e+05</td>\n",
       "    </tr>\n",
       "    <tr>\n",
       "      <td>mean</td>\n",
       "      <td>54691.500000</td>\n",
       "      <td>1.758725e+04</td>\n",
       "      <td>743.484056</td>\n",
       "      <td>1.002470e+04</td>\n",
       "    </tr>\n",
       "    <tr>\n",
       "      <td>std</td>\n",
       "      <td>31576.007909</td>\n",
       "      <td>5.350244e+04</td>\n",
       "      <td>2796.896571</td>\n",
       "      <td>5.647842e+04</td>\n",
       "    </tr>\n",
       "    <tr>\n",
       "      <td>min</td>\n",
       "      <td>1.000000</td>\n",
       "      <td>0.000000e+00</td>\n",
       "      <td>0.000000</td>\n",
       "      <td>0.000000e+00</td>\n",
       "    </tr>\n",
       "    <tr>\n",
       "      <td>25%</td>\n",
       "      <td>27346.250000</td>\n",
       "      <td>2.160000e+02</td>\n",
       "      <td>3.000000</td>\n",
       "      <td>3.000000e+00</td>\n",
       "    </tr>\n",
       "    <tr>\n",
       "      <td>50%</td>\n",
       "      <td>54691.500000</td>\n",
       "      <td>1.926000e+03</td>\n",
       "      <td>38.000000</td>\n",
       "      <td>3.560000e+02</td>\n",
       "    </tr>\n",
       "    <tr>\n",
       "      <td>75%</td>\n",
       "      <td>82036.750000</td>\n",
       "      <td>9.550750e+03</td>\n",
       "      <td>305.000000</td>\n",
       "      <td>3.395000e+03</td>\n",
       "    </tr>\n",
       "    <tr>\n",
       "      <td>max</td>\n",
       "      <td>109382.000000</td>\n",
       "      <td>1.037765e+06</td>\n",
       "      <td>42072.000000</td>\n",
       "      <td>2.451406e+06</td>\n",
       "    </tr>\n",
       "  </tbody>\n",
       "</table>\n",
       "</div>"
      ],
      "text/plain": [
       "                 SNo     Confirmed         Deaths     Recovered\n",
       "count  109382.000000  1.093820e+05  109382.000000  1.093820e+05\n",
       "mean    54691.500000  1.758725e+04     743.484056  1.002470e+04\n",
       "std     31576.007909  5.350244e+04    2796.896571  5.647842e+04\n",
       "min         1.000000  0.000000e+00       0.000000  0.000000e+00\n",
       "25%     27346.250000  2.160000e+02       3.000000  3.000000e+00\n",
       "50%     54691.500000  1.926000e+03      38.000000  3.560000e+02\n",
       "75%     82036.750000  9.550750e+03     305.000000  3.395000e+03\n",
       "max    109382.000000  1.037765e+06   42072.000000  2.451406e+06"
      ]
     },
     "execution_count": 38,
     "metadata": {},
     "output_type": "execute_result"
    }
   ],
   "source": [
    "df.describe()"
   ]
  },
  {
   "cell_type": "code",
   "execution_count": 39,
   "metadata": {},
   "outputs": [
    {
     "data": {
      "text/plain": [
       "US                 11776\n",
       "Russia              8837\n",
       "Mainland China      7314\n",
       "Japan               5417\n",
       "Mexico              3827\n",
       "                   ...  \n",
       "Cape Verde             1\n",
       "North Ireland          1\n",
       "St. Martin             1\n",
       "('St. Martin',)        1\n",
       "East Timor             1\n",
       "Name: Country/Region, Length: 223, dtype: int64"
      ]
     },
     "execution_count": 39,
     "metadata": {},
     "output_type": "execute_result"
    }
   ],
   "source": [
    "df['Country/Region'].value_counts()"
   ]
  },
  {
   "cell_type": "code",
   "execution_count": 40,
   "metadata": {},
   "outputs": [],
   "source": [
    "df.rename(columns={'ObservationDate':'Date', 'Province/State':'state', 'Country/Region':'Country', 'Last Update':'Recent'}, inplace=True)"
   ]
  },
  {
   "cell_type": "code",
   "execution_count": 41,
   "metadata": {},
   "outputs": [
    {
     "data": {
      "text/html": [
       "<div>\n",
       "<style scoped>\n",
       "    .dataframe tbody tr th:only-of-type {\n",
       "        vertical-align: middle;\n",
       "    }\n",
       "\n",
       "    .dataframe tbody tr th {\n",
       "        vertical-align: top;\n",
       "    }\n",
       "\n",
       "    .dataframe thead th {\n",
       "        text-align: right;\n",
       "    }\n",
       "</style>\n",
       "<table border=\"1\" class=\"dataframe\">\n",
       "  <thead>\n",
       "    <tr style=\"text-align: right;\">\n",
       "      <th></th>\n",
       "      <th>SNo</th>\n",
       "      <th>Date</th>\n",
       "      <th>state</th>\n",
       "      <th>Country</th>\n",
       "      <th>Recent</th>\n",
       "      <th>Confirmed</th>\n",
       "      <th>Deaths</th>\n",
       "      <th>Recovered</th>\n",
       "    </tr>\n",
       "  </thead>\n",
       "  <tbody>\n",
       "    <tr>\n",
       "      <td>0</td>\n",
       "      <td>1</td>\n",
       "      <td>01/22/2020</td>\n",
       "      <td>Anhui</td>\n",
       "      <td>Mainland China</td>\n",
       "      <td>1/22/2020 17:00</td>\n",
       "      <td>1.0</td>\n",
       "      <td>0.0</td>\n",
       "      <td>0.0</td>\n",
       "    </tr>\n",
       "    <tr>\n",
       "      <td>1</td>\n",
       "      <td>2</td>\n",
       "      <td>01/22/2020</td>\n",
       "      <td>Beijing</td>\n",
       "      <td>Mainland China</td>\n",
       "      <td>1/22/2020 17:00</td>\n",
       "      <td>14.0</td>\n",
       "      <td>0.0</td>\n",
       "      <td>0.0</td>\n",
       "    </tr>\n",
       "    <tr>\n",
       "      <td>2</td>\n",
       "      <td>3</td>\n",
       "      <td>01/22/2020</td>\n",
       "      <td>Chongqing</td>\n",
       "      <td>Mainland China</td>\n",
       "      <td>1/22/2020 17:00</td>\n",
       "      <td>6.0</td>\n",
       "      <td>0.0</td>\n",
       "      <td>0.0</td>\n",
       "    </tr>\n",
       "    <tr>\n",
       "      <td>3</td>\n",
       "      <td>4</td>\n",
       "      <td>01/22/2020</td>\n",
       "      <td>Fujian</td>\n",
       "      <td>Mainland China</td>\n",
       "      <td>1/22/2020 17:00</td>\n",
       "      <td>1.0</td>\n",
       "      <td>0.0</td>\n",
       "      <td>0.0</td>\n",
       "    </tr>\n",
       "    <tr>\n",
       "      <td>4</td>\n",
       "      <td>5</td>\n",
       "      <td>01/22/2020</td>\n",
       "      <td>Gansu</td>\n",
       "      <td>Mainland China</td>\n",
       "      <td>1/22/2020 17:00</td>\n",
       "      <td>0.0</td>\n",
       "      <td>0.0</td>\n",
       "      <td>0.0</td>\n",
       "    </tr>\n",
       "  </tbody>\n",
       "</table>\n",
       "</div>"
      ],
      "text/plain": [
       "   SNo        Date      state         Country           Recent  Confirmed  \\\n",
       "0    1  01/22/2020      Anhui  Mainland China  1/22/2020 17:00        1.0   \n",
       "1    2  01/22/2020    Beijing  Mainland China  1/22/2020 17:00       14.0   \n",
       "2    3  01/22/2020  Chongqing  Mainland China  1/22/2020 17:00        6.0   \n",
       "3    4  01/22/2020     Fujian  Mainland China  1/22/2020 17:00        1.0   \n",
       "4    5  01/22/2020      Gansu  Mainland China  1/22/2020 17:00        0.0   \n",
       "\n",
       "   Deaths  Recovered  \n",
       "0     0.0        0.0  \n",
       "1     0.0        0.0  \n",
       "2     0.0        0.0  \n",
       "3     0.0        0.0  \n",
       "4     0.0        0.0  "
      ]
     },
     "execution_count": 41,
     "metadata": {},
     "output_type": "execute_result"
    }
   ],
   "source": [
    "df.head()"
   ]
  },
  {
   "cell_type": "code",
   "execution_count": 42,
   "metadata": {
    "scrolled": true
   },
   "outputs": [
    {
     "data": {
      "text/plain": [
       "array(['Anhui', 'Beijing', 'Chongqing', 'Fujian', 'Gansu', 'Guangdong',\n",
       "       'Guangxi', 'Guizhou', 'Hainan', 'Hebei', 'Heilongjiang', 'Henan',\n",
       "       'Hong Kong', 'Hubei', 'Hunan', 'Inner Mongolia', 'Jiangsu',\n",
       "       'Jiangxi', 'Jilin', 'Liaoning', 'Macau', 'Ningxia', 'Qinghai',\n",
       "       'Shaanxi', 'Shandong', 'Shanghai', 'Shanxi', 'Sichuan', 'Taiwan',\n",
       "       'Tianjin', 'Tibet', 'Washington', 'Xinjiang', 'Yunnan', 'Zhejiang',\n",
       "       nan, 'Chicago', 'Illinois', 'California', 'Arizona', 'Ontario',\n",
       "       'New South Wales', 'Victoria', 'British Columbia', 'Bavaria',\n",
       "       'Queensland', 'Chicago, IL', 'South Australia', 'Boston, MA',\n",
       "       'Los Angeles, CA', 'Orange, CA', 'Santa Clara, CA', 'Seattle, WA',\n",
       "       'Tempe, AZ', 'San Benito, CA', 'Toronto, ON', 'London, ON',\n",
       "       'Madison, WI', 'Cruise Ship', 'Diamond Princess cruise ship',\n",
       "       'San Diego County, CA', 'San Antonio, TX', 'Ashland, NE',\n",
       "       'Travis, CA', 'From Diamond Princess', 'Lackland, TX', 'None',\n",
       "       'Humboldt County, CA', 'Sacramento County, CA',\n",
       "       'Omaha, NE (From Diamond Princess)',\n",
       "       'Travis, CA (From Diamond Princess)',\n",
       "       'Lackland, TX (From Diamond Princess)',\n",
       "       'Unassigned Location (From Diamond Princess)', ' Montreal, QC',\n",
       "       'Western Australia', 'Portland, OR', 'Snohomish County, WA',\n",
       "       'Providence, RI', 'King County, WA', 'Cook County, IL', 'Tasmania',\n",
       "       'Grafton County, NH', 'Hillsborough, FL', 'New York City, NY',\n",
       "       'Placer County, CA', 'San Mateo, CA', 'Sarasota, FL',\n",
       "       'Sonoma County, CA', 'Umatilla, OR', 'Fulton County, GA',\n",
       "       'Washington County, OR', ' Norfolk County, MA', 'Berkeley, CA',\n",
       "       'Maricopa County, AZ', 'Wake County, NC', 'Westchester County, NY',\n",
       "       'Orange County, CA', 'Northern Territory',\n",
       "       'Contra Costa County, CA', 'Bergen County, NJ',\n",
       "       'Harris County, TX', 'San Francisco County, CA',\n",
       "       'Clark County, NV', 'Fort Bend County, TX', 'Grant County, WA',\n",
       "       'Queens County, NY', 'Santa Rosa County, FL',\n",
       "       'Williamson County, TN', 'New York County, NY',\n",
       "       'Unassigned Location, WA', 'Montgomery County, MD',\n",
       "       'Suffolk County, MA', 'Denver County, CO', 'Summit County, CO',\n",
       "       'Calgary, Alberta', 'Chatham County, NC', 'Delaware County, PA',\n",
       "       'Douglas County, NE', 'Fayette County, KY', 'Floyd County, GA',\n",
       "       'Marion County, IN', 'Middlesex County, MA', 'Nassau County, NY',\n",
       "       'Norwell County, MA', 'Ramsey County, MN', 'Washoe County, NV',\n",
       "       'Wayne County, PA', 'Yolo County, CA', 'Santa Clara County, CA',\n",
       "       'Grand Princess Cruise Ship', 'Douglas County, CO',\n",
       "       'Providence County, RI', 'Alameda County, CA',\n",
       "       'Broward County, FL', 'Fairfield County, CT', 'Lee County, FL',\n",
       "       'Pinal County, AZ', 'Rockland County, NY', 'Saratoga County, NY',\n",
       "       'Edmonton, Alberta', 'Charleston County, SC', 'Clark County, WA',\n",
       "       'Cobb County, GA', 'Davis County, UT', 'El Paso County, CO',\n",
       "       'Honolulu County, HI', 'Jackson County, OR ',\n",
       "       'Jefferson County, WA', 'Kershaw County, SC', 'Klamath County, OR',\n",
       "       'Madera County, CA', 'Pierce County, WA', 'Plymouth County, MA',\n",
       "       'Santa Cruz County, CA', 'Tulsa County, OK',\n",
       "       'Montgomery County, TX', 'Norfolk County, MA',\n",
       "       'Montgomery County, PA', 'Fairfax County, VA',\n",
       "       'Rockingham County, NH', 'Washington, D.C.',\n",
       "       'Berkshire County, MA', 'Davidson County, TN',\n",
       "       'Douglas County, OR', 'Fresno County, CA', 'Harford County, MD',\n",
       "       'Hendricks County, IN', 'Hudson County, NJ', 'Johnson County, KS',\n",
       "       'Kittitas County, WA', 'Manatee County, FL', 'Marion County, OR',\n",
       "       'Okaloosa County, FL', 'Polk County, GA', 'Riverside County, CA',\n",
       "       'Shelby County, TN', 'Spokane County, WA', 'St. Louis County, MO',\n",
       "       'Suffolk County, NY', 'Ulster County, NY',\n",
       "       'Unassigned Location, VT', 'Unknown Location, MA',\n",
       "       'Volusia County, FL', 'Alberta', 'Quebec', 'Johnson County, IA',\n",
       "       'Harrison County, KY', 'Bennington County, VT',\n",
       "       'Carver County, MN', 'Charlotte County, FL', 'Cherokee County, GA',\n",
       "       'Collin County, TX', 'Jefferson County, KY',\n",
       "       'Jefferson Parish, LA', 'Shasta County, CA',\n",
       "       'Spartanburg County, SC', 'New York', 'Massachusetts',\n",
       "       'Grand Princess', 'Georgia', 'Colorado', 'Florida', 'New Jersey',\n",
       "       'Oregon', 'Texas', 'Pennsylvania', 'Iowa', 'Maryland',\n",
       "       'North Carolina', 'South Carolina', 'Tennessee', 'Virginia',\n",
       "       'Indiana', 'Kentucky', 'District of Columbia', 'Nevada',\n",
       "       'New Hampshire', 'Minnesota', 'Nebraska', 'Ohio', 'Rhode Island',\n",
       "       'Wisconsin', 'Connecticut', 'Hawaii', 'Oklahoma', 'Utah', 'Kansas',\n",
       "       'Louisiana', 'Missouri', 'Vermont', 'Alaska', 'Arkansas',\n",
       "       'Delaware', 'Idaho', 'Maine', 'Michigan', 'Mississippi', 'Montana',\n",
       "       'New Mexico', 'North Dakota', 'South Dakota', 'West Virginia',\n",
       "       'Wyoming', 'France', 'UK', 'Denmark', 'Faroe Islands', 'St Martin',\n",
       "       'Channel Islands', 'New Brunswick', 'Saint Barthelemy',\n",
       "       'Gibraltar', 'Australian Capital Territory', 'United Kingdom',\n",
       "       'French Polynesia', 'Manitoba', 'Saskatchewan', 'Alabama',\n",
       "       'Fench Guiana', 'Puerto Rico', 'Virgin Islands, U.S.',\n",
       "       'French Guiana', 'Guam', 'Newfoundland and Labrador',\n",
       "       'Prince Edward Island', 'Mayotte', 'Netherlands', 'Nova Scotia',\n",
       "       'Guadeloupe', 'Curacao', 'Virgin Islands', 'Cayman Islands',\n",
       "       'Reunion', 'Aruba', 'United States Virgin Islands', 'US',\n",
       "       'Montserrat', 'Greenland', 'New Caledonia', 'Bermuda',\n",
       "       'Sint Maarten', 'Isle of Man', 'Northwest Territories',\n",
       "       'American Samoa', 'External territories', 'Jervis Bay Territory',\n",
       "       'Martinique', 'Northern Mariana Islands', 'Wuhan Evacuee',\n",
       "       'Recovered', 'Yukon', 'Anguilla', 'British Virgin Islands',\n",
       "       'Turks and Caicos Islands', 'Bonaire, Sint Eustatius and Saba',\n",
       "       'Falkland Islands (Islas Malvinas)', 'Saint Pierre and Miquelon',\n",
       "       'Falkland Islands (Malvinas)', 'Abruzzo', 'Andalusia', 'Aragon',\n",
       "       'Asturias', 'Baden-Wurttemberg', 'Baleares', 'Basilicata',\n",
       "       'Bayern', 'Berlin', 'Brandenburg', 'Bremen', 'C. Valenciana',\n",
       "       'Calabria', 'Campania', 'Canarias', 'Cantabria',\n",
       "       'Castilla - La Mancha', 'Castilla y Leon', 'Catalonia', 'Ceuta',\n",
       "       'Emilia-Romagna', 'Extremadura', 'Friuli Venezia Giulia',\n",
       "       'Galicia', 'Hamburg', 'Hessen', 'La Rioja', 'Lazio', 'Liguria',\n",
       "       'Lombardia', 'Madrid', 'Marche', 'Mecklenburg-Vorpommern',\n",
       "       'Melilla', 'Molise', 'Murcia', 'Navarra', 'Niedersachsen',\n",
       "       'Nordrhein-Westfalen', 'P.A. Bolzano', 'P.A. Trento', 'Pais Vasco',\n",
       "       'Piemonte', 'Puglia', 'Rheinland-Pfalz', 'Saarland', 'Sachsen',\n",
       "       'Sachsen-Anhalt', 'Sardegna', 'Schleswig-Holstein', 'Sicilia',\n",
       "       'Thuringen', 'Toscana', 'Umbria', 'Unknown', \"Valle d'Aosta\",\n",
       "       'Veneto', 'Acre', 'Aguascalientes', 'Alagoas', 'Amapa', 'Amazonas',\n",
       "       'Antofagasta', 'Araucania', 'Arica y Parinacota', 'Atacama',\n",
       "       'Aysen', 'Bahia', 'Baja California', 'Baja California Sur',\n",
       "       'Biobio', 'Campeche', 'Ceara', 'Chiapas', 'Chihuahua',\n",
       "       'Ciudad de Mexico', 'Coahuila', 'Colima', 'Coquimbo',\n",
       "       'Distrito Federal', 'Durango', 'Espirito Santo', 'Goias',\n",
       "       'Guanajuato', 'Guerrero', 'Hidalgo', 'Jalisco', 'Los Lagos',\n",
       "       'Los Rios', 'Magallanes', 'Maranhao', 'Mato Grosso',\n",
       "       'Mato Grosso do Sul', 'Maule', 'Metropolitana', 'Mexico',\n",
       "       'Michoacan', 'Minas Gerais', 'Morelos', 'Nayarit', 'Nuble',\n",
       "       'Nuevo Leon', 'OHiggins', 'Oaxaca', 'Para', 'Paraiba', 'Parana',\n",
       "       'Pernambuco', 'Piaui', 'Puebla', 'Queretaro', 'Quintana Roo',\n",
       "       'Rio Grande do Norte', 'Rio Grande do Sul', 'Rio de Janeiro',\n",
       "       'Rondonia', 'Roraima', 'San Luis Potosi', 'Santa Catarina',\n",
       "       'Sao Paulo', 'Sergipe', 'Sinaloa', 'Sonora', 'Tabasco',\n",
       "       'Tamaulipas', 'Tarapaca', 'Tlaxcala', 'Tocantins', 'Valparaiso',\n",
       "       'Veracruz', 'Yucatan', 'Zacatecas', 'Aichi', 'Akita', 'Ancash',\n",
       "       'Antioquia', 'Aomori', 'Apurimac', 'Arauca', 'Arequipa',\n",
       "       'Atlantico', 'Ayacucho', 'Bolivar', 'Boyaca', 'Cajamarca',\n",
       "       'Caldas', 'Callao', 'Capital District', 'Caqueta', 'Casanare',\n",
       "       'Cauca', 'Cesar', 'Chiba', 'Choco', 'Cordoba', 'Cundinamarca',\n",
       "       'Cusco', 'Ehime', 'Fukui', 'Fukuoka', 'Fukushima', 'Gifu', 'Gunma',\n",
       "       'Hiroshima', 'Hokkaido', 'Huancavelica', 'Huanuco', 'Huila',\n",
       "       'Hyogo', 'Ibaraki', 'Ica', 'Ishikawa', 'Junin', 'Kagawa',\n",
       "       'Kagoshima', 'Kanagawa', 'Kochi', 'Kumamoto', 'Kyoto',\n",
       "       'La Guajira', 'La Libertad', 'Lambayeque', 'Lima', 'Loreto',\n",
       "       'Madre de Dios', 'Magdalena', 'Meta', 'Mie', 'Miyagi', 'Miyazaki',\n",
       "       'Moquegua', 'Nagano', 'Nagasaki', 'Nara', 'Narino', 'Niigata',\n",
       "       'Norte de Santander', 'Oita', 'Okayama', 'Okinawa', 'Osaka',\n",
       "       'Pasco', 'Piura', 'Port Quarantine', 'Puno', 'Putumayo', 'Quindio',\n",
       "       'Risaralda', 'Saga', 'Saitama', 'San Andres y Providencia',\n",
       "       'San Martin', 'Santander', 'Shiga', 'Shimane', 'Shizuoka', 'Sucre',\n",
       "       'Tacna', 'Tochigi', 'Tokushima', 'Tokyo', 'Tolima', 'Tottori',\n",
       "       'Toyama', 'Tumbes', 'Ucayali', 'Valle del Cauca', 'Vaupes',\n",
       "       'Wakayama', 'Yamagata', 'Yamaguchi', 'Yamanashi', 'Guainia',\n",
       "       'Vichada', 'Adygea Republic', 'Altai Krai', 'Altai Republic',\n",
       "       'Amur Oblast', 'Arkhangelsk Oblast', 'Astrakhan Oblast',\n",
       "       'Bashkortostan Republic', 'Belgorod Oblast', 'Bryansk Oblast',\n",
       "       'Buryatia Republic', 'Chechen Republic', 'Chelyabinsk Oblast',\n",
       "       'Cherkasy Oblast', 'Chernihiv Oblast', 'Chernivtsi Oblast',\n",
       "       'Chukotka Autonomous Okrug', 'Chuvashia Republic',\n",
       "       'Crimea Republic*', 'Dagestan Republic', 'Dnipropetrovsk Oblast',\n",
       "       'Donetsk Oblast', 'Ingushetia Republic', 'Irkutsk Oblast',\n",
       "       'Ivano-Frankivsk Oblast', 'Ivanovo Oblast',\n",
       "       'Jewish Autonomous Okrug', 'Kabardino-Balkarian Republic',\n",
       "       'Kaliningrad Oblast', 'Kalmykia Republic', 'Kaluga Oblast',\n",
       "       'Kamchatka Krai', 'Karachay-Cherkess Republic', 'Karelia Republic',\n",
       "       'Kemerovo Oblast', 'Khabarovsk Krai', 'Khakassia Republic',\n",
       "       'Khanty-Mansi Autonomous Okrug', 'Kharkiv Oblast',\n",
       "       'Kherson Oblast', 'Khmelnytskyi Oblast', 'Kiev', 'Kiev Oblast',\n",
       "       'Kirov Oblast', 'Kirovohrad Oblast', 'Komi Republic',\n",
       "       'Kostroma Oblast', 'Krasnodar Krai', 'Krasnoyarsk Krai',\n",
       "       'Kurgan Oblast', 'Kursk Oblast', 'Leningrad Oblast',\n",
       "       'Lipetsk Oblast', 'Luhansk Oblast', 'Lviv Oblast',\n",
       "       'Magadan Oblast', 'Mari El Republic', 'Mordovia Republic',\n",
       "       'Moscow', 'Moscow Oblast', 'Murmansk Oblast', 'Mykolaiv Oblast',\n",
       "       'Nenets Autonomous Okrug', 'Nizhny Novgorod Oblast',\n",
       "       'North Ossetia - Alania Republic', 'Novgorod Oblast',\n",
       "       'Novosibirsk Oblast', 'Odessa Oblast', 'Omsk Oblast',\n",
       "       'Orel Oblast', 'Orenburg Oblast', 'Penza Oblast', 'Perm Krai',\n",
       "       'Poltava Oblast', 'Primorsky Krai', 'Pskov Oblast', 'Rivne Oblast',\n",
       "       'Rostov Oblast', 'Ryazan Oblast', 'Saint Petersburg',\n",
       "       'Sakha (Yakutiya) Republic', 'Sakhalin Oblast', 'Samara Oblast',\n",
       "       'Saratov Oblast', 'Sevastopol*', 'Smolensk Oblast',\n",
       "       'Stavropol Krai', 'Sumy Oblast', 'Sverdlovsk Oblast',\n",
       "       'Tambov Oblast', 'Tatarstan Republic', 'Ternopil Oblast',\n",
       "       'Tomsk Oblast', 'Tula Oblast', 'Tver Oblast', 'Tyumen Oblast',\n",
       "       'Tyva Republic', 'Udmurt Republic', 'Ulyanovsk Oblast',\n",
       "       'Vinnytsia Oblast', 'Vladimir Oblast', 'Volgograd Oblast',\n",
       "       'Vologda Oblast', 'Volyn Oblast', 'Voronezh Oblast',\n",
       "       'Yamalo-Nenets Autonomous Okrug', 'Yaroslavl Oblast',\n",
       "       'Zabaykalsky Krai', 'Zakarpattia Oblast', 'Zaporizhia Oblast',\n",
       "       'Zhytomyr Oblast', 'Blekinge', 'Dalarna', 'Gavleborg', 'Gotland',\n",
       "       'Halland', 'Jamtland Harjedalen', 'Jonkoping', 'Kalmar',\n",
       "       'Kronoberg', 'Norrbotten', 'Orebro', 'Ostergotland', 'Skane',\n",
       "       'Sormland', 'Stockholm', 'Uppsala', 'Varmland', 'Vasterbotten',\n",
       "       'Vasternorrland', 'Vastmanland', 'Vastra Gotaland', 'Guaviare',\n",
       "       'Andaman and Nicobar Islands', 'Andhra Pradesh',\n",
       "       'Arunachal Pradesh', 'Assam', 'Azad Jammu and Kashmir',\n",
       "       'Balochistan', 'Bihar', 'Chandigarh', 'Chhattisgarh',\n",
       "       'Dadar Nagar Haveli', 'Delhi', 'Gilgit-Baltistan', 'Goa',\n",
       "       'Gujarat', 'Haryana', 'Himachal Pradesh', 'Islamabad',\n",
       "       'Jammu and Kashmir', 'Jharkhand', 'Karnataka', 'Kerala',\n",
       "       'Khyber Pakhtunkhwa', 'Ladakh', 'Madhya Pradesh', 'Maharashtra',\n",
       "       'Manipur', 'Meghalaya', 'Mizoram', 'Nagaland', 'Odisha',\n",
       "       'Puducherry', 'Punjab', 'Rajasthan', 'Sikkim', 'Sindh',\n",
       "       'Tamil Nadu', 'Telangana', 'Tripura', 'Uttar Pradesh',\n",
       "       'Uttarakhand', 'West Bengal',\n",
       "       'Dadra and Nagar Haveli and Daman and Diu', 'England',\n",
       "       'Northern Ireland', 'Scotland', 'Wales', 'Drenthe', 'Flevoland',\n",
       "       'Friesland', 'Gelderland', 'Groningen', 'Limburg', 'Noord-Brabant',\n",
       "       'Noord-Holland', 'Overijssel', 'Utrecht', 'Zeeland',\n",
       "       'Zuid-Holland', 'Iwate', 'Lakshadweep'], dtype=object)"
      ]
     },
     "execution_count": 42,
     "metadata": {},
     "output_type": "execute_result"
    }
   ],
   "source": [
    "df['state'].unique()"
   ]
  },
  {
   "cell_type": "code",
   "execution_count": 43,
   "metadata": {},
   "outputs": [
    {
     "data": {
      "text/html": [
       "<div>\n",
       "<style scoped>\n",
       "    .dataframe tbody tr th:only-of-type {\n",
       "        vertical-align: middle;\n",
       "    }\n",
       "\n",
       "    .dataframe tbody tr th {\n",
       "        vertical-align: top;\n",
       "    }\n",
       "\n",
       "    .dataframe thead th {\n",
       "        text-align: right;\n",
       "    }\n",
       "</style>\n",
       "<table border=\"1\" class=\"dataframe\">\n",
       "  <thead>\n",
       "    <tr style=\"text-align: right;\">\n",
       "      <th></th>\n",
       "      <th>Confirmed</th>\n",
       "      <th>Deaths</th>\n",
       "      <th>Recovered</th>\n",
       "    </tr>\n",
       "    <tr>\n",
       "      <th>state</th>\n",
       "      <th></th>\n",
       "      <th></th>\n",
       "      <th></th>\n",
       "    </tr>\n",
       "  </thead>\n",
       "  <tbody>\n",
       "    <tr>\n",
       "      <td>Zaporizhia Oblast</td>\n",
       "      <td>96643.0</td>\n",
       "      <td>2138.0</td>\n",
       "      <td>61837.0</td>\n",
       "    </tr>\n",
       "    <tr>\n",
       "      <td>Zeeland</td>\n",
       "      <td>56329.0</td>\n",
       "      <td>4129.0</td>\n",
       "      <td>0.0</td>\n",
       "    </tr>\n",
       "    <tr>\n",
       "      <td>Zhejiang</td>\n",
       "      <td>282036.0</td>\n",
       "      <td>207.0</td>\n",
       "      <td>259641.0</td>\n",
       "    </tr>\n",
       "    <tr>\n",
       "      <td>Zhytomyr Oblast</td>\n",
       "      <td>207945.0</td>\n",
       "      <td>4169.0</td>\n",
       "      <td>132868.0</td>\n",
       "    </tr>\n",
       "    <tr>\n",
       "      <td>Zuid-Holland</td>\n",
       "      <td>967874.0</td>\n",
       "      <td>78196.0</td>\n",
       "      <td>0.0</td>\n",
       "    </tr>\n",
       "  </tbody>\n",
       "</table>\n",
       "</div>"
      ],
      "text/plain": [
       "                   Confirmed   Deaths  Recovered\n",
       "state                                           \n",
       "Zaporizhia Oblast    96643.0   2138.0    61837.0\n",
       "Zeeland              56329.0   4129.0        0.0\n",
       "Zhejiang            282036.0    207.0   259641.0\n",
       "Zhytomyr Oblast     207945.0   4169.0   132868.0\n",
       "Zuid-Holland        967874.0  78196.0        0.0"
      ]
     },
     "execution_count": 43,
     "metadata": {},
     "output_type": "execute_result"
    }
   ],
   "source": [
    "#########     ##########\n",
    "dfstate = df.groupby([\"state\"])[['Confirmed', 'Deaths', 'Recovered']].sum()\n",
    "dfstate.tail()"
   ]
  },
  {
   "cell_type": "code",
   "execution_count": 44,
   "metadata": {},
   "outputs": [
    {
     "name": "stdout",
     "output_type": "stream",
     "text": [
      "Confirmed\n"
     ]
    },
    {
     "data": {
      "image/png": "[encoded data removed]",
      "text/plain": [
       "<Figure size 432x288 with 1 Axes>"
      ]
     },
     "metadata": {
      "needs_background": "light"
     },
     "output_type": "display_data"
    },
    {
     "name": "stdout",
     "output_type": "stream",
     "text": [
      "Deaths\n"
     ]
    },
    {
     "data": {
      "image/png": "[encoded data removed]",
      "text/plain": [
       "<Figure size 432x288 with 1 Axes>"
      ]
     },
     "metadata": {
      "needs_background": "light"
     },
     "output_type": "display_data"
    },
    {
     "name": "stdout",
     "output_type": "stream",
     "text": [
      "Recovered\n"
     ]
    },
    {
     "data": {
      "image/png": "[encoded data removed]",
      "text/plain": [
       "<Figure size 432x288 with 1 Axes>"
      ]
     },
     "metadata": {
      "needs_background": "light"
     },
     "output_type": "display_data"
    }
   ],
   "source": [
    "col=['Confirmed', 'Deaths', 'Recovered']\n",
    "for i in col:\n",
    "    print(i)\n",
    "    plt.plot(df[i])\n",
    "    plt.show()"
   ]
  },
  {
   "cell_type": "code",
   "execution_count": 45,
   "metadata": {},
   "outputs": [
    {
     "data": {
      "text/html": [
       "<div>\n",
       "<style scoped>\n",
       "    .dataframe tbody tr th:only-of-type {\n",
       "        vertical-align: middle;\n",
       "    }\n",
       "\n",
       "    .dataframe tbody tr th {\n",
       "        vertical-align: top;\n",
       "    }\n",
       "\n",
       "    .dataframe thead th {\n",
       "        text-align: right;\n",
       "    }\n",
       "</style>\n",
       "<table border=\"1\" class=\"dataframe\">\n",
       "  <thead>\n",
       "    <tr style=\"text-align: right;\">\n",
       "      <th></th>\n",
       "      <th>Confirmed</th>\n",
       "      <th>Deaths</th>\n",
       "      <th>Recovered</th>\n",
       "    </tr>\n",
       "    <tr>\n",
       "      <th>state</th>\n",
       "      <th></th>\n",
       "      <th></th>\n",
       "      <th></th>\n",
       "    </tr>\n",
       "  </thead>\n",
       "  <tbody>\n",
       "    <tr>\n",
       "      <td>New York</td>\n",
       "      <td>60389214.0</td>\n",
       "      <td>4640076.0</td>\n",
       "      <td>0.0</td>\n",
       "    </tr>\n",
       "    <tr>\n",
       "      <td>Sao Paulo</td>\n",
       "      <td>51786832.0</td>\n",
       "      <td>2242700.0</td>\n",
       "      <td>33210917.0</td>\n",
       "    </tr>\n",
       "    <tr>\n",
       "      <td>California</td>\n",
       "      <td>48297662.0</td>\n",
       "      <td>1045460.0</td>\n",
       "      <td>40.0</td>\n",
       "    </tr>\n",
       "  </tbody>\n",
       "</table>\n",
       "</div>"
      ],
      "text/plain": [
       "             Confirmed     Deaths   Recovered\n",
       "state                                        \n",
       "New York    60389214.0  4640076.0         0.0\n",
       "Sao Paulo   51786832.0  2242700.0  33210917.0\n",
       "California  48297662.0  1045460.0        40.0"
      ]
     },
     "execution_count": 45,
     "metadata": {},
     "output_type": "execute_result"
    }
   ],
   "source": [
    "#Sorting data w.r.t number of confirmed cases\n",
    "max_confirmed_cases=dfstate.sort_values(by=\"Confirmed\",ascending=False)\n",
    "max_confirmed_cases[:3]"
   ]
  },
  {
   "cell_type": "code",
   "execution_count": 46,
   "metadata": {},
   "outputs": [
    {
     "data": {
      "image/png": "[encoded data removed]",
      "text/plain": [
       "<Figure size 432x288 with 1 Axes>"
      ]
     },
     "metadata": {
      "needs_background": "light"
     },
     "output_type": "display_data"
    }
   ],
   "source": [
    "#Getting states with maximum number of confirmed cases\n",
    "top_states_confirmed=max_confirmed_cases[0:5]\n",
    "sns.barplot(x=top_states_confirmed.index,y=\"Confirmed\",data=top_states_confirmed,hue=top_states_confirmed.index)\n",
    "plt.show()"
   ]
  },
  {
   "cell_type": "code",
   "execution_count": 47,
   "metadata": {},
   "outputs": [
    {
     "data": {
      "image/png": "[encoded data removed]",
      "text/plain": [
       "<Figure size 432x288 with 1 Axes>"
      ]
     },
     "metadata": {
      "needs_background": "light"
     },
     "output_type": "display_data"
    }
   ],
   "source": [
    "#Sorting data w.r.t number of death cases\n",
    "max_death_cases=dfstate.sort_values(by=\"Deaths\",ascending=False)\n",
    "\n",
    "#Getting states with maximum number of death cases\n",
    "\n",
    "top_states_death=max_death_cases[0:5]\n",
    "sns.barplot(x=top_states_death.index,y=\"Deaths\",data=top_states_death,hue=top_states_death.index)\n",
    "plt.show()"
   ]
  },
  {
   "cell_type": "code",
   "execution_count": 48,
   "metadata": {},
   "outputs": [
    {
     "data": {
      "image/png": "[encoded data removed]",
      "text/plain": [
       "<Figure size 432x288 with 1 Axes>"
      ]
     },
     "metadata": {
      "needs_background": "light"
     },
     "output_type": "display_data"
    }
   ],
   "source": [
    "#Sorting data w.r.t number of cured cases\n",
    "max_cured_cases=dfstate.sort_values(by=\"Recovered\",ascending=False)\n",
    "\n",
    "#Getting states with maximum number of cured cases\n",
    "top_states_cured=max_cured_cases[0:5]\n",
    "sns.barplot(x=top_states_cured.index,y=\"Recovered\",data=top_states_cured,hue=top_states_cured.index)\n",
    "plt.show()"
   ]
  },
  {
   "cell_type": "code",
   "execution_count": 49,
   "metadata": {},
   "outputs": [
    {
     "data": {
      "text/html": [
       "<div>\n",
       "<style scoped>\n",
       "    .dataframe tbody tr th:only-of-type {\n",
       "        vertical-align: middle;\n",
       "    }\n",
       "\n",
       "    .dataframe tbody tr th {\n",
       "        vertical-align: top;\n",
       "    }\n",
       "\n",
       "    .dataframe thead th {\n",
       "        text-align: right;\n",
       "    }\n",
       "</style>\n",
       "<table border=\"1\" class=\"dataframe\">\n",
       "  <thead>\n",
       "    <tr style=\"text-align: right;\">\n",
       "      <th></th>\n",
       "      <th>Date</th>\n",
       "      <th>Confirmed</th>\n",
       "      <th>Deaths</th>\n",
       "      <th>Recovered</th>\n",
       "    </tr>\n",
       "  </thead>\n",
       "  <tbody>\n",
       "    <tr>\n",
       "      <td>0</td>\n",
       "      <td>01/22/2020</td>\n",
       "      <td>555.0</td>\n",
       "      <td>17.0</td>\n",
       "      <td>28.0</td>\n",
       "    </tr>\n",
       "    <tr>\n",
       "      <td>1</td>\n",
       "      <td>01/23/2020</td>\n",
       "      <td>653.0</td>\n",
       "      <td>18.0</td>\n",
       "      <td>30.0</td>\n",
       "    </tr>\n",
       "    <tr>\n",
       "      <td>2</td>\n",
       "      <td>01/24/2020</td>\n",
       "      <td>941.0</td>\n",
       "      <td>26.0</td>\n",
       "      <td>36.0</td>\n",
       "    </tr>\n",
       "    <tr>\n",
       "      <td>3</td>\n",
       "      <td>01/25/2020</td>\n",
       "      <td>1438.0</td>\n",
       "      <td>42.0</td>\n",
       "      <td>39.0</td>\n",
       "    </tr>\n",
       "    <tr>\n",
       "      <td>4</td>\n",
       "      <td>01/26/2020</td>\n",
       "      <td>2118.0</td>\n",
       "      <td>56.0</td>\n",
       "      <td>52.0</td>\n",
       "    </tr>\n",
       "  </tbody>\n",
       "</table>\n",
       "</div>"
      ],
      "text/plain": [
       "         Date  Confirmed  Deaths  Recovered\n",
       "0  01/22/2020      555.0    17.0       28.0\n",
       "1  01/23/2020      653.0    18.0       30.0\n",
       "2  01/24/2020      941.0    26.0       36.0\n",
       "3  01/25/2020     1438.0    42.0       39.0\n",
       "4  01/26/2020     2118.0    56.0       52.0"
      ]
     },
     "execution_count": 49,
     "metadata": {},
     "output_type": "execute_result"
    }
   ],
   "source": [
    "dfDate = df.groupby([\"Date\"])[['Confirmed', 'Deaths', 'Recovered']].sum().reset_index()\n",
    "dfDate.head()"
   ]
  },
  {
   "cell_type": "code",
   "execution_count": 50,
   "metadata": {},
   "outputs": [
    {
     "data": {
      "text/plain": [
       "Date         False\n",
       "Confirmed    False\n",
       "Deaths       False\n",
       "Recovered    False\n",
       "dtype: bool"
      ]
     },
     "execution_count": 50,
     "metadata": {},
     "output_type": "execute_result"
    }
   ],
   "source": [
    "dfDate.isnull().any()"
   ]
  },
  {
   "cell_type": "code",
   "execution_count": 51,
   "metadata": {},
   "outputs": [],
   "source": [
    "confirmed = dfDate[['Date', 'Confirmed']]\n",
    "        #############    Dealing with missing values in our new datasets    ##############\n",
    "for index, row in confirmed.iterrows():\n",
    "    if row['Confirmed'] is None:\n",
    "        row['Confirmed'] = 0.0"
   ]
  },
  {
   "cell_type": "code",
   "execution_count": 52,
   "metadata": {},
   "outputs": [
    {
     "data": {
      "image/png": "[encoded data removed]",
      "text/plain": [
       "<Figure size 432x288 with 1 Axes>"
      ]
     },
     "metadata": {
      "needs_background": "light"
     },
     "output_type": "display_data"
    }
   ],
   "source": [
    "from pandas.plotting import autocorrelation_plot\n",
    "autocorrelation_plot(confirmed['Confirmed'])\n",
    "plt.show()"
   ]
  },
  {
   "cell_type": "code",
   "execution_count": 54,
   "metadata": {},
   "outputs": [
    {
     "data": {
      "image/png": "[encoded data removed]",
      "text/plain": [
       "<Figure size 432x288 with 2 Axes>"
      ]
     },
     "metadata": {
      "needs_background": "light"
     },
     "output_type": "display_data"
    }
   ],
   "source": [
    "import statsmodels.api as sm\n",
    "fig = plt.figure()\n",
    "\n",
    "ax1 = fig.add_subplot(211)\n",
    "fig = sm.graphics.tsa.plot_acf(confirmed['Confirmed'], lags=10, ax=ax1) #\n",
    "ax2 = fig.add_subplot(212)\n",
    "fig = sm.graphics.tsa.plot_pacf(confirmed['Confirmed'], lags=10, ax=ax2)#\n",
    "plt.show()"
   ]
  },
  {
   "cell_type": "code",
   "execution_count": 56,
   "metadata": {},
   "outputs": [
    {
     "name": "stdout",
     "output_type": "stream",
     "text": [
      "[122988.   3350.   2963.   3164.   3348.   3483.   4999.   3630.   4491.\n",
      "   4429.   4709.   6919.   6014.   6483.   6419.   5918.   6143.   5522.\n",
      "   5626.   5337.   4803.   3392.  15077.  10522.   5538.   4851.   4729.\n",
      "   4576.   3434.   3250.   3329.   4245.   3318.   3252.   3496.   3651.\n",
      "   3979.   4049.   4474.   4941.   4678.   5093.   4985.   5334.   6349.\n",
      "   6640.   6630.   6419.   7394.   9456.   5936.  16801.  14367.  13737.\n",
      "  16044.  17737.  19715.  28226.  31242.  33894.  34536.  41538.  41763.\n",
      "  49595.  61286.  64725.  68013.  62172.  63123.  74018.  76171.  80703.\n",
      "  83186.  98826.  80226.  74375.  80589.  85178.  85227.  94940.  83504.\n",
      "  76991.  72547.  62243.  77323.  94392.  89831.  80229.  83482.  74148.\n",
      "  76886.  76236.  84087.  99485.  89474.  77673.  72103.  75047.  78035.\n",
      "  66700.  83740.  84995.  81043.  77864.  80042.  91155.  91474.  92694.\n",
      "  87827.  80062.  77159.  83863.  85798.  94082.  99849.  93818.  82534.\n",
      "  87629.  94953.  98939. 105168. 108309. 101534.  98200.  89862.  94008.\n",
      " 101360. 114791. 115802. 131254. 112720. 100938. 116973. 121994. 123974.\n",
      " 134737. 128400. 116046. 109614. 120827. 118933. 147513. 124398. 131271.\n",
      " 133759. 133412. 138099. 168758. 144824. 171560. 132632. 156106. 146092.\n",
      " 160290. 165708. 176031. 188159. 179042. 167248. 157270. 169687. 207490.\n",
      " 182566. 198678. 193013. 182756. 171341. 201092. 209523. 222221. 227105.\n",
      " 219061. 195406. 192203. 213271. 226262. 244607. 247337. 237153. 216383.\n",
      " 201105. 230413. 271672. 278071. 277773. 256123. 211889. 227736. 207274.\n",
      " 310646. 286648. 284786. 254377. 230291. 205315. 246295. 265803. 279284.\n",
      " 278120. 260021. 227814. 225000. 246748. 278033. 273856. 294417. 256578.\n",
      " 216867. 208228. 245416. 267178. 265032. 266898. 254138. 221037. 222990.\n",
      " 236689. 276417. 274400. 277313. 262236. 229921. 253035. 261277. 275456.\n",
      " 271511. 295434. 267373. 233805. 226610. 234148. 280147. 293430. 311637.\n",
      " 281181. 165529. 160963. 160885. 160062. 159381. 158691. 158019. 157358.\n",
      " 156709. 156073. 155449. 154837. 154236. 153647. 153068. 152501. 151944.\n",
      " 151398. 150862. 150337. 149821.]\n"
     ]
    },
    {
     "name": "stderr",
     "output_type": "stream",
     "text": [
      "C:\\Users\\prince\\Anaconda3\\lib\\site-packages\\statsmodels\\tsa\\arima_model.py:472: FutureWarning: \n",
      "statsmodels.tsa.arima_model.ARMA and statsmodels.tsa.arima_model.ARIMA have\n",
      "been deprecated in favor of statsmodels.tsa.arima.model.ARIMA (note the .\n",
      "between arima and model) and\n",
      "statsmodels.tsa.SARIMAX. These will be removed after the 0.12 release.\n",
      "\n",
      "statsmodels.tsa.arima.model.ARIMA makes use of the statespace framework and\n",
      "is both well tested and maintained.\n",
      "\n",
      "To silence this warning and continue using ARMA and ARIMA until they are\n",
      "removed, use:\n",
      "\n",
      "import warnings\n",
      "warnings.filterwarnings('ignore', 'statsmodels.tsa.arima_model.ARMA',\n",
      "                        FutureWarning)\n",
      "warnings.filterwarnings('ignore', 'statsmodels.tsa.arima_model.ARIMA',\n",
      "                        FutureWarning)\n",
      "\n",
      "  warnings.warn(ARIMA_DEPRECATION_WARN, FutureWarning)\n"
     ]
    }
   ],
   "source": [
    "from statsmodels.tsa.arima_model import ARIMA  \n",
    "MAConfirmed = ARIMA(np.array(confirmed['Confirmed']),  order=(2,1,0))\n",
    "fitMAConfirmed = MAConfirmed.fit(disp=False)\n",
    "predictMAConfirmed = fitMAConfirmed.predict(1, len(confirmed)+20)\n",
    "predMAConfirmed = np.round(predictMAConfirmed)\n",
    "print(predMAConfirmed)"
   ]
  },
  {
   "cell_type": "code",
   "execution_count": 57,
   "metadata": {},
   "outputs": [
    {
     "data": {
      "image/png": "[encoded data removed]",
      "text/plain": [
       "<Figure size 432x288 with 1 Axes>"
      ]
     },
     "metadata": {
      "needs_background": "light"
     },
     "output_type": "display_data"
    }
   ],
   "source": [
    "plt.xlabel('Dates')\n",
    "plt.ylabel('Cases')\n",
    "plt.plot(confirmed['Confirmed'], label='Confirmed', color='blue')\n",
    "plt.plot(predictMAConfirmed, label='Predicted unknown data', color='orange')\n",
    "plt.plot(predictMAConfirmed[:len(predictMAConfirmed)-20], label='Predicted known data', color='red')\n",
    "plt.title('Confirmed cases vs Predicted Confirmed cases')\n",
    "plt.legend()\n",
    "plt.show()"
   ]
  },
  {
   "cell_type": "code",
   "execution_count": 58,
   "metadata": {},
   "outputs": [
    {
     "data": {
      "text/html": [
       "<div>\n",
       "<style scoped>\n",
       "    .dataframe tbody tr th:only-of-type {\n",
       "        vertical-align: middle;\n",
       "    }\n",
       "\n",
       "    .dataframe tbody tr th {\n",
       "        vertical-align: top;\n",
       "    }\n",
       "\n",
       "    .dataframe thead th {\n",
       "        text-align: right;\n",
       "    }\n",
       "</style>\n",
       "<table border=\"1\" class=\"dataframe\">\n",
       "  <thead>\n",
       "    <tr style=\"text-align: right;\">\n",
       "      <th></th>\n",
       "      <th>Date</th>\n",
       "      <th>Deaths</th>\n",
       "    </tr>\n",
       "  </thead>\n",
       "  <tbody>\n",
       "    <tr>\n",
       "      <td>0</td>\n",
       "      <td>01/22/2020</td>\n",
       "      <td>17.0</td>\n",
       "    </tr>\n",
       "    <tr>\n",
       "      <td>1</td>\n",
       "      <td>01/23/2020</td>\n",
       "      <td>18.0</td>\n",
       "    </tr>\n",
       "    <tr>\n",
       "      <td>2</td>\n",
       "      <td>01/24/2020</td>\n",
       "      <td>26.0</td>\n",
       "    </tr>\n",
       "    <tr>\n",
       "      <td>3</td>\n",
       "      <td>01/25/2020</td>\n",
       "      <td>42.0</td>\n",
       "    </tr>\n",
       "    <tr>\n",
       "      <td>4</td>\n",
       "      <td>01/26/2020</td>\n",
       "      <td>56.0</td>\n",
       "    </tr>\n",
       "  </tbody>\n",
       "</table>\n",
       "</div>"
      ],
      "text/plain": [
       "         Date  Deaths\n",
       "0  01/22/2020    17.0\n",
       "1  01/23/2020    18.0\n",
       "2  01/24/2020    26.0\n",
       "3  01/25/2020    42.0\n",
       "4  01/26/2020    56.0"
      ]
     },
     "execution_count": 58,
     "metadata": {},
     "output_type": "execute_result"
    }
   ],
   "source": [
    "death = dfDate[['Date', 'Deaths']]\n",
    "death.head()"
   ]
  },
  {
   "cell_type": "code",
   "execution_count": 59,
   "metadata": {},
   "outputs": [],
   "source": [
    "for index, row in death.iterrows():\n",
    "    if row['Deaths'] is None:\n",
    "        row['Deaths'] = 0.0"
   ]
  },
  {
   "cell_type": "code",
   "execution_count": 60,
   "metadata": {},
   "outputs": [
    {
     "data": {
      "image/png": "[encoded data removed]",
      "text/plain": [
       "<Figure size 432x288 with 2 Axes>"
      ]
     },
     "metadata": {
      "needs_background": "light"
     },
     "output_type": "display_data"
    }
   ],
   "source": [
    "fig = plt.figure()\n",
    "\n",
    "ax1 = fig.add_subplot(211)\n",
    "fig = sm.graphics.tsa.plot_acf(death['Deaths'], lags=10, ax=ax1) #\n",
    "ax2 = fig.add_subplot(212)\n",
    "fig = sm.graphics.tsa.plot_pacf(death['Deaths'], lags=10, ax=ax2)#\n",
    "plt.show()"
   ]
  },
  {
   "cell_type": "code",
   "execution_count": 61,
   "metadata": {},
   "outputs": [
    {
     "name": "stdout",
     "output_type": "stream",
     "text": [
      "[1.70000e+01 1.80000e+01 2.60000e+01 4.20000e+01 5.60000e+01 8.20000e+01\n",
      " 1.31000e+02 1.33000e+02 1.71000e+02 2.13000e+02 2.59000e+02 3.62000e+02\n",
      " 4.26000e+02 4.92000e+02 5.64000e+02 6.34000e+02 7.19000e+02 8.06000e+02\n",
      " 9.06000e+02 1.01300e+03 1.11300e+03 1.11800e+03 1.37100e+03 1.52300e+03\n",
      " 1.66600e+03 1.77000e+03 1.86800e+03 2.00700e+03 2.12200e+03 2.24700e+03\n",
      " 2.25100e+03 2.45800e+03 2.46900e+03 2.62900e+03 2.70800e+03 2.77000e+03\n",
      " 2.81400e+03 2.87200e+03 2.94100e+03 2.99600e+03 3.08500e+03 3.16000e+03\n",
      " 3.25400e+03 3.34800e+03 3.46000e+03 3.55800e+03 3.80300e+03 3.99600e+03\n",
      " 4.26200e+03 4.61500e+03 4.72000e+03 5.40400e+03 5.81900e+03 6.44000e+03\n",
      " 7.12600e+03 7.90500e+03 8.73300e+03 9.86700e+03 1.12990e+04 1.29730e+04\n",
      " 1.46230e+04 1.64970e+04 1.86150e+04 2.11810e+04 2.39700e+04 2.71980e+04\n",
      " 3.06520e+04 3.39250e+04 3.75820e+04 4.21070e+04 4.68090e+04 5.29830e+04\n",
      " 5.87870e+04 6.46060e+04 6.93740e+04 7.45650e+04 8.18650e+04 8.83380e+04\n",
      " 9.54550e+04 1.02525e+05 1.08502e+05 1.14089e+05 1.19482e+05 1.25984e+05\n",
      " 1.34177e+05 1.43801e+05 1.53822e+05 1.59510e+05 1.65044e+05 1.69986e+05\n",
      " 1.76583e+05 1.83066e+05 1.90858e+05 1.97151e+05 2.02846e+05 2.06544e+05\n",
      " 2.11167e+05 2.17153e+05 2.27638e+05 2.33388e+05 2.38650e+05 2.43808e+05\n",
      " 2.47470e+05 2.51537e+05 2.57239e+05 2.63831e+05 2.69567e+05 2.74898e+05\n",
      " 2.79311e+05 2.82709e+05 2.86330e+05 2.91964e+05 2.97197e+05 3.02418e+05\n",
      " 3.07666e+05 3.11781e+05 3.15185e+05 3.18481e+05 3.23285e+05 3.28115e+05\n",
      " 3.32924e+05 3.38160e+05 3.42097e+05 3.45059e+05 3.46232e+05 3.50453e+05\n",
      " 3.55629e+05 3.60308e+05 3.64867e+05 3.69126e+05 3.72035e+05 3.75543e+05\n",
      " 3.80383e+05 3.85947e+05 3.91136e+05 3.96121e+05 4.00000e+05 4.02744e+05\n",
      " 4.06543e+05 4.11436e+05 4.16201e+05 4.21458e+05 4.25394e+05 4.29736e+05\n",
      " 4.33066e+05 4.36899e+05 4.43685e+05 4.48959e+05 4.53985e+05 4.60217e+05\n",
      " 4.64465e+05 4.68365e+05 4.72171e+05 4.77584e+05 4.82753e+05 4.89312e+05\n",
      " 4.94181e+05 4.98710e+05 5.01893e+05 5.05505e+05 5.11253e+05 5.16210e+05\n",
      " 5.21298e+05 5.26411e+05 5.30754e+05 5.34267e+05 5.38058e+05 5.44163e+05\n",
      " 5.49468e+05 5.54924e+05 5.60209e+05 5.65138e+05 5.69128e+05 5.73003e+05\n",
      " 5.78646e+05 5.84124e+05 5.89911e+05 5.96518e+05 6.02144e+05 6.06173e+05\n",
      " 6.09894e+05 6.16443e+05 6.23443e+05 6.33396e+05 6.39652e+05 6.45257e+05\n",
      " 6.48637e+05 6.54055e+05 6.59622e+05 6.67011e+05 6.73194e+05 6.79500e+05\n",
      " 6.85061e+05 6.89360e+05 6.93694e+05 7.00736e+05 7.07820e+05 7.14940e+05\n",
      " 7.21324e+05 7.26781e+05 7.31326e+05 7.36191e+05 7.42615e+05 7.49588e+05\n",
      " 7.55589e+05 7.65722e+05 7.71063e+05 7.75244e+05 7.74034e+05 7.80908e+05\n",
      " 7.87672e+05 7.93698e+05 7.99252e+05 8.04416e+05 8.08676e+05 8.13022e+05\n",
      " 8.19414e+05 8.25696e+05 8.31586e+05 8.37124e+05 8.42499e+05 8.46395e+05\n",
      " 8.50535e+05 8.57015e+05 8.63028e+05 8.68733e+05 8.74369e+05 8.79307e+05\n",
      " 8.83339e+05 8.92443e+05 8.97383e+05 9.03686e+05 9.09479e+05 9.15356e+05\n",
      " 9.20231e+05 9.22737e+05 9.22737e+05 9.22737e+05 9.22737e+05 9.22737e+05\n",
      " 9.22737e+05 9.22737e+05 9.22737e+05 9.22737e+05 9.22737e+05 9.22737e+05\n",
      " 9.22737e+05 9.22737e+05 9.22737e+05 9.22737e+05 9.22737e+05 9.22737e+05\n",
      " 9.22737e+05 9.22737e+05 9.22737e+05 9.22737e+05]\n"
     ]
    },
    {
     "name": "stderr",
     "output_type": "stream",
     "text": [
      "C:\\Users\\prince\\Anaconda3\\lib\\site-packages\\statsmodels\\base\\model.py:548: HessianInversionWarning: Inverting hessian failed, no bse or cov_params available\n",
      "  'available', HessianInversionWarning)\n"
     ]
    }
   ],
   "source": [
    "MADeath = ARIMA(np.array(death['Deaths']),  order=(1, 0, 0))\n",
    "fitMADeath = MADeath.fit(disp=False)\n",
    "predictMADeath = fitMADeath.predict(1, len(death) + 20)\n",
    "predMADeath = np.round(predictMADeath)\n",
    "print(predMADeath)"
   ]
  },
  {
   "cell_type": "code",
   "execution_count": 62,
   "metadata": {},
   "outputs": [
    {
     "data": {
      "image/png": "[encoded data removed]",
      "text/plain": [
       "<Figure size 432x288 with 1 Axes>"
      ]
     },
     "metadata": {
      "needs_background": "light"
     },
     "output_type": "display_data"
    }
   ],
   "source": [
    "plt.xlabel('Dates')\n",
    "plt.ylabel('Cases')\n",
    "plt.plot(death['Deaths'], label='Death', color='blue')\n",
    "plt.plot(predictMADeath, label='Predicted unknown data', color='orange')\n",
    "plt.plot(predictMADeath[:len(predictMADeath)-20], label='Predicted known data', color='red')\n",
    "plt.title('Death cases vs Predicted Death cases')\n",
    "plt.legend()\n",
    "plt.show()"
   ]
  },
  {
   "cell_type": "code",
   "execution_count": 63,
   "metadata": {},
   "outputs": [
    {
     "data": {
      "image/png": "[encoded data removed]",
      "text/plain": [
       "<Figure size 432x288 with 2 Axes>"
      ]
     },
     "metadata": {
      "needs_background": "light"
     },
     "output_type": "display_data"
    }
   ],
   "source": [
    "plt.subplot(121)\n",
    "plt.title(\"Coronavirus data\")\n",
    "plt.plot(confirmed['Confirmed'], label='Confirmed', color='blue')\n",
    "plt.plot(death['Deaths'], label='Deaths', color='red')\n",
    "plt.legend()\n",
    "plt.subplot(122)\n",
    "plt.title(\"Coronavirus data predicted\")\n",
    "plt.plot(predMAConfirmed, color='orange')\n",
    "plt.plot(predMAConfirmed[:len(predMAConfirmed)-20], label='Predicted Confirmed', color='blue')\n",
    "plt.plot(predMADeath, color = 'orange')\n",
    "plt.plot(predMADeath[:len(predMADeath)-20], label='Predicted Death', color = 'red')\n",
    "plt.legend()\n",
    "plt.show()"
   ]
  },
  {
   "cell_type": "raw",
   "metadata": {},
   "source": [
    "The model we are going to create is the Autoregressive model. An autoregressive (AR) model is a representation of a type of random process. It is used to describe a certain time-varying process. The AR model specifies that the output variable depends linearly on its own previous values and on a stochastic term."
   ]
  },
  {
   "cell_type": "code",
   "execution_count": 64,
   "metadata": {},
   "outputs": [],
   "source": [
    "from statsmodels.tsa.ar_model import AR"
   ]
  },
  {
   "cell_type": "code",
   "execution_count": 65,
   "metadata": {},
   "outputs": [
    {
     "name": "stdout",
     "output_type": "stream",
     "text": [
      "[3.3108000e+04 3.6953000e+04 4.0905000e+04 4.4446000e+04 4.6829000e+04\n",
      " 4.9281000e+04 5.0557000e+04 5.0074000e+04 6.6364000e+04 7.5406000e+04\n",
      " 7.4934000e+04 7.5893000e+04 7.9054000e+04 8.4351000e+04 8.7240000e+04\n",
      " 8.3986000e+04 7.8194000e+04 8.0785000e+04 8.0663000e+04 8.0296000e+04\n",
      " 8.0256000e+04 8.5328000e+04 8.6637000e+04 8.7605000e+04 8.9422000e+04\n",
      " 9.1951000e+04 9.4600000e+04 9.7036000e+04 9.9739000e+04 1.0275500e+05\n",
      " 1.0752600e+05 1.1177100e+05 1.1568300e+05 1.1947600e+05 1.2485800e+05\n",
      " 1.3326700e+05 1.3631200e+05 1.5386100e+05 1.6790700e+05 1.7799200e+05\n",
      " 1.9384300e+05 2.1158400e+05 2.3240500e+05 2.6570400e+05 2.9857300e+05\n",
      " 3.2934800e+05 3.6608500e+05 4.1071600e+05 4.5752200e+05 5.1162300e+05\n",
      " 5.8341500e+05 6.4965100e+05 7.2017700e+05 7.8287600e+05 8.4778300e+05\n",
      " 9.3130200e+05 1.0182410e+06 1.0985010e+06 1.1786280e+06 1.2792880e+06\n",
      " 1.3587560e+06 1.4298450e+06 1.5152060e+06 1.6070110e+06 1.6959650e+06\n",
      " 1.7902930e+06 1.8576680e+06 1.9208940e+06 2.0009650e+06 2.0592210e+06\n",
      " 2.1410440e+06 2.2433020e+06 2.3301980e+06 2.3891490e+06 2.4691600e+06\n",
      " 2.5458510e+06 2.6361890e+06 2.7216870e+06 2.8026840e+06 2.8991240e+06\n",
      " 2.9842630e+06 3.0494480e+06 3.1129790e+06 3.1987950e+06 3.2893320e+06\n",
      " 3.3528480e+06 3.4246360e+06 3.5036180e+06 3.5782010e+06 3.6558980e+06\n",
      " 3.7356690e+06 3.8354230e+06 3.9421070e+06 4.0354820e+06 4.1120720e+06\n",
      " 4.1877190e+06 4.2666170e+06 4.3580250e+06 4.4403060e+06 4.5354380e+06\n",
      " 4.6326160e+06 4.7179320e+06 4.7950170e+06 4.8882880e+06 4.9968140e+06\n",
      " 5.1024600e+06 5.2105110e+06 5.3113750e+06 5.4044610e+06 5.5040030e+06\n",
      " 5.5991850e+06 5.6953000e+06 5.8046140e+06 5.9240330e+06 6.0335000e+06\n",
      " 6.1605730e+06 6.2711730e+06 6.3698720e+06 6.5046050e+06 6.6430140e+06\n",
      " 6.7727100e+06 6.9048940e+06 7.0217290e+06 7.1223460e+06 7.2404160e+06\n",
      " 7.3705000e+06 7.4953090e+06 7.6523060e+06 7.7708250e+06 7.8812130e+06\n",
      " 8.0188900e+06 8.1656080e+06 8.3163930e+06 8.5023490e+06 8.6459490e+06\n",
      " 8.8146310e+06 8.9489420e+06 9.1004280e+06 9.2672450e+06 9.4327820e+06\n",
      " 9.6086600e+06 9.7716490e+06 9.9680870e+06 1.0142758e+07 1.0318807e+07\n",
      " 1.0471004e+07 1.0669382e+07 1.0890466e+07 1.1083123e+07 1.1253233e+07\n",
      " 1.1447539e+07 1.1625248e+07 1.1813449e+07 1.2037598e+07 1.2255636e+07\n",
      " 1.2481795e+07 1.2713654e+07 1.2915659e+07 1.3109182e+07 1.3317144e+07\n",
      " 1.3565631e+07 1.3794591e+07 1.4051109e+07 1.4284176e+07 1.4504746e+07\n",
      " 1.4716086e+07 1.4938412e+07 1.5195322e+07 1.5502011e+07 1.5788130e+07\n",
      " 1.6046359e+07 1.6277766e+07 1.6477966e+07 1.6742923e+07 1.6978722e+07\n",
      " 1.7323080e+07 1.7608563e+07 1.7850502e+07 1.8072928e+07 1.8297110e+07\n",
      " 1.8536751e+07 1.8838345e+07 1.9126549e+07 1.9370360e+07 1.9633825e+07\n",
      " 1.9848786e+07 2.0082130e+07 2.0322103e+07 2.0636909e+07 2.0923154e+07\n",
      " 2.1197316e+07 2.1465735e+07 2.1696983e+07 2.1893350e+07 2.2132628e+07\n",
      " 2.2414797e+07 2.2705723e+07 2.2957518e+07 2.3190079e+07 2.3407073e+07\n",
      " 2.3634794e+07 2.3889986e+07 2.4161593e+07 2.4451047e+07 2.4735121e+07\n",
      " 2.4985583e+07 2.5221937e+07 2.5447125e+07 2.5743600e+07 2.6042608e+07\n",
      " 2.6326334e+07 2.6586426e+07 2.6874423e+07 2.7121303e+07 2.7352601e+07\n",
      " 2.7590535e+07 2.7842091e+07 2.8148299e+07 2.8452273e+07 2.8745789e+07\n",
      " 2.8987703e+07 2.9122114e+07 2.9347386e+07 2.9631844e+07 2.9931730e+07\n",
      " 3.0226704e+07 3.0460103e+07 3.0631287e+07 3.0809207e+07 3.1032843e+07\n",
      " 3.1297984e+07 3.1595557e+07 3.1873535e+07 3.2100635e+07 3.2252131e+07\n",
      " 3.2418455e+07 3.2619730e+07 3.2880538e+07 3.3166962e+07 3.3436588e+07\n",
      " 3.3640127e+07 3.3784181e+07]\n"
     ]
    },
    {
     "name": "stderr",
     "output_type": "stream",
     "text": [
      "C:\\Users\\prince\\Anaconda3\\lib\\site-packages\\statsmodels\\tsa\\ar_model.py:791: FutureWarning: \n",
      "statsmodels.tsa.AR has been deprecated in favor of statsmodels.tsa.AutoReg and\n",
      "statsmodels.tsa.SARIMAX.\n",
      "\n",
      "AutoReg adds the ability to specify exogenous variables, include time trends,\n",
      "and add seasonal dummies. The AutoReg API differs from AR since the model is\n",
      "treated as immutable, and so the entire specification including the lag\n",
      "length must be specified when creating the model. This change is too\n",
      "substantial to incorporate into the existing AR api. The function\n",
      "ar_select_order performs lag length selection for AutoReg models.\n",
      "\n",
      "AutoReg only estimates parameters using conditional MLE (OLS). Use SARIMAX to\n",
      "estimate ARX and related models using full MLE via the Kalman Filter.\n",
      "\n",
      "To silence this warning and continue using AR until it is removed, use:\n",
      "\n",
      "import warnings\n",
      "warnings.filterwarnings('ignore', 'statsmodels.tsa.ar_model.AR', FutureWarning)\n",
      "\n",
      "  warnings.warn(AR_DEPRECATION_WARN, FutureWarning)\n"
     ]
    }
   ],
   "source": [
    "ARConfirmed = AR(np.array(confirmed['Confirmed']))\n",
    "fitARConfirmed = ARConfirmed.fit()\n",
    "predictARConfirmed = fitARConfirmed.predict(15, len(confirmed) + 20)\n",
    "predARConfirmed = np.round(predictARConfirmed)\n",
    "print(predARConfirmed)"
   ]
  },
  {
   "cell_type": "code",
   "execution_count": 66,
   "metadata": {},
   "outputs": [
    {
     "data": {
      "image/png": "[encoded data removed]",
      "text/plain": [
       "<Figure size 432x288 with 1 Axes>"
      ]
     },
     "metadata": {
      "needs_background": "light"
     },
     "output_type": "display_data"
    }
   ],
   "source": [
    "plt.xlabel('Dates')\n",
    "plt.ylabel('Cases')\n",
    "plt.plot(confirmed['Confirmed'], label='Confirmed', color='blue')\n",
    "plt.plot(predARConfirmed, label='Predicted unknown data', color='orange')\n",
    "plt.plot(predARConfirmed[:len(predARConfirmed)-30], label='Predicted known data', color='red')\n",
    "plt.title('Confirmed cases vs Predicted Confirmed cases')\n",
    "plt.legend()\n",
    "plt.show()"
   ]
  },
  {
   "cell_type": "code",
   "execution_count": 67,
   "metadata": {},
   "outputs": [
    {
     "name": "stdout",
     "output_type": "stream",
     "text": [
      "[9.320000e+02 1.004000e+03 1.093000e+03 1.205000e+03 1.293000e+03\n",
      " 1.397000e+03 1.499000e+03 1.473000e+03 1.793000e+03 1.971000e+03\n",
      " 2.055000e+03 2.207000e+03 2.272000e+03 2.425000e+03 2.598000e+03\n",
      " 2.683000e+03 2.632000e+03 2.889000e+03 2.852000e+03 2.979000e+03\n",
      " 3.132000e+03 3.130000e+03 3.188000e+03 3.266000e+03 3.298000e+03\n",
      " 3.364000e+03 3.472000e+03 3.500000e+03 3.606000e+03 3.716000e+03\n",
      " 3.838000e+03 3.946000e+03 4.250000e+03 4.448000e+03 4.708000e+03\n",
      " 5.143000e+03 5.184000e+03 6.022000e+03 6.538000e+03 7.067000e+03\n",
      " 7.973000e+03 8.745000e+03 9.609000e+03 1.100700e+04 1.256000e+04\n",
      " 1.434800e+04 1.618800e+04 1.814700e+04 2.051100e+04 2.340100e+04\n",
      " 2.648900e+04 2.993100e+04 3.362700e+04 3.698300e+04 4.092600e+04\n",
      " 4.599100e+04 5.096900e+04 5.772600e+04 6.383700e+04 6.945500e+04\n",
      " 7.457800e+04 8.008600e+04 8.836900e+04 9.503100e+04 1.018420e+05\n",
      " 1.090550e+05 1.142560e+05 1.200020e+05 1.261540e+05 1.326350e+05\n",
      " 1.415600e+05 1.514550e+05 1.608090e+05 1.654640e+05 1.712300e+05\n",
      " 1.774690e+05 1.845370e+05 1.915390e+05 1.984410e+05 2.027500e+05\n",
      " 2.073170e+05 2.109940e+05 2.160240e+05 2.237860e+05 2.357150e+05\n",
      " 2.399020e+05 2.429910e+05 2.491510e+05 2.521690e+05 2.574700e+05\n",
      " 2.647460e+05 2.698780e+05 2.744550e+05 2.794710e+05 2.825190e+05\n",
      " 2.865760e+05 2.919770e+05 2.982560e+05 3.026430e+05 3.071520e+05\n",
      " 3.120210e+05 3.152030e+05 3.190190e+05 3.234390e+05 3.285160e+05\n",
      " 3.332800e+05 3.376150e+05 3.422030e+05 3.455160e+05 3.485650e+05\n",
      " 3.501010e+05 3.549460e+05 3.607960e+05 3.645390e+05 3.683970e+05\n",
      " 3.721550e+05 3.748100e+05 3.797040e+05 3.857280e+05 3.911170e+05\n",
      " 3.963690e+05 4.006220e+05 4.034340e+05 4.062870e+05 4.113920e+05\n",
      " 4.168030e+05 4.211290e+05 4.261540e+05 4.291260e+05 4.328870e+05\n",
      " 4.370930e+05 4.413500e+05 4.493340e+05 4.544410e+05 4.583450e+05\n",
      " 4.652050e+05 4.687630e+05 4.727750e+05 4.781500e+05 4.830810e+05\n",
      " 4.880660e+05 4.948660e+05 4.984300e+05 5.022720e+05 5.064540e+05\n",
      " 5.102380e+05 5.168690e+05 5.218410e+05 5.259640e+05 5.307140e+05\n",
      " 5.344450e+05 5.380540e+05 5.429830e+05 5.496960e+05 5.549180e+05\n",
      " 5.598900e+05 5.647770e+05 5.692010e+05 5.737370e+05 5.783310e+05\n",
      " 5.842550e+05 5.897060e+05 5.951690e+05 6.015500e+05 6.066480e+05\n",
      " 6.106660e+05 6.152670e+05 6.226070e+05 6.299810e+05 6.405110e+05\n",
      " 6.456500e+05 6.496910e+05 6.540990e+05 6.604100e+05 6.669210e+05\n",
      " 6.745770e+05 6.796230e+05 6.841020e+05 6.894690e+05 6.935790e+05\n",
      " 6.991030e+05 7.078510e+05 7.149840e+05 7.209350e+05 7.269340e+05\n",
      " 7.314220e+05 7.365160e+05 7.426300e+05 7.495480e+05 7.563710e+05\n",
      " 7.616130e+05 7.718960e+05 7.762920e+05 7.796110e+05 7.792790e+05\n",
      " 7.871890e+05 7.953370e+05 7.993000e+05 8.037710e+05 8.073230e+05\n",
      " 8.114980e+05 8.181200e+05 8.259970e+05 8.320650e+05 8.384540e+05\n",
      " 8.425740e+05 8.465060e+05 8.506790e+05 8.561860e+05 8.633720e+05\n",
      " 8.688770e+05 8.739660e+05 8.793600e+05 8.835250e+05 8.879060e+05\n",
      " 8.995050e+05 9.037130e+05 9.089240e+05 9.162680e+05 9.203860e+05\n",
      " 9.254160e+05 9.285090e+05 9.339670e+05 9.397220e+05 9.449580e+05\n",
      " 9.494470e+05 9.532760e+05 9.571280e+05 9.621650e+05 9.673890e+05\n",
      " 9.725440e+05 9.777550e+05 9.823340e+05 9.862070e+05 9.901350e+05\n",
      " 9.949050e+05 1.000098e+06 1.005344e+06 1.010362e+06 1.014784e+06\n",
      " 1.018724e+06 1.022854e+06]\n"
     ]
    }
   ],
   "source": [
    "ARDeath = AR(np.array(death['Deaths']))\n",
    "fitARDeath = ARDeath.fit()\n",
    "predictARDeath = fitARDeath.predict(15, len(death) + 20)\n",
    "predARDeath = np.round(predictARDeath)\n",
    "print(predARDeath)"
   ]
  },
  {
   "cell_type": "code",
   "execution_count": 68,
   "metadata": {},
   "outputs": [
    {
     "data": {
      "image/png": "[encoded data removed]",
      "text/plain": [
       "<Figure size 432x288 with 1 Axes>"
      ]
     },
     "metadata": {
      "needs_background": "light"
     },
     "output_type": "display_data"
    }
   ],
   "source": [
    "plt.xlabel('Dates')\n",
    "plt.ylabel('Cases')\n",
    "plt.plot(death['Deaths'], label='Death', color='blue')\n",
    "plt.plot(predARDeath, label='Predicted unknown data', color='orange')\n",
    "plt.plot(predARDeath[:len(predARDeath)-20], label='Predicted known data', color='red')\n",
    "plt.title('Death cases vs Predicted Death cases')\n",
    "plt.legend()\n",
    "plt.show()"
   ]
  }
 ],
 "metadata": {
  "kernelspec": {
   "display_name": "Python 3",
   "language": "python",
   "name": "python3"
  },
  "language_info": {
   "codemirror_mode": {
    "name": "ipython",
    "version": 3
   },
   "file_extension": ".py",
   "mimetype": "text/x-python",
   "name": "python",
   "nbconvert_exporter": "python",
   "pygments_lexer": "ipython3",
   "version": "3.7.4"
  }
 },
 "nbformat": 4,
 "nbformat_minor": 2
}
