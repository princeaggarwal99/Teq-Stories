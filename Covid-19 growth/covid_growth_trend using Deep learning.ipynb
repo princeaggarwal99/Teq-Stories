{
 "cells": [
  {
   "cell_type": "code",
   "execution_count": 8,
   "metadata": {},
   "outputs": [],
   "source": [
    "import numpy as np\n",
    "import pandas as pd\n",
    "import seaborn as sns \n",
    "import numpy as np\n",
    "from keras.models import Sequential\n",
    "from keras.layers import Dense\n",
    "import matplotlib.pyplot as plt\n",
    "%matplotlib inline\n",
    "data=pd.read_csv(\"covid_19_data.csv\")"
   ]
  },
  {
   "cell_type": "code",
   "execution_count": 9,
   "metadata": {},
   "outputs": [
    {
     "data": {
      "text/html": [
       "<div>\n",
       "<style scoped>\n",
       "    .dataframe tbody tr th:only-of-type {\n",
       "        vertical-align: middle;\n",
       "    }\n",
       "\n",
       "    .dataframe tbody tr th {\n",
       "        vertical-align: top;\n",
       "    }\n",
       "\n",
       "    .dataframe thead th {\n",
       "        text-align: right;\n",
       "    }\n",
       "</style>\n",
       "<table border=\"1\" class=\"dataframe\">\n",
       "  <thead>\n",
       "    <tr style=\"text-align: right;\">\n",
       "      <th></th>\n",
       "      <th>SNo</th>\n",
       "      <th>ObservationDate</th>\n",
       "      <th>Province/State</th>\n",
       "      <th>Country/Region</th>\n",
       "      <th>Last Update</th>\n",
       "      <th>Confirmed</th>\n",
       "      <th>Deaths</th>\n",
       "      <th>Recovered</th>\n",
       "    </tr>\n",
       "  </thead>\n",
       "  <tbody>\n",
       "    <tr>\n",
       "      <td>0</td>\n",
       "      <td>1</td>\n",
       "      <td>01/22/2020</td>\n",
       "      <td>Anhui</td>\n",
       "      <td>Mainland China</td>\n",
       "      <td>1/22/2020 17:00</td>\n",
       "      <td>1.0</td>\n",
       "      <td>0.0</td>\n",
       "      <td>0.0</td>\n",
       "    </tr>\n",
       "    <tr>\n",
       "      <td>1</td>\n",
       "      <td>2</td>\n",
       "      <td>01/22/2020</td>\n",
       "      <td>Beijing</td>\n",
       "      <td>Mainland China</td>\n",
       "      <td>1/22/2020 17:00</td>\n",
       "      <td>14.0</td>\n",
       "      <td>0.0</td>\n",
       "      <td>0.0</td>\n",
       "    </tr>\n",
       "    <tr>\n",
       "      <td>2</td>\n",
       "      <td>3</td>\n",
       "      <td>01/22/2020</td>\n",
       "      <td>Chongqing</td>\n",
       "      <td>Mainland China</td>\n",
       "      <td>1/22/2020 17:00</td>\n",
       "      <td>6.0</td>\n",
       "      <td>0.0</td>\n",
       "      <td>0.0</td>\n",
       "    </tr>\n",
       "    <tr>\n",
       "      <td>3</td>\n",
       "      <td>4</td>\n",
       "      <td>01/22/2020</td>\n",
       "      <td>Fujian</td>\n",
       "      <td>Mainland China</td>\n",
       "      <td>1/22/2020 17:00</td>\n",
       "      <td>1.0</td>\n",
       "      <td>0.0</td>\n",
       "      <td>0.0</td>\n",
       "    </tr>\n",
       "    <tr>\n",
       "      <td>4</td>\n",
       "      <td>5</td>\n",
       "      <td>01/22/2020</td>\n",
       "      <td>Gansu</td>\n",
       "      <td>Mainland China</td>\n",
       "      <td>1/22/2020 17:00</td>\n",
       "      <td>0.0</td>\n",
       "      <td>0.0</td>\n",
       "      <td>0.0</td>\n",
       "    </tr>\n",
       "  </tbody>\n",
       "</table>\n",
       "</div>"
      ],
      "text/plain": [
       "   SNo ObservationDate Province/State  Country/Region      Last Update  \\\n",
       "0    1      01/22/2020          Anhui  Mainland China  1/22/2020 17:00   \n",
       "1    2      01/22/2020        Beijing  Mainland China  1/22/2020 17:00   \n",
       "2    3      01/22/2020      Chongqing  Mainland China  1/22/2020 17:00   \n",
       "3    4      01/22/2020         Fujian  Mainland China  1/22/2020 17:00   \n",
       "4    5      01/22/2020          Gansu  Mainland China  1/22/2020 17:00   \n",
       "\n",
       "   Confirmed  Deaths  Recovered  \n",
       "0        1.0     0.0        0.0  \n",
       "1       14.0     0.0        0.0  \n",
       "2        6.0     0.0        0.0  \n",
       "3        1.0     0.0        0.0  \n",
       "4        0.0     0.0        0.0  "
      ]
     },
     "execution_count": 9,
     "metadata": {},
     "output_type": "execute_result"
    }
   ],
   "source": [
    "data.head()\n"
   ]
  },
  {
   "cell_type": "code",
   "execution_count": 10,
   "metadata": {},
   "outputs": [
    {
     "data": {
      "text/plain": [
       "(109382, 8)"
      ]
     },
     "execution_count": 10,
     "metadata": {},
     "output_type": "execute_result"
    }
   ],
   "source": [
    "data.shape"
   ]
  },
  {
   "cell_type": "code",
   "execution_count": 11,
   "metadata": {},
   "outputs": [],
   "source": [
    "data=data.drop(['SNo','Last Update'],axis=1)"
   ]
  },
  {
   "cell_type": "code",
   "execution_count": 12,
   "metadata": {},
   "outputs": [],
   "source": [
    "data = data.rename(columns={'Country/Region': 'Country', 'ObservationDate':'Date'})"
   ]
  },
  {
   "cell_type": "code",
   "execution_count": 13,
   "metadata": {},
   "outputs": [
    {
     "name": "stdout",
     "output_type": "stream",
     "text": [
      "Date                  0\n",
      "Province/State    33673\n",
      "Country               0\n",
      "Confirmed             0\n",
      "Deaths                0\n",
      "Recovered             0\n",
      "dtype: int64\n"
     ]
    },
    {
     "data": {
      "text/plain": [
       "<matplotlib.axes._subplots.AxesSubplot at 0x222d247a708>"
      ]
     },
     "execution_count": 13,
     "metadata": {},
     "output_type": "execute_result"
    },
    {
     "data": {
      "image/png": "[encoded data removed]",
      "text/plain": [
       "<Figure size 432x288 with 2 Axes>"
      ]
     },
     "metadata": {
      "needs_background": "light"
     },
     "output_type": "display_data"
    }
   ],
   "source": [
    "print(data.isnull().sum())\n",
    "sns.heatmap(data.isnull())"
   ]
  },
  {
   "cell_type": "code",
   "execution_count": 14,
   "metadata": {},
   "outputs": [],
   "source": [
    "data=data.drop(['Country','Province/State'],axis=1)"
   ]
  },
  {
   "cell_type": "code",
   "execution_count": 15,
   "metadata": {},
   "outputs": [
    {
     "data": {
      "text/plain": [
       "Index(['Date', 'Confirmed', 'Deaths', 'Recovered'], dtype='object')"
      ]
     },
     "execution_count": 15,
     "metadata": {},
     "output_type": "execute_result"
    }
   ],
   "source": [
    "data.columns"
   ]
  },
  {
   "cell_type": "code",
   "execution_count": 16,
   "metadata": {},
   "outputs": [
    {
     "name": "stdout",
     "output_type": "stream",
     "text": [
      "Confirmed\n"
     ]
    },
    {
     "data": {
      "image/png": "[encoded data removed]",
      "text/plain": [
       "<Figure size 432x288 with 1 Axes>"
      ]
     },
     "metadata": {
      "needs_background": "light"
     },
     "output_type": "display_data"
    },
    {
     "name": "stdout",
     "output_type": "stream",
     "text": [
      "Deaths\n"
     ]
    },
    {
     "data": {
      "image/png": "[encoded data removed]",
      "text/plain": [
       "<Figure size 432x288 with 1 Axes>"
      ]
     },
     "metadata": {
      "needs_background": "light"
     },
     "output_type": "display_data"
    },
    {
     "name": "stdout",
     "output_type": "stream",
     "text": [
      "Recovered\n"
     ]
    },
    {
     "data": {
      "image/png": "[encoded data removed]",
      "text/plain": [
       "<Figure size 432x288 with 1 Axes>"
      ]
     },
     "metadata": {
      "needs_background": "light"
     },
     "output_type": "display_data"
    }
   ],
   "source": [
    "z=['Confirmed', 'Deaths', 'Recovered']\n",
    "for i in z:\n",
    "    print(i)\n",
    "    plt.plot(data[i])\n",
    "    plt.show()"
   ]
  },
  {
   "cell_type": "code",
   "execution_count": 17,
   "metadata": {},
   "outputs": [
    {
     "data": {
      "text/html": [
       "<div>\n",
       "<style scoped>\n",
       "    .dataframe tbody tr th:only-of-type {\n",
       "        vertical-align: middle;\n",
       "    }\n",
       "\n",
       "    .dataframe tbody tr th {\n",
       "        vertical-align: top;\n",
       "    }\n",
       "\n",
       "    .dataframe thead th {\n",
       "        text-align: right;\n",
       "    }\n",
       "</style>\n",
       "<table border=\"1\" class=\"dataframe\">\n",
       "  <thead>\n",
       "    <tr style=\"text-align: right;\">\n",
       "      <th></th>\n",
       "      <th>Confirmed</th>\n",
       "    </tr>\n",
       "    <tr>\n",
       "      <th>Date</th>\n",
       "      <th></th>\n",
       "    </tr>\n",
       "  </thead>\n",
       "  <tbody>\n",
       "    <tr>\n",
       "      <td>2020-01-22</td>\n",
       "      <td>555.0</td>\n",
       "    </tr>\n",
       "    <tr>\n",
       "      <td>2020-01-23</td>\n",
       "      <td>653.0</td>\n",
       "    </tr>\n",
       "    <tr>\n",
       "      <td>2020-01-24</td>\n",
       "      <td>941.0</td>\n",
       "    </tr>\n",
       "    <tr>\n",
       "      <td>2020-01-25</td>\n",
       "      <td>1438.0</td>\n",
       "    </tr>\n",
       "    <tr>\n",
       "      <td>2020-01-26</td>\n",
       "      <td>2118.0</td>\n",
       "    </tr>\n",
       "    <tr>\n",
       "      <td>...</td>\n",
       "      <td>...</td>\n",
       "    </tr>\n",
       "    <tr>\n",
       "      <td>2020-09-09</td>\n",
       "      <td>27863733.0</td>\n",
       "    </tr>\n",
       "    <tr>\n",
       "      <td>2020-09-10</td>\n",
       "      <td>28161885.0</td>\n",
       "    </tr>\n",
       "    <tr>\n",
       "      <td>2020-09-11</td>\n",
       "      <td>28481413.0</td>\n",
       "    </tr>\n",
       "    <tr>\n",
       "      <td>2020-09-12</td>\n",
       "      <td>28759036.0</td>\n",
       "    </tr>\n",
       "    <tr>\n",
       "      <td>2020-09-13</td>\n",
       "      <td>28902753.0</td>\n",
       "    </tr>\n",
       "  </tbody>\n",
       "</table>\n",
       "<p>236 rows × 1 columns</p>\n",
       "</div>"
      ],
      "text/plain": [
       "             Confirmed\n",
       "Date                  \n",
       "2020-01-22       555.0\n",
       "2020-01-23       653.0\n",
       "2020-01-24       941.0\n",
       "2020-01-25      1438.0\n",
       "2020-01-26      2118.0\n",
       "...                ...\n",
       "2020-09-09  27863733.0\n",
       "2020-09-10  28161885.0\n",
       "2020-09-11  28481413.0\n",
       "2020-09-12  28759036.0\n",
       "2020-09-13  28902753.0\n",
       "\n",
       "[236 rows x 1 columns]"
      ]
     },
     "execution_count": 17,
     "metadata": {},
     "output_type": "execute_result"
    }
   ],
   "source": [
    "df=data[['Date','Confirmed']]\n",
    "df=df.set_index(\"Date\")\n",
    "df.index=pd.to_datetime(df.index)\n",
    "\n",
    "df = df.resample('D').sum()\n",
    "df"
   ]
  },
  {
   "cell_type": "code",
   "execution_count": 18,
   "metadata": {},
   "outputs": [
    {
     "data": {
      "text/plain": [
       "<matplotlib.axes._subplots.AxesSubplot at 0x222d368be88>"
      ]
     },
     "execution_count": 18,
     "metadata": {},
     "output_type": "execute_result"
    },
    {
     "data": {
      "image/png": "[encoded data removed]",
      "text/plain": [
       "<Figure size 432x288 with 1 Axes>"
      ]
     },
     "metadata": {
      "needs_background": "light"
     },
     "output_type": "display_data"
    }
   ],
   "source": [
    "df.plot()"
   ]
  },
  {
   "cell_type": "code",
   "execution_count": 19,
   "metadata": {},
   "outputs": [
    {
     "data": {
      "text/plain": [
       "array([[ 555.],\n",
       "       [ 653.],\n",
       "       [ 941.],\n",
       "       [1438.],\n",
       "       [2118.],\n",
       "       [2927.],\n",
       "       [5578.],\n",
       "       [6165.],\n",
       "       [8235.],\n",
       "       [9925.]], dtype=float32)"
      ]
     },
     "execution_count": 19,
     "metadata": {},
     "output_type": "execute_result"
    }
   ],
   "source": [
    "dataset = df.values\n",
    "dataset = dataset.astype('float32')\n",
    "dataset[:10]"
   ]
  },
  {
   "cell_type": "code",
   "execution_count": 20,
   "metadata": {},
   "outputs": [
    {
     "data": {
      "text/plain": [
       "(236, 1)"
      ]
     },
     "execution_count": 20,
     "metadata": {},
     "output_type": "execute_result"
    }
   ],
   "source": [
    "dataset.shape"
   ]
  },
  {
   "cell_type": "raw",
   "metadata": {},
   "source": [
    "\n",
    "With time series data, the sequence of values is important. A simple method that we can use is to split the ordered dataset into train and test datasets. The code below calculates the index of the split point and separates the data into the training datasets with 75% of the observations that we can use to train our model, leaving the remaining 33% for testing the mode"
   ]
  },
  {
   "cell_type": "code",
   "execution_count": 21,
   "metadata": {},
   "outputs": [
    {
     "name": "stdout",
     "output_type": "stream",
     "text": [
      "177 59\n"
     ]
    }
   ],
   "source": [
    "# split into train and test sets\n",
    "train_size = int(len(dataset) * 0.75)\n",
    "test_size = len(dataset) - train_size\n",
    "train, test = dataset[0:train_size,:], dataset[train_size:len(dataset),:]\n",
    "print(len(train), len(test))"
   ]
  },
  {
   "cell_type": "code",
   "execution_count": 22,
   "metadata": {},
   "outputs": [],
   "source": [
    "#We can write a simple function to convert our single column of data into a two-column dataset:\n",
    "#the first column containing this month’s (t) passenger count and the second column containing next month’s (t+1) passenger count\n",
    "#, to be predicted.\n",
    "# convert an array of values into a dataset matrix\n",
    "def create_dataset(dataset, look_back=1):\n",
    "    dataX, dataY = [], []\n",
    "    for i in range(len(dataset)-look_back-1):\n",
    "        a = dataset[i:(i+look_back), 0]\n",
    "        dataX.append(a)\n",
    "        dataY.append(dataset[i + look_back, 0])\n",
    "    return np.array(dataX), np.array(dataY)"
   ]
  },
  {
   "cell_type": "code",
   "execution_count": 23,
   "metadata": {},
   "outputs": [],
   "source": [
    "# reshape into X=t and Y=t+1\n",
    "look_back = 1\n",
    "trainX, trainY = create_dataset(train, look_back)\n",
    "testX, testY = create_dataset(test, look_back)"
   ]
  },
  {
   "cell_type": "code",
   "execution_count": 24,
   "metadata": {},
   "outputs": [
    {
     "name": "stdout",
     "output_type": "stream",
     "text": [
      "Epoch 1/200\n",
      "88/88 - 0s - loss: 165718326771712.0000\n",
      "Epoch 2/200\n",
      "88/88 - 0s - loss: 136544434257920.0000\n",
      "Epoch 3/200\n",
      "88/88 - 0s - loss: 115089562664960.0000\n",
      "Epoch 4/200\n",
      "88/88 - 0s - loss: 98186089725952.0000\n",
      "Epoch 5/200\n",
      "88/88 - 0s - loss: 84914263293952.0000\n",
      "Epoch 6/200\n",
      "88/88 - 0s - loss: 74334634770432.0000\n",
      "Epoch 7/200\n",
      "88/88 - 0s - loss: 65835251007488.0000\n",
      "Epoch 8/200\n",
      "88/88 - 0s - loss: 58940243050496.0000\n",
      "Epoch 9/200\n",
      "88/88 - 0s - loss: 53313823309824.0000\n",
      "Epoch 10/200\n",
      "88/88 - 0s - loss: 48716417335296.0000\n",
      "Epoch 11/200\n",
      "88/88 - 0s - loss: 44799050645504.0000\n",
      "Epoch 12/200\n",
      "88/88 - 0s - loss: 41476931190784.0000\n",
      "Epoch 13/200\n",
      "88/88 - 0s - loss: 38517161852928.0000\n",
      "Epoch 14/200\n",
      "88/88 - 0s - loss: 35868089778176.0000\n",
      "Epoch 15/200\n",
      "88/88 - 0s - loss: 33353531129856.0000\n",
      "Epoch 16/200\n",
      "88/88 - 0s - loss: 30934250291200.0000\n",
      "Epoch 17/200\n",
      "88/88 - 0s - loss: 28496625664000.0000\n",
      "Epoch 18/200\n",
      "88/88 - 0s - loss: 25912003264512.0000\n",
      "Epoch 19/200\n",
      "88/88 - 0s - loss: 23180282429440.0000\n",
      "Epoch 20/200\n",
      "88/88 - 0s - loss: 20255044796416.0000\n",
      "Epoch 21/200\n",
      "88/88 - 0s - loss: 17301927624704.0000\n",
      "Epoch 22/200\n",
      "88/88 - 0s - loss: 14218725163008.0000\n",
      "Epoch 23/200\n",
      "88/88 - 0s - loss: 11281185636352.0000\n",
      "Epoch 24/200\n",
      "88/88 - 0s - loss: 8578956525568.0000\n",
      "Epoch 25/200\n",
      "88/88 - 0s - loss: 6233390055424.0000\n",
      "Epoch 26/200\n",
      "88/88 - 0s - loss: 4316139618304.0000\n",
      "Epoch 27/200\n",
      "88/88 - 0s - loss: 2798600585216.0000\n",
      "Epoch 28/200\n",
      "88/88 - 0s - loss: 1722520961024.0000\n",
      "Epoch 29/200\n",
      "88/88 - 0s - loss: 1013277720576.0000\n",
      "Epoch 30/200\n",
      "88/88 - 0s - loss: 567250649088.0000\n",
      "Epoch 31/200\n",
      "88/88 - 0s - loss: 297298624512.0000\n",
      "Epoch 32/200\n",
      "88/88 - 0s - loss: 149956444160.0000\n",
      "Epoch 33/200\n",
      "88/88 - 0s - loss: 71034888192.0000\n",
      "Epoch 34/200\n",
      "88/88 - 0s - loss: 31919054848.0000\n",
      "Epoch 35/200\n",
      "88/88 - 0s - loss: 13907236864.0000\n",
      "Epoch 36/200\n",
      "88/88 - 0s - loss: 5960942080.0000\n",
      "Epoch 37/200\n",
      "88/88 - 0s - loss: 2675013632.0000\n",
      "Epoch 38/200\n",
      "88/88 - 0s - loss: 1371304704.0000\n",
      "Epoch 39/200\n",
      "88/88 - 0s - loss: 883021504.0000\n",
      "Epoch 40/200\n",
      "88/88 - 0s - loss: 711374976.0000\n",
      "Epoch 41/200\n",
      "88/88 - 0s - loss: 655556800.0000\n",
      "Epoch 42/200\n",
      "88/88 - 0s - loss: 638759872.0000\n",
      "Epoch 43/200\n",
      "88/88 - 0s - loss: 633592384.0000\n",
      "Epoch 44/200\n",
      "88/88 - 0s - loss: 631026816.0000\n",
      "Epoch 45/200\n",
      "88/88 - 0s - loss: 631153984.0000\n",
      "Epoch 46/200\n",
      "88/88 - 0s - loss: 632773760.0000\n",
      "Epoch 47/200\n",
      "88/88 - 0s - loss: 630846720.0000\n",
      "Epoch 48/200\n",
      "88/88 - 0s - loss: 631380928.0000\n",
      "Epoch 49/200\n",
      "88/88 - 0s - loss: 631101568.0000\n",
      "Epoch 50/200\n",
      "88/88 - 0s - loss: 631171456.0000\n",
      "Epoch 51/200\n",
      "88/88 - 0s - loss: 630338176.0000\n",
      "Epoch 52/200\n",
      "88/88 - 0s - loss: 630804160.0000\n",
      "Epoch 53/200\n",
      "88/88 - 0s - loss: 631180544.0000\n",
      "Epoch 54/200\n",
      "88/88 - 0s - loss: 630839168.0000\n",
      "Epoch 55/200\n",
      "88/88 - 0s - loss: 631477184.0000\n",
      "Epoch 56/200\n",
      "88/88 - 0s - loss: 632577280.0000\n",
      "Epoch 57/200\n",
      "88/88 - 0s - loss: 631463616.0000\n",
      "Epoch 58/200\n",
      "88/88 - 0s - loss: 632311104.0000\n",
      "Epoch 59/200\n",
      "88/88 - 0s - loss: 632831360.0000\n",
      "Epoch 60/200\n",
      "88/88 - 0s - loss: 631613952.0000\n",
      "Epoch 61/200\n",
      "88/88 - 0s - loss: 630688576.0000\n",
      "Epoch 62/200\n",
      "88/88 - 0s - loss: 630843968.0000\n",
      "Epoch 63/200\n",
      "88/88 - 0s - loss: 632031552.0000\n",
      "Epoch 64/200\n",
      "88/88 - 0s - loss: 632475776.0000\n",
      "Epoch 65/200\n",
      "88/88 - 0s - loss: 633145472.0000\n",
      "Epoch 66/200\n",
      "88/88 - 0s - loss: 632267904.0000\n",
      "Epoch 67/200\n",
      "88/88 - 0s - loss: 631626496.0000\n",
      "Epoch 68/200\n",
      "88/88 - 0s - loss: 631733504.0000\n",
      "Epoch 69/200\n",
      "88/88 - 0s - loss: 634025664.0000\n",
      "Epoch 70/200\n",
      "88/88 - 0s - loss: 632105984.0000\n",
      "Epoch 71/200\n",
      "88/88 - 0s - loss: 633973696.0000\n",
      "Epoch 72/200\n",
      "88/88 - 0s - loss: 632593536.0000\n",
      "Epoch 73/200\n",
      "88/88 - 0s - loss: 632582720.0000\n",
      "Epoch 74/200\n",
      "88/88 - 0s - loss: 633080640.0000\n",
      "Epoch 75/200\n",
      "88/88 - 0s - loss: 636325120.0000\n",
      "Epoch 76/200\n",
      "88/88 - 0s - loss: 631727680.0000\n",
      "Epoch 77/200\n",
      "88/88 - 0s - loss: 633289408.0000\n",
      "Epoch 78/200\n",
      "88/88 - 0s - loss: 632536704.0000\n",
      "Epoch 79/200\n",
      "88/88 - 0s - loss: 632638080.0000\n",
      "Epoch 80/200\n",
      "88/88 - 0s - loss: 635586304.0000\n",
      "Epoch 81/200\n",
      "88/88 - 0s - loss: 633870208.0000\n",
      "Epoch 82/200\n",
      "88/88 - 0s - loss: 633430656.0000\n",
      "Epoch 83/200\n",
      "88/88 - 0s - loss: 632968576.0000\n",
      "Epoch 84/200\n",
      "88/88 - 0s - loss: 634570304.0000\n",
      "Epoch 85/200\n",
      "88/88 - 0s - loss: 641206720.0000\n",
      "Epoch 86/200\n",
      "88/88 - 0s - loss: 639041472.0000\n",
      "Epoch 87/200\n",
      "88/88 - 0s - loss: 641063040.0000\n",
      "Epoch 88/200\n",
      "88/88 - 0s - loss: 632262464.0000\n",
      "Epoch 89/200\n",
      "88/88 - 0s - loss: 641459136.0000\n",
      "Epoch 90/200\n",
      "88/88 - 0s - loss: 634239808.0000\n",
      "Epoch 91/200\n",
      "88/88 - 0s - loss: 638460608.0000\n",
      "Epoch 92/200\n",
      "88/88 - 0s - loss: 644168768.0000\n",
      "Epoch 93/200\n",
      "88/88 - 0s - loss: 634381056.0000\n",
      "Epoch 94/200\n",
      "88/88 - 0s - loss: 636922176.0000\n",
      "Epoch 95/200\n",
      "88/88 - 0s - loss: 643340608.0000\n",
      "Epoch 96/200\n",
      "88/88 - 0s - loss: 640267584.0000\n",
      "Epoch 97/200\n",
      "88/88 - 0s - loss: 642641920.0000\n",
      "Epoch 98/200\n",
      "88/88 - 0s - loss: 634545088.0000\n",
      "Epoch 99/200\n",
      "88/88 - 0s - loss: 642223424.0000\n",
      "Epoch 100/200\n",
      "88/88 - 0s - loss: 637857216.0000\n",
      "Epoch 101/200\n",
      "88/88 - 0s - loss: 642371776.0000\n",
      "Epoch 102/200\n",
      "88/88 - 0s - loss: 637323456.0000\n",
      "Epoch 103/200\n",
      "88/88 - 0s - loss: 633247360.0000\n",
      "Epoch 104/200\n",
      "88/88 - 0s - loss: 643561088.0000\n",
      "Epoch 105/200\n",
      "88/88 - 0s - loss: 659553792.0000\n",
      "Epoch 106/200\n",
      "88/88 - 0s - loss: 651516608.0000\n",
      "Epoch 107/200\n",
      "88/88 - 0s - loss: 648429120.0000\n",
      "Epoch 108/200\n",
      "88/88 - 0s - loss: 650664960.0000\n",
      "Epoch 109/200\n",
      "88/88 - 0s - loss: 646517440.0000\n",
      "Epoch 110/200\n",
      "88/88 - 0s - loss: 657543168.0000\n",
      "Epoch 111/200\n",
      "88/88 - 0s - loss: 652370112.0000\n",
      "Epoch 112/200\n",
      "88/88 - 0s - loss: 661924288.0000\n",
      "Epoch 113/200\n",
      "88/88 - 0s - loss: 644955392.0000\n",
      "Epoch 114/200\n",
      "88/88 - 0s - loss: 640350464.0000\n",
      "Epoch 115/200\n",
      "88/88 - 0s - loss: 644003968.0000\n",
      "Epoch 116/200\n",
      "88/88 - 0s - loss: 650531392.0000\n",
      "Epoch 117/200\n",
      "88/88 - 0s - loss: 659201408.0000\n",
      "Epoch 118/200\n",
      "88/88 - 0s - loss: 646826880.0000\n",
      "Epoch 119/200\n",
      "88/88 - 0s - loss: 640996224.0000\n",
      "Epoch 120/200\n",
      "88/88 - 0s - loss: 666554560.0000\n",
      "Epoch 121/200\n",
      "88/88 - 0s - loss: 639375360.0000\n",
      "Epoch 122/200\n",
      "88/88 - 0s - loss: 660019776.0000\n",
      "Epoch 123/200\n",
      "88/88 - 0s - loss: 662622016.0000\n",
      "Epoch 124/200\n",
      "88/88 - 0s - loss: 694204800.0000\n",
      "Epoch 125/200\n",
      "88/88 - 0s - loss: 701337408.0000\n",
      "Epoch 126/200\n",
      "88/88 - 0s - loss: 638932864.0000\n",
      "Epoch 127/200\n",
      "88/88 - 0s - loss: 648028800.0000\n",
      "Epoch 128/200\n",
      "88/88 - 0s - loss: 680702656.0000\n",
      "Epoch 129/200\n",
      "88/88 - 0s - loss: 671433280.0000\n",
      "Epoch 130/200\n",
      "88/88 - 0s - loss: 645276416.0000\n",
      "Epoch 131/200\n",
      "88/88 - 0s - loss: 647630144.0000\n",
      "Epoch 132/200\n",
      "88/88 - 0s - loss: 649489024.0000\n",
      "Epoch 133/200\n",
      "88/88 - 0s - loss: 659207744.0000\n",
      "Epoch 134/200\n",
      "88/88 - 0s - loss: 664544192.0000\n",
      "Epoch 135/200\n",
      "88/88 - 0s - loss: 666758656.0000\n",
      "Epoch 136/200\n",
      "88/88 - 0s - loss: 694701184.0000\n",
      "Epoch 137/200\n",
      "88/88 - 0s - loss: 711284480.0000\n",
      "Epoch 138/200\n",
      "88/88 - 0s - loss: 672068032.0000\n",
      "Epoch 139/200\n",
      "88/88 - 0s - loss: 732007872.0000\n",
      "Epoch 140/200\n",
      "88/88 - 0s - loss: 668214272.0000\n",
      "Epoch 141/200\n",
      "88/88 - 0s - loss: 680561536.0000\n",
      "Epoch 142/200\n",
      "88/88 - 0s - loss: 694278016.0000\n",
      "Epoch 143/200\n",
      "88/88 - 0s - loss: 704311040.0000\n",
      "Epoch 144/200\n",
      "88/88 - 0s - loss: 670665664.0000\n",
      "Epoch 145/200\n",
      "88/88 - 0s - loss: 731330304.0000\n",
      "Epoch 146/200\n",
      "88/88 - 0s - loss: 662165760.0000\n",
      "Epoch 147/200\n",
      "88/88 - 0s - loss: 688247104.0000\n",
      "Epoch 148/200\n",
      "88/88 - 0s - loss: 697069952.0000\n",
      "Epoch 149/200\n",
      "88/88 - 0s - loss: 652240512.0000\n",
      "Epoch 150/200\n",
      "88/88 - 0s - loss: 691332288.0000\n",
      "Epoch 151/200\n",
      "88/88 - 0s - loss: 693222784.0000\n",
      "Epoch 152/200\n",
      "88/88 - 0s - loss: 689735872.0000\n",
      "Epoch 153/200\n",
      "88/88 - 0s - loss: 661009920.0000\n",
      "Epoch 154/200\n",
      "88/88 - 0s - loss: 737729728.0000\n",
      "Epoch 155/200\n",
      "88/88 - 0s - loss: 780939200.0000\n",
      "Epoch 156/200\n",
      "88/88 - 0s - loss: 786487232.0000\n",
      "Epoch 157/200\n",
      "88/88 - 0s - loss: 670772224.0000\n",
      "Epoch 158/200\n",
      "88/88 - 0s - loss: 706156096.0000\n",
      "Epoch 159/200\n",
      "88/88 - 0s - loss: 712854656.0000\n",
      "Epoch 160/200\n",
      "88/88 - 0s - loss: 717480576.0000\n",
      "Epoch 161/200\n",
      "88/88 - 0s - loss: 644682752.0000\n",
      "Epoch 162/200\n",
      "88/88 - 0s - loss: 707416704.0000\n",
      "Epoch 163/200\n",
      "88/88 - 0s - loss: 656298752.0000\n",
      "Epoch 164/200\n",
      "88/88 - 0s - loss: 725441280.0000\n",
      "Epoch 165/200\n",
      "88/88 - 0s - loss: 671062912.0000\n",
      "Epoch 166/200\n",
      "88/88 - 0s - loss: 728845376.0000\n",
      "Epoch 167/200\n",
      "88/88 - 0s - loss: 719860736.0000\n",
      "Epoch 168/200\n",
      "88/88 - 0s - loss: 693257088.0000\n",
      "Epoch 169/200\n",
      "88/88 - 0s - loss: 741363712.0000\n",
      "Epoch 170/200\n",
      "88/88 - 0s - loss: 702499264.0000\n"
     ]
    },
    {
     "name": "stdout",
     "output_type": "stream",
     "text": [
      "Epoch 171/200\n",
      "88/88 - 0s - loss: 743385984.0000\n",
      "Epoch 172/200\n",
      "88/88 - 0s - loss: 677918720.0000\n",
      "Epoch 173/200\n",
      "88/88 - 0s - loss: 734878784.0000\n",
      "Epoch 174/200\n",
      "88/88 - 0s - loss: 742430080.0000\n",
      "Epoch 175/200\n",
      "88/88 - 0s - loss: 753956544.0000\n",
      "Epoch 176/200\n",
      "88/88 - 0s - loss: 700328576.0000\n",
      "Epoch 177/200\n",
      "88/88 - 0s - loss: 696244480.0000\n",
      "Epoch 178/200\n",
      "88/88 - 0s - loss: 899847680.0000\n",
      "Epoch 179/200\n",
      "88/88 - 0s - loss: 669650240.0000\n",
      "Epoch 180/200\n",
      "88/88 - 0s - loss: 679877248.0000\n",
      "Epoch 181/200\n",
      "88/88 - 0s - loss: 676793920.0000\n",
      "Epoch 182/200\n",
      "88/88 - 0s - loss: 664663040.0000\n",
      "Epoch 183/200\n",
      "88/88 - 0s - loss: 685880832.0000\n",
      "Epoch 184/200\n",
      "88/88 - 0s - loss: 666763904.0000\n",
      "Epoch 185/200\n",
      "88/88 - 0s - loss: 788503104.0000\n",
      "Epoch 186/200\n",
      "88/88 - 0s - loss: 665798784.0000\n",
      "Epoch 187/200\n",
      "88/88 - 0s - loss: 722024704.0000\n",
      "Epoch 188/200\n",
      "88/88 - 0s - loss: 717490496.0000\n",
      "Epoch 189/200\n",
      "88/88 - 0s - loss: 806215744.0000\n",
      "Epoch 190/200\n",
      "88/88 - 0s - loss: 664934080.0000\n",
      "Epoch 191/200\n",
      "88/88 - 0s - loss: 691865280.0000\n",
      "Epoch 192/200\n",
      "88/88 - 0s - loss: 745255168.0000\n",
      "Epoch 193/200\n",
      "88/88 - 0s - loss: 755003904.0000\n",
      "Epoch 194/200\n",
      "88/88 - 0s - loss: 794472128.0000\n",
      "Epoch 195/200\n",
      "88/88 - 0s - loss: 656480128.0000\n",
      "Epoch 196/200\n",
      "88/88 - 0s - loss: 906510976.0000\n",
      "Epoch 197/200\n",
      "88/88 - 0s - loss: 681194496.0000\n",
      "Epoch 198/200\n",
      "88/88 - 0s - loss: 696304896.0000\n",
      "Epoch 199/200\n",
      "88/88 - 0s - loss: 759139136.0000\n",
      "Epoch 200/200\n",
      "88/88 - 0s - loss: 749321024.0000\n"
     ]
    },
    {
     "data": {
      "text/plain": [
       "<tensorflow.python.keras.callbacks.History at 0x222d7500748>"
      ]
     },
     "execution_count": 24,
     "metadata": {},
     "output_type": "execute_result"
    }
   ],
   "source": [
    "model = Sequential()\n",
    "model.add(Dense(8, input_dim=look_back, activation='relu'))\n",
    "model.add(Dense(1))\n",
    "model.compile(loss='mean_squared_error', optimizer='adam')\n",
    "model.fit(trainX, trainY, epochs=200, batch_size=2, verbose=2)"
   ]
  },
  {
   "cell_type": "code",
   "execution_count": 25,
   "metadata": {},
   "outputs": [
    {
     "name": "stdout",
     "output_type": "stream",
     "text": [
      "Train Score: 630101376.00 MSE (25101.82 RMSE)\n",
      "Test Score: 24061718528.00 MSE (155118.40 RMSE)\n"
     ]
    }
   ],
   "source": [
    "# Estimate model performance\n",
    "import math\n",
    "trainScore = model.evaluate(trainX, trainY, verbose=0)\n",
    "print('Train Score: %.2f MSE (%.2f RMSE)' % (trainScore, math.sqrt(trainScore)))\n",
    "testScore = model.evaluate(testX, testY, verbose=0)\n",
    "print('Test Score: %.2f MSE (%.2f RMSE)' % (testScore, math.sqrt(testScore)))"
   ]
  },
  {
   "cell_type": "code",
   "execution_count": 26,
   "metadata": {},
   "outputs": [
    {
     "data": {
      "image/png": "[encoded data removed]",
      "text/plain": [
       "<Figure size 432x288 with 1 Axes>"
      ]
     },
     "metadata": {
      "needs_background": "light"
     },
     "output_type": "display_data"
    }
   ],
   "source": [
    "# generate predictions for training\n",
    "trainPredict = model.predict(trainX)\n",
    "testPredict = model.predict(testX)\n",
    "# shift train predictions for plotting\n",
    "trainPredictPlot = np.empty_like(dataset)\n",
    "trainPredictPlot[:, :] = np.nan\n",
    "trainPredictPlot[look_back:len(trainPredict)+look_back, :] = trainPredict\n",
    "# shift test predictions for plotting\n",
    "testPredictPlot = np.empty_like(dataset)\n",
    "testPredictPlot[:, :] = np.nan\n",
    "testPredictPlot[len(trainPredict)+(look_back*2)+1:len(dataset)-1, :] = testPredict\n",
    "# plot baseline and predictions\n",
    "plt.plot(dataset)\n",
    "plt.plot(trainPredictPlot)\n",
    "plt.plot(testPredictPlot)\n",
    "plt.show()"
   ]
  }
 ],
 "metadata": {
  "kernelspec": {
   "display_name": "Python 3",
   "language": "python",
   "name": "python3"
  },
  "language_info": {
   "codemirror_mode": {
    "name": "ipython",
    "version": 3
   },
   "file_extension": ".py",
   "mimetype": "text/x-python",
   "name": "python",
   "nbconvert_exporter": "python",
   "pygments_lexer": "ipython3",
   "version": "3.7.4"
  }
 },
 "nbformat": 4,
 "nbformat_minor": 2
}
